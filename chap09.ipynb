{
  "cells": [
    {
      "cell_type": "markdown",
      "id": "418e407e",
      "metadata": {
        "id": "418e407e"
      },
      "source": [
        "The third edition of *Think Stats* is available now from [Bookshop.org](https://bookshop.org/a/98697/9781098190255) and [Amazon](https://amzn.to/42lmxwu) (those are affiliate links). If you are enjoying the free, online version, consider [buying me a coffee](https://buymeacoffee.com/allendowney)."
      ]
    },
    {
      "cell_type": "markdown",
      "id": "d8c1d5d2",
      "metadata": {
        "id": "d8c1d5d2",
        "tags": []
      },
      "source": [
        "(chapter_hypothesis_testing)=\n",
        "# Hypothesis Testing\n",
        "\n",
        "In the datasets we have explored in this book, we've seen differences between groups of people -- and penguins -- correlations between variables, and slopes of regression lines.\n",
        "Results like these are called **observed effects** because they appear in a sample, as contrasted with actual effects in the population, which we usually can't observe directly.\n",
        "When we see an apparent effect, we should consider whether it is likely to be present in the larger population or whether it might appear in the sample by chance.\n",
        "\n",
        "There are several ways to formulate this question, including Fisher null hypothesis testing, Neyman-Pearson decision theory, and Bayesian hypothesis testing.\n",
        "What I present here is a mixture of these approaches that is often used in practice."
      ]
    },
    {
      "cell_type": "markdown",
      "id": "39b47428",
      "metadata": {
        "id": "39b47428",
        "tags": []
      },
      "source": [
        "[Click here to run this notebook on Colab](https://colab.research.google.com/github/AllenDowney/ThinkStats/blob/v3/nb/chap09.ipynb)."
      ]
    },
    {
      "cell_type": "code",
      "execution_count": 1,
      "id": "30615f97",
      "metadata": {
        "id": "30615f97",
        "tags": []
      },
      "outputs": [],
      "source": [
        "from os.path import basename, exists\n",
        "\n",
        "\n",
        "def download(url):\n",
        "    filename = basename(url)\n",
        "    if not exists(filename):\n",
        "        from urllib.request import urlretrieve\n",
        "\n",
        "        local, _ = urlretrieve(url, filename)\n",
        "        print(\"Downloaded \" + local)\n",
        "\n",
        "\n",
        "download(\"https://github.com/AllenDowney/ThinkStats/raw/v3/nb/thinkstats.py\")"
      ]
    },
    {
      "cell_type": "code",
      "execution_count": 2,
      "id": "708e5a1e",
      "metadata": {
        "id": "708e5a1e",
        "tags": []
      },
      "outputs": [],
      "source": [
        "try:\n",
        "    import empiricaldist\n",
        "except ImportError:\n",
        "    %pip install empiricaldist"
      ]
    },
    {
      "cell_type": "code",
      "execution_count": 3,
      "id": "684b56bd",
      "metadata": {
        "id": "684b56bd",
        "tags": []
      },
      "outputs": [],
      "source": [
        "import numpy as np\n",
        "import pandas as pd\n",
        "import matplotlib.pyplot as plt\n",
        "\n",
        "from thinkstats import decorate"
      ]
    },
    {
      "cell_type": "markdown",
      "id": "8bc51b88",
      "metadata": {
        "id": "8bc51b88"
      },
      "source": [
        "## Flipping Coins\n",
        "\n",
        "We'll start with a simple example, based on an example in David MacKay's book, *Information Theory, Inference, and Learning Algorithms*.\n",
        "\n",
        "When Euro coins were introduced in 2002, a curious coin enthusiast spun a Belgian one-Euro coin on edge 250 times and noted that it landed with the heads side up 140 times and tails side up 110 times.\n",
        "If the coin is perfectly balanced, we expect only 125 heads, so this data suggests the coin is biased.\n",
        "On the other hand, we don't expect to get exactly 125 heads every time, so it's possible that the coin is actually fair, and the apparent deviation from the expected value is due to chance.\n",
        "To see whether that's plausible, we can perform a hypothesis test.\n",
        "\n",
        "We'll use the following function to compute the absolute difference between the observed number and the expected number if the coin is fair."
      ]
    },
    {
      "cell_type": "markdown",
      "id": "b6b1bc60",
      "metadata": {},
      "source": [
        "- 기대값: 공정한 동전이라면 앞면이 125번 나올 것으로 예상\n",
        "- 관찰 결과: 하지만 실제로는 140번이 나와, 동전이 biased되었을 수 있다는 것을 시사\n"
      ]
    },
    {
      "cell_type": "code",
      "execution_count": null,
      "id": "eca557aa",
      "metadata": {
        "id": "eca557aa"
      },
      "outputs": [],
      "source": [
        "n = 250\n",
        "p = 0.5\n",
        "\n",
        "def abs_deviation(heads):\n",
        "    expected = n * p\n",
        "    return np.abs(heads - expected)"
      ]
    },
    {
      "cell_type": "markdown",
      "id": "b69024b6",
      "metadata": {
        "id": "b69024b6"
      },
      "source": [
        "In the observed data, this deviation is 15."
      ]
    },
    {
      "cell_type": "code",
      "execution_count": 5,
      "id": "39a9fa58",
      "metadata": {
        "id": "39a9fa58"
      },
      "outputs": [
        {
          "data": {
            "text/plain": [
              "15.0"
            ]
          },
          "execution_count": 5,
          "metadata": {},
          "output_type": "execute_result"
        }
      ],
      "source": [
        "heads = 140\n",
        "tails = 110\n",
        "\n",
        "observed_stat = abs_deviation(heads)\n",
        "observed_stat"
      ]
    },
    {
      "cell_type": "markdown",
      "id": "ca821d5e",
      "metadata": {
        "id": "ca821d5e"
      },
      "source": [
        "If the coin is actually fair, we can simulate the coin-spinning experiment by generating a sequence of random strings -- either `'H'` or `'T'` with equal probability -- and counting the number of times `'H'` appears."
      ]
    },
    {
      "cell_type": "code",
      "execution_count": 6,
      "id": "a3ecbcc8",
      "metadata": {
        "id": "a3ecbcc8"
      },
      "outputs": [],
      "source": [
        "def simulate_flips():\n",
        "    flips = np.random.choice([\"H\", \"T\"], size=n)\n",
        "    heads = np.sum(flips == \"H\")\n",
        "    return heads"
      ]
    },
    {
      "cell_type": "markdown",
      "id": "3d2be8aa",
      "metadata": {
        "id": "3d2be8aa"
      },
      "source": [
        "Each time we call this function, we get the outcome of a simulated experiment."
      ]
    },
    {
      "cell_type": "code",
      "execution_count": 7,
      "id": "63868cdb",
      "metadata": {
        "id": "63868cdb",
        "tags": []
      },
      "outputs": [],
      "source": [
        "np.random.seed(1)"
      ]
    },
    {
      "cell_type": "code",
      "execution_count": 8,
      "id": "a7da09b2",
      "metadata": {
        "id": "a7da09b2"
      },
      "outputs": [
        {
          "data": {
            "text/plain": [
              "119"
            ]
          },
          "execution_count": 8,
          "metadata": {},
          "output_type": "execute_result"
        }
      ],
      "source": [
        "simulate_flips()"
      ]
    },
    {
      "cell_type": "markdown",
      "id": "9a8e4bee",
      "metadata": {
        "id": "9a8e4bee"
      },
      "source": [
        "The following loop simulates the experiment many times, computes the deviation for each one, and uses a list comprehension to collect the results in a list."
      ]
    },
    {
      "cell_type": "code",
      "execution_count": 9,
      "id": "8e9ddd8d",
      "metadata": {
        "id": "8e9ddd8d"
      },
      "outputs": [],
      "source": [
        "simulated_stats = [abs_deviation(simulate_flips()) for i in range(10001)]"
      ]
    },
    {
      "cell_type": "markdown",
      "id": "8a8a0734",
      "metadata": {
        "id": "8a8a0734"
      },
      "source": [
        "The result is a sample from the distribution of deviations under the assumption that the coin is fair.\n",
        "Here's what the distribution of these values looks like."
      ]
    },
    {
      "cell_type": "code",
      "execution_count": 10,
      "id": "23878b6f",
      "metadata": {
        "id": "23878b6f"
      },
      "outputs": [
        {
          "data": {
            "image/png": "[encoded data removed]",
            "text/plain": [
              "<Figure size 450x262.5 with 1 Axes>"
            ]
          },
          "metadata": {},
          "output_type": "display_data"
        }
      ],
      "source": [
        "from empiricaldist import Pmf\n",
        "\n",
        "pmf_effects = Pmf.from_seq(simulated_stats)\n",
        "pmf_effects.bar()\n",
        "\n",
        "decorate(xlabel=\"Absolute deviation\", ylabel=\"PMF\")"
      ]
    },
    {
      "cell_type": "markdown",
      "id": "f71fbbfd",
      "metadata": {
        "id": "f71fbbfd"
      },
      "source": [
        "Values near 0 are the most common; values greater than 10 are less common.\n",
        "Remembering that the deviation in the observed data is 15, we see that deviations of that magnitude are rare, but not impossible.\n",
        "In this example, the simulated results equal or exceed 15 about 7.1% of the time."
      ]
    },
    {
      "cell_type": "code",
      "execution_count": 11,
      "id": "5f9d5d10",
      "metadata": {
        "id": "5f9d5d10"
      },
      "outputs": [
        {
          "data": {
            "text/plain": [
              "7.079292070792921"
            ]
          },
          "execution_count": 11,
          "metadata": {},
          "output_type": "execute_result"
        }
      ],
      "source": [
        "(np.array(simulated_stats) >= 15).mean() * 100"
      ]
    },
    {
      "cell_type": "markdown",
      "id": "4e2c7107",
      "metadata": {
        "id": "4e2c7107"
      },
      "source": [
        "So, if the coin is fair, we expect a deviation as big as the one we saw about 7.1% of the time, just by chance.\n",
        "\n",
        "We can conclude that an effect of this size is not common, but it is certainly not impossible, even if the coin is fair.\n",
        "On the basis of this experiment, we can't rule out the possibility that the coin is fair.\n",
        "\n",
        "This example demonstrates the logic of statistical hypothesis testing.\n",
        "\n",
        "* We started with an observation, 140 heads out of 250 spins, and the hypothesis that the coin is biased -- that is, that the probability of heads differs from 50%.\n",
        "\n",
        "* We chose a **test statistic** that quantifies the size of the observed effect. In this example, the test statistic is the absolute deviation from the expected outcome.\n",
        "\n",
        "* We defined a **null hypothesis**, which is a model based on the assumption that the observed effect is due to chance. In this example, the null hypothesis is that the coin is fair.\n",
        "\n",
        "* Next, we computed a **p-value**, which is the probability of seeing the observed effect if the null hypothesis is true. In this example, the p-value is the probability of a deviation as big as 15 or bigger.\n",
        "\n",
        "The last step is to interpret the result.\n",
        "If the p-value is small, we conclude that the effect would be unlikely to happen by chance.\n",
        "If it is large, we conclude that the effect could plausibly be explained by chance.\n",
        "And if it falls somewhere in the middle, as in this example, we can say that the effect is unlikely to happen by chance, but we can't rule out the possibility.\n",
        "\n",
        "All hypothesis tests are based on these elements -- a test statistic, a null hypothesis, and a p-value."
      ]
    },
    {
      "cell_type": "markdown",
      "id": "d0cd3e27",
      "metadata": {
        "id": "d0cd3e27",
        "tags": []
      },
      "source": [
        "(section_diff_means)=\n",
        "## Testing a Difference in Means\n",
        "\n",
        "In the NSFG data, we saw that the average pregnancy length for first babies is slightly longer than for other babies.\n",
        "Now let's see if that difference could be due to chance."
      ]
    },
    {
      "cell_type": "markdown",
      "id": "610b9e16",
      "metadata": {
        "id": "610b9e16",
        "tags": []
      },
      "source": [
        "The following cells download the data and install `statadict`, which we need to read the data."
      ]
    },
    {
      "cell_type": "code",
      "execution_count": 12,
      "id": "aca382ad",
      "metadata": {
        "id": "aca382ad",
        "tags": []
      },
      "outputs": [],
      "source": [
        "download(\"https://github.com/AllenDowney/ThinkStats/raw/v3/nb/nsfg.py\")\n",
        "download(\"https://github.com/AllenDowney/ThinkStats/raw/v3/data/2002FemPreg.dct\")\n",
        "download(\"https://github.com/AllenDowney/ThinkStats/raw/v3/data/2002FemPreg.dat.gz\")"
      ]
    },
    {
      "cell_type": "code",
      "execution_count": 13,
      "id": "6c093aed",
      "metadata": {
        "id": "6c093aed",
        "tags": []
      },
      "outputs": [],
      "source": [
        "try:\n",
        "    import statadict\n",
        "except ImportError:\n",
        "    %pip install statadict"
      ]
    },
    {
      "cell_type": "markdown",
      "id": "0495e1e4",
      "metadata": {
        "id": "0495e1e4"
      },
      "source": [
        "The function `get_nsfg_groups` reads the data, selects live births, and groups live births into first babies and others."
      ]
    },
    {
      "cell_type": "code",
      "execution_count": 14,
      "id": "bbb9b2bd",
      "metadata": {
        "id": "bbb9b2bd"
      },
      "outputs": [],
      "source": [
        "from nsfg import get_nsfg_groups\n",
        "\n",
        "live, firsts, others = get_nsfg_groups()"
      ]
    },
    {
      "cell_type": "markdown",
      "id": "6a99eb55",
      "metadata": {
        "id": "6a99eb55"
      },
      "source": [
        "Now we can select pregnancy lengths, in weeks, for both groups."
      ]
    },
    {
      "cell_type": "code",
      "execution_count": 15,
      "id": "f8038bfb",
      "metadata": {
        "id": "f8038bfb"
      },
      "outputs": [],
      "source": [
        "data = firsts[\"prglngth\"].values, others[\"prglngth\"].values"
      ]
    },
    {
      "cell_type": "markdown",
      "id": "22b93fa5",
      "metadata": {
        "id": "22b93fa5"
      },
      "source": [
        "The following function takes the data as a tuple of two sequences, and computes the absolute difference in means."
      ]
    },
    {
      "cell_type": "code",
      "execution_count": 16,
      "id": "29e7d525",
      "metadata": {
        "id": "29e7d525"
      },
      "outputs": [],
      "source": [
        "def abs_diff_means(data):\n",
        "    group1, group2 = data\n",
        "    diff = np.mean(group1) - np.mean(group2)\n",
        "    return np.abs(diff)"
      ]
    },
    {
      "cell_type": "markdown",
      "id": "979f893e",
      "metadata": {
        "id": "979f893e"
      },
      "source": [
        "Between first babies and others, the observed difference in pregnancy length is 0.078 weeks."
      ]
    },
    {
      "cell_type": "code",
      "execution_count": 17,
      "id": "389cb8fe",
      "metadata": {
        "id": "389cb8fe"
      },
      "outputs": [
        {
          "data": {
            "text/plain": [
              "0.07803726677754952"
            ]
          },
          "execution_count": 17,
          "metadata": {},
          "output_type": "execute_result"
        }
      ],
      "source": [
        "observed_diff = abs_diff_means(data)\n",
        "observed_diff"
      ]
    },
    {
      "cell_type": "markdown",
      "id": "74756058",
      "metadata": {
        "id": "74756058"
      },
      "source": [
        "So the hypothesis we'll test is whether pregnancy length is generally longer for first babies.\n",
        "The null hypothesis is that pregnancy lengths are actually the same for both groups, and the apparent difference is due to chance.\n",
        "If pregnancy lengths are the same for both groups, we can combine the two groups into a single pool.\n",
        "To simulate the experiment, we can use the NumPy function `shuffle` to put the pooled values in random order, and then use slice indexes to select two groups with the same sizes as the original."
      ]
    },
    {
      "cell_type": "code",
      "execution_count": 18,
      "id": "213b5f25",
      "metadata": {
        "id": "213b5f25"
      },
      "outputs": [],
      "source": [
        "def simulate_groups(data):\n",
        "    group1, group2 = data\n",
        "    n, m = len(group1), len(group2)\n",
        "\n",
        "    pool = np.hstack(data)\n",
        "    np.random.shuffle(pool)\n",
        "    return pool[:n], pool[-m:]"
      ]
    },
    {
      "cell_type": "markdown",
      "id": "244fdf24",
      "metadata": {
        "id": "244fdf24"
      },
      "source": [
        "Each time we call this function, it returns a tuple of sequences, which we can pass to `abs_diff_means`."
      ]
    },
    {
      "cell_type": "code",
      "execution_count": 19,
      "id": "0156bc24",
      "metadata": {
        "id": "0156bc24"
      },
      "outputs": [
        {
          "data": {
            "text/plain": [
              "0.031193045602279312"
            ]
          },
          "execution_count": 19,
          "metadata": {},
          "output_type": "execute_result"
        }
      ],
      "source": [
        "abs_diff_means(simulate_groups(data))"
      ]
    },
    {
      "cell_type": "markdown",
      "id": "6af5f548",
      "metadata": {
        "id": "6af5f548"
      },
      "source": [
        "The following loop simulates the experiment many times and computes the difference in means for each simulated dataset."
      ]
    },
    {
      "cell_type": "code",
      "execution_count": 20,
      "id": "d9f6f902",
      "metadata": {
        "id": "d9f6f902"
      },
      "outputs": [],
      "source": [
        "simulated_diffs = [abs_diff_means(simulate_groups(data)) for i in range(1001)]"
      ]
    },
    {
      "cell_type": "markdown",
      "id": "c2714eb6",
      "metadata": {
        "id": "c2714eb6"
      },
      "source": [
        "To visualize the results, we'll use the following function, which takes a sample of simulated results and makes a `Pmf` object that approximates its distribution."
      ]
    },
    {
      "cell_type": "code",
      "execution_count": 21,
      "id": "bd54b2db",
      "metadata": {
        "id": "bd54b2db"
      },
      "outputs": [],
      "source": [
        "from scipy.stats import gaussian_kde\n",
        "from empiricaldist import Pmf\n",
        "\n",
        "\n",
        "def make_pmf(sample, low, high):\n",
        "    kde = gaussian_kde(sample)\n",
        "    qs = np.linspace(low, high, 201)\n",
        "    ps = kde(qs)\n",
        "    return Pmf(ps, qs)"
      ]
    },
    {
      "cell_type": "markdown",
      "id": "4c97730e",
      "metadata": {
        "id": "4c97730e"
      },
      "source": [
        "We'll also use this function, which fills in the tail of the distribution."
      ]
    },
    {
      "cell_type": "code",
      "execution_count": 22,
      "id": "a10aa249",
      "metadata": {
        "id": "a10aa249"
      },
      "outputs": [],
      "source": [
        "from thinkstats import underride\n",
        "\n",
        "\n",
        "def fill_tail(pmf, observed, side, **options):\n",
        "    \"\"\"Fill the area under a PMF, right or left of an observed value.\"\"\"\n",
        "    options = underride(options, alpha=0.3)\n",
        "\n",
        "    if side == \"right\":\n",
        "        condition = pmf.qs >= observed\n",
        "    elif side == \"left\":\n",
        "        condition = pmf.qs <= observed\n",
        "\n",
        "    series = pmf[condition]\n",
        "    plt.fill_between(series.index, 0, series, **options)"
      ]
    },
    {
      "cell_type": "markdown",
      "id": "5132a2a4",
      "metadata": {
        "id": "5132a2a4"
      },
      "source": [
        "Here's what the distribution of the simulated results looks like.\n",
        "The shaded region shows the cases where the difference in means under the null hypothesis exceeds the observed difference.\n",
        "The area of this region is the p-value."
      ]
    },
    {
      "cell_type": "code",
      "execution_count": 23,
      "id": "f631723e",
      "metadata": {
        "id": "f631723e"
      },
      "outputs": [
        {
          "data": {
            "image/png": "[encoded data removed]",
            "text/plain": [
              "<Figure size 450x262.5 with 1 Axes>"
            ]
          },
          "metadata": {},
          "output_type": "display_data"
        }
      ],
      "source": [
        "pmf = make_pmf(simulated_diffs, 0, 0.2)\n",
        "pmf.plot()\n",
        "fill_tail(pmf, observed_diff, \"right\")\n",
        "decorate(xlabel=\"Absolute difference in means (weeks)\", ylabel=\"Density\")"
      ]
    },
    {
      "cell_type": "markdown",
      "id": "acee8e8f",
      "metadata": {},
      "source": [
        "- 파란색 부분 : p-value(유의확률), 실제로는 차이가 없는데, 우연히 우리가 관찰한 것만큼의 차이가 발생할 확률"
      ]
    },
    {
      "cell_type": "markdown",
      "id": "4e15b68d",
      "metadata": {},
      "source": [
        "- 시뮬레이션에서 나타난 차이가 실제 데이터에서 관찰된 차이보다 크거나 같은 경우"
      ]
    },
    {
      "cell_type": "markdown",
      "id": "9332d42d",
      "metadata": {
        "id": "9332d42d"
      },
      "source": [
        "The following function computes the p-value, which is the fraction of simulated values that are as big or bigger than the observed value."
      ]
    },
    {
      "cell_type": "code",
      "execution_count": 24,
      "id": "74e7cda1",
      "metadata": {
        "id": "74e7cda1"
      },
      "outputs": [],
      "source": [
        "def compute_p_value(simulated, observed):\n",
        "    \"\"\"Fraction of simulated values as big or bigger than the observed value.\"\"\"\n",
        "    return (np.asarray(simulated) >= observed).mean()"
      ]
    },
    {
      "cell_type": "markdown",
      "id": "c8f6d773",
      "metadata": {
        "id": "c8f6d773"
      },
      "source": [
        "In this example, the p-value is about 18%, which means it is plausible that a difference as big as 0.078 weeks could happen by chance."
      ]
    },
    {
      "cell_type": "code",
      "execution_count": 25,
      "id": "275305f0",
      "metadata": {
        "id": "275305f0"
      },
      "outputs": [
        {
          "data": {
            "text/plain": [
              "0.1838161838161838"
            ]
          },
          "execution_count": 25,
          "metadata": {},
          "output_type": "execute_result"
        }
      ],
      "source": [
        "compute_p_value(simulated_diffs, observed_diff)"
      ]
    },
    {
      "cell_type": "markdown",
      "id": "75a3b008",
      "metadata": {},
      "source": [
        "-> 0.078의 차이가 우연으로 나타날 확률이 18%이므로(꽤 높음), 귀무가설을 기각하지 못함"
      ]
    },
    {
      "cell_type": "markdown",
      "id": "102b66e6",
      "metadata": {
        "id": "102b66e6"
      },
      "source": [
        "Based on this result, we can't be sure that pregnancy lengths are generally longer for first babies -- it's possible that the difference in this dataset is due to chance.\n",
        "\n",
        "Notice that we've seen the same elements in both examples of hypothesis testing: a test statistic, a null hypothesis, and a model of the null hypothesis.\n",
        "In this example, the test statistic is the absolute difference in the means.\n",
        "The null hypothesis is that the distribution of pregnancy lengths is actually the same in both groups.\n",
        "And we modeled the null hypothesis by combining the data from both groups into a single pool, shuffling the pool, and splitting it into two groups with the same sizes as the originals.\n",
        "This process is called **permutation**, which is another word for shuffling.\n",
        "\n",
        "This computational approach to hypothesis testing makes it easy to combine these elements to test different statistics."
      ]
    },
    {
      "cell_type": "markdown",
      "id": "cd343faf",
      "metadata": {
        "id": "cd343faf"
      },
      "source": [
        "## Other Test Statistics\n",
        "\n",
        "We might wonder whether pregnancy lengths for first babies are not just longer, but maybe more variable.\n",
        "To test that hypothesis, we can use as a test statistic the absolute difference between the standard deviations of the two groups.\n",
        "The following function computes this test statistic."
      ]
    },
    {
      "cell_type": "code",
      "execution_count": 26,
      "id": "bf26e145",
      "metadata": {
        "id": "bf26e145"
      },
      "outputs": [],
      "source": [
        "def abs_diff_stds(data):\n",
        "    group1, group2 = data\n",
        "    diff = np.std(group1) - np.std(group2)\n",
        "    return np.abs(diff)"
      ]
    },
    {
      "cell_type": "markdown",
      "id": "6113fe16",
      "metadata": {
        "id": "6113fe16"
      },
      "source": [
        "In the NSFG dataset, the difference in standard deviations is about 0.18."
      ]
    },
    {
      "cell_type": "code",
      "execution_count": 27,
      "id": "7e239d63",
      "metadata": {
        "id": "7e239d63"
      },
      "outputs": [
        {
          "data": {
            "text/plain": [
              "0.17600895913991677"
            ]
          },
          "execution_count": 27,
          "metadata": {},
          "output_type": "execute_result"
        }
      ],
      "source": [
        "observed_diff = abs_diff_stds(data)\n",
        "observed_diff"
      ]
    },
    {
      "cell_type": "markdown",
      "id": "536705f5",
      "metadata": {
        "id": "536705f5"
      },
      "source": [
        "To see whether this difference might be due to chance, we can use permutation again.\n",
        "The following loop simulates the null hypothesis many times and computes the difference in standard deviation for each simulated dataset."
      ]
    },
    {
      "cell_type": "code",
      "execution_count": 28,
      "id": "77cb5b1a",
      "metadata": {
        "id": "77cb5b1a"
      },
      "outputs": [],
      "source": [
        "simulated_diffs = [abs_diff_stds(simulate_groups(data)) for i in range(1001)]"
      ]
    },
    {
      "cell_type": "markdown",
      "id": "1fab987e",
      "metadata": {
        "id": "1fab987e"
      },
      "source": [
        "Here's what the distribution of the results looks like.\n",
        "Again, the shaded region shows where the test statistic under the null hypothesis exceeds the observed difference."
      ]
    },
    {
      "cell_type": "code",
      "execution_count": 29,
      "id": "1ef21386",
      "metadata": {
        "id": "1ef21386"
      },
      "outputs": [
        {
          "data": {
            "image/png": "[encoded data removed]",
            "text/plain": [
              "<Figure size 450x262.5 with 1 Axes>"
            ]
          },
          "metadata": {},
          "output_type": "display_data"
        }
      ],
      "source": [
        "pmf = make_pmf(simulated_diffs, 0, 0.5)\n",
        "pmf.plot()\n",
        "fill_tail(pmf, observed_diff, \"right\")\n",
        "decorate(xlabel=\"Absolute difference in std (weeks)\", ylabel=\"Density\")"
      ]
    },
    {
      "cell_type": "markdown",
      "id": "a9ca94ff",
      "metadata": {
        "id": "a9ca94ff"
      },
      "source": [
        "We can estimate the area of this region by computing the fraction of results that are as big or bigger than the observed difference."
      ]
    },
    {
      "cell_type": "code",
      "execution_count": 30,
      "id": "ef1aa33e",
      "metadata": {
        "id": "ef1aa33e"
      },
      "outputs": [
        {
          "data": {
            "text/plain": [
              "0.17082917082917082"
            ]
          },
          "execution_count": 30,
          "metadata": {},
          "output_type": "execute_result"
        }
      ],
      "source": [
        "compute_p_value(simulated_diffs, observed_diff)"
      ]
    },
    {
      "cell_type": "markdown",
      "id": "8112432b",
      "metadata": {
        "id": "8112432b"
      },
      "source": [
        "The p-value is about 0.17, so it is plausible that we could see a difference this big even if the two groups are the same.\n",
        "In conclusion, we can't be sure that pregnancy lengths are generally more variable for first babies -- the difference we see in this dataset could be due to chance."
      ]
    },
    {
      "cell_type": "markdown",
      "id": "7efb6d21",
      "metadata": {
        "id": "7efb6d21",
        "tags": []
      },
      "source": [
        "(section_test_correlation)=\n",
        "## Testing a Correlation\n",
        "\n",
        "We can use the same framework to test correlations.\n",
        "For example, in the NSFG data set, there is a correlation between birth weight and mother's age -- older mothers have heavier babies, on average.\n",
        "But could this effect be due to chance?\n",
        "\n",
        "To find out, we'll start by preparing the data.\n",
        "From live births, we'll select cases where the age of the mother and birth weight are known."
      ]
    },
    {
      "cell_type": "code",
      "execution_count": 31,
      "id": "b4c66a66",
      "metadata": {
        "id": "b4c66a66"
      },
      "outputs": [
        {
          "data": {
            "text/plain": [
              "(9038, 244)"
            ]
          },
          "execution_count": 31,
          "metadata": {},
          "output_type": "execute_result"
        }
      ],
      "source": [
        "valid = live.dropna(subset=[\"agepreg\", \"totalwgt_lb\"])\n",
        "valid.shape"
      ]
    },
    {
      "cell_type": "markdown",
      "id": "de677813",
      "metadata": {
        "id": "de677813"
      },
      "source": [
        "Then we'll select the relevant columns."
      ]
    },
    {
      "cell_type": "code",
      "execution_count": 32,
      "id": "5dc70bad",
      "metadata": {
        "id": "5dc70bad"
      },
      "outputs": [],
      "source": [
        "ages = valid[\"agepreg\"]\n",
        "birthweights = valid[\"totalwgt_lb\"]"
      ]
    },
    {
      "cell_type": "markdown",
      "id": "b157bccb",
      "metadata": {
        "id": "b157bccb"
      },
      "source": [
        "The following function takes a tuple of `xs` and `ys` and computes the magnitude of the correlation, positive or negative."
      ]
    },
    {
      "cell_type": "code",
      "execution_count": 33,
      "id": "686a44fe",
      "metadata": {
        "id": "686a44fe"
      },
      "outputs": [],
      "source": [
        "def abs_correlation(data):\n",
        "    xs, ys = data\n",
        "    corr = np.corrcoef(xs, ys)[0, 1]\n",
        "    return np.abs(corr)"
      ]
    },
    {
      "cell_type": "markdown",
      "id": "2a9eaf12",
      "metadata": {
        "id": "2a9eaf12"
      },
      "source": [
        "In the NSFG dataset, the correlation is about 0.07."
      ]
    },
    {
      "cell_type": "code",
      "execution_count": 34,
      "id": "3be4c743",
      "metadata": {
        "id": "3be4c743"
      },
      "outputs": [
        {
          "data": {
            "text/plain": [
              "0.06883397035410914"
            ]
          },
          "execution_count": 34,
          "metadata": {},
          "output_type": "execute_result"
        }
      ],
      "source": [
        "data = ages, birthweights\n",
        "observed_corr = abs_correlation(data)\n",
        "observed_corr"
      ]
    },
    {
      "cell_type": "markdown",
      "id": "94504de1",
      "metadata": {
        "id": "94504de1"
      },
      "source": [
        "The null hypothesis is that there is no correlation between mother's age and birth weight.\n",
        "By shuffling the observed values, we can simulate a world where the distributions of age and birth weight are the same, but where the variables are unrelated.\n",
        "\n",
        "The following function takes a tuple of `xs` and `ys`, shuffles `xs` and returns a tuple containing the shuffled `xs` and the original `ys`.\n",
        "It would also work if we shuffled the `ys` instead, or shuffled both."
      ]
    },
    {
      "cell_type": "code",
      "execution_count": 35,
      "id": "8f8fdc2f",
      "metadata": {
        "id": "8f8fdc2f"
      },
      "outputs": [],
      "source": [
        "def permute(data):\n",
        "    xs, ys = data\n",
        "    new_xs = xs.values.copy()\n",
        "    np.random.shuffle(new_xs)\n",
        "    return new_xs, ys"
      ]
    },
    {
      "cell_type": "markdown",
      "id": "ba2e93ab",
      "metadata": {
        "id": "ba2e93ab"
      },
      "source": [
        "The correlation of the shuffled values is usually close to 0."
      ]
    },
    {
      "cell_type": "code",
      "execution_count": 36,
      "id": "d539d4e5",
      "metadata": {
        "id": "d539d4e5"
      },
      "outputs": [
        {
          "data": {
            "text/plain": [
              "0.00192695155028942"
            ]
          },
          "execution_count": 36,
          "metadata": {},
          "output_type": "execute_result"
        }
      ],
      "source": [
        "abs_correlation(permute(data))"
      ]
    },
    {
      "cell_type": "markdown",
      "id": "2630c347",
      "metadata": {
        "id": "2630c347"
      },
      "source": [
        "The following loop generates many shuffled datasets and computes the correlation of each one."
      ]
    },
    {
      "cell_type": "code",
      "execution_count": 37,
      "id": "8d52d636",
      "metadata": {
        "id": "8d52d636"
      },
      "outputs": [],
      "source": [
        "simulated_corrs = [abs_correlation(permute(data)) for i in range(1001)]"
      ]
    },
    {
      "cell_type": "markdown",
      "id": "cbb4ff57",
      "metadata": {
        "id": "cbb4ff57"
      },
      "source": [
        "Here's what the distribution of the results looks like.\n",
        "The vertical dotted line shows the observed correlation."
      ]
    },
    {
      "cell_type": "code",
      "execution_count": 38,
      "id": "99a2ccc4",
      "metadata": {
        "id": "99a2ccc4"
      },
      "outputs": [
        {
          "data": {
            "image/png": "[encoded data removed]",
            "text/plain": [
              "<Figure size 450x262.5 with 1 Axes>"
            ]
          },
          "metadata": {},
          "output_type": "display_data"
        }
      ],
      "source": [
        "pmf = make_pmf(simulated_corrs, 0, 0.07)\n",
        "pmf.plot()\n",
        "plt.axvline(observed_corr, color=\"gray\", ls=\":\")\n",
        "decorate(xlabel=\"Absolute value of correlation\", ylabel=\"Density\")"
      ]
    },
    {
      "cell_type": "markdown",
      "id": "a339cc76",
      "metadata": {
        "id": "a339cc76"
      },
      "source": [
        "We can see that the observed correlation is in the tail of the distribution, with no visible area under the curve.\n",
        "If we try to compute a p-value, the result is 0, indicating that the correlation in the shuffled data did not exceed the observed value in any of the simulations."
      ]
    },
    {
      "cell_type": "code",
      "execution_count": 39,
      "id": "ac2c4de0",
      "metadata": {
        "id": "ac2c4de0"
      },
      "outputs": [
        {
          "data": {
            "text/plain": [
              "0.0"
            ]
          },
          "execution_count": 39,
          "metadata": {},
          "output_type": "execute_result"
        }
      ],
      "source": [
        "compute_p_value(simulated_corrs, observed_corr)"
      ]
    },
    {
      "cell_type": "markdown",
      "id": "77f382df",
      "metadata": {},
      "source": [
        "- 산모 나이와 아기 체중의 상관관계는 우연이라고 보기에는 극히 드문 일"
      ]
    },
    {
      "cell_type": "markdown",
      "id": "cede1136",
      "metadata": {
        "id": "cede1136"
      },
      "source": [
        "Based on this calculation, we can conclude that the p-value is probably less that 1 per 1000, but it is not actually zero.\n",
        "It is unlikely for the correlation of the shuffled data to exceed the observed value -- but it is not impossible.\n",
        "\n",
        "When the p-value is small, traditionally less than 0.05, we can say that the result is **statistically significant**.\n",
        "But this way of interpreting p-values has always been problematic, and it is slowly becoming less widely used.\n",
        "\n",
        "One problem is that the traditional threshold is arbitrary and not appropriate for all applications.\n",
        "Another problem is that this use of \"significant\" is misleading because it suggests that the effect is important in practice.\n",
        "The correlation between mother's age and birth weight is a good example -- it is statistically significant, but so small that it is not important.\n",
        "\n",
        "An alternative is to interpret p-values qualitatively.\n",
        "\n",
        "* If a p-value is large, it is plausible that the observed effect could happen by chance.\n",
        "\n",
        "* If the p-value is small, we can often rule out the possibility that the effect is due to chance -- but we should remember that it could still be due to non-representative sampling or measurement errors."
      ]
    },
    {
      "cell_type": "markdown",
      "id": "e9934be2",
      "metadata": {
        "id": "e9934be2",
        "tags": []
      },
      "source": [
        "(section_testing_proportions)=\n",
        "## Testing Proportions\n",
        "\n",
        "As a final example, let's consider a case where the choice of the test statistic takes some thought.\n",
        "Suppose you run a casino and you suspect that a customer is using a crooked die -- that is, one that has been modified to make one of the faces more likely than the others.\n",
        "You apprehend the alleged cheater and confiscate the die, but now you have to prove that it is crooked.\n",
        "You roll the die 60 times and record the frequency of each outcome from 1 to 6.\n",
        "Here are the results in a `Hist` object."
      ]
    },
    {
      "cell_type": "code",
      "execution_count": 40,
      "id": "20912051",
      "metadata": {
        "id": "20912051"
      },
      "outputs": [
        {
          "data": {
            "text/html": [
              "<div>\n",
              "<style scoped>\n",
              "    .dataframe tbody tr th:only-of-type {\n",
              "        vertical-align: middle;\n",
              "    }\n",
              "\n",
              "    .dataframe tbody tr th {\n",
              "        vertical-align: top;\n",
              "    }\n",
              "\n",
              "    .dataframe thead th {\n",
              "        text-align: right;\n",
              "    }\n",
              "</style>\n",
              "<table border=\"1\" class=\"dataframe\">\n",
              "  <thead>\n",
              "    <tr style=\"text-align: right;\">\n",
              "      <th></th>\n",
              "      <th>freqs</th>\n",
              "    </tr>\n",
              "    <tr>\n",
              "      <th>outcome</th>\n",
              "      <th></th>\n",
              "    </tr>\n",
              "  </thead>\n",
              "  <tbody>\n",
              "    <tr>\n",
              "      <th>1</th>\n",
              "      <td>8</td>\n",
              "    </tr>\n",
              "    <tr>\n",
              "      <th>2</th>\n",
              "      <td>9</td>\n",
              "    </tr>\n",
              "    <tr>\n",
              "      <th>3</th>\n",
              "      <td>19</td>\n",
              "    </tr>\n",
              "    <tr>\n",
              "      <th>4</th>\n",
              "      <td>5</td>\n",
              "    </tr>\n",
              "    <tr>\n",
              "      <th>5</th>\n",
              "      <td>8</td>\n",
              "    </tr>\n",
              "    <tr>\n",
              "      <th>6</th>\n",
              "      <td>11</td>\n",
              "    </tr>\n",
              "  </tbody>\n",
              "</table>\n",
              "</div>"
            ],
            "text/plain": [
              "outcome\n",
              "1     8\n",
              "2     9\n",
              "3    19\n",
              "4     5\n",
              "5     8\n",
              "6    11\n",
              "dtype: int64"
            ]
          },
          "execution_count": 40,
          "metadata": {},
          "output_type": "execute_result"
        }
      ],
      "source": [
        "from empiricaldist import Hist\n",
        "\n",
        "qs = np.arange(1, 7)\n",
        "freqs = [8, 9, 19, 5, 8, 11]\n",
        "observed = Hist(freqs, qs)\n",
        "observed.index.name = \"outcome\"\n",
        "observed"
      ]
    },
    {
      "cell_type": "markdown",
      "id": "fd1b7cdf",
      "metadata": {
        "id": "fd1b7cdf"
      },
      "source": [
        "On average you expect each value to appear 10 times.\n",
        "In this dataset, the value 3 appears more often than expected, and the value 4 appears less often.\n",
        "But could these differences happen by chance?\n",
        "\n",
        "To test this hypothesis, we'll start by computing the expected frequency for each outcome."
      ]
    },
    {
      "cell_type": "code",
      "execution_count": 41,
      "id": "8bf917e7",
      "metadata": {
        "id": "8bf917e7"
      },
      "outputs": [],
      "source": [
        "num_rolls = observed.sum()\n",
        "outcomes = observed.qs\n",
        "expected = Hist(num_rolls / 6, outcomes)"
      ]
    },
    {
      "cell_type": "markdown",
      "id": "78ebdb9e",
      "metadata": {
        "id": "78ebdb9e"
      },
      "source": [
        "The following function takes the observed and expected frequencies and computes the sum of the absolute differences."
      ]
    },
    {
      "cell_type": "code",
      "execution_count": 42,
      "id": "dd8c56fa",
      "metadata": {
        "id": "dd8c56fa"
      },
      "outputs": [],
      "source": [
        "def total_abs_deviation(observed):\n",
        "    return np.sum(np.abs(observed - expected))"
      ]
    },
    {
      "cell_type": "markdown",
      "id": "97100b5f",
      "metadata": {
        "id": "97100b5f"
      },
      "source": [
        "In the observed dataset, this test statistic is 20."
      ]
    },
    {
      "cell_type": "code",
      "execution_count": 43,
      "id": "fba77210",
      "metadata": {
        "id": "fba77210"
      },
      "outputs": [
        {
          "data": {
            "text/plain": [
              "20.0"
            ]
          },
          "execution_count": 43,
          "metadata": {},
          "output_type": "execute_result"
        }
      ],
      "source": [
        "observed_dev = total_abs_deviation(observed)\n",
        "observed_dev"
      ]
    },
    {
      "cell_type": "markdown",
      "id": "0cff22e1",
      "metadata": {
        "id": "0cff22e1"
      },
      "source": [
        "The following function takes the observed data, simulates rolling a fair die the same number of times, and returns a `Hist` object that contains the simulated frequencies."
      ]
    },
    {
      "cell_type": "code",
      "execution_count": 44,
      "id": "9a530baf",
      "metadata": {
        "id": "9a530baf"
      },
      "outputs": [],
      "source": [
        "def simulate_dice(observed):\n",
        "    num_rolls = np.sum(observed)\n",
        "    rolls = np.random.choice(observed.qs, num_rolls, replace=True)\n",
        "    hist = Hist.from_seq(rolls)\n",
        "    return hist"
      ]
    },
    {
      "cell_type": "markdown",
      "id": "4cb4ced1",
      "metadata": {
        "id": "4cb4ced1"
      },
      "source": [
        "The following loop simulates the experiment many times and computes the total absolute deviation for each one."
      ]
    },
    {
      "cell_type": "code",
      "execution_count": 45,
      "id": "dcaef547",
      "metadata": {
        "id": "dcaef547"
      },
      "outputs": [],
      "source": [
        "simulated_devs = [total_abs_deviation(simulate_dice(observed)) for i in range(1001)]"
      ]
    },
    {
      "cell_type": "markdown",
      "id": "a2fa98a9",
      "metadata": {
        "id": "a2fa98a9"
      },
      "source": [
        "Here's what the distribution of the test statistic looks like under the null hypothesis.\n",
        "Notice that the total is always even, because every time an outcome appears more often than expected, another outcome has to appear less often."
      ]
    },
    {
      "cell_type": "code",
      "execution_count": 46,
      "id": "23e5c8b6",
      "metadata": {
        "id": "23e5c8b6"
      },
      "outputs": [
        {
          "data": {
            "image/png": "[encoded data removed]",
            "text/plain": [
              "<Figure size 450x262.5 with 1 Axes>"
            ]
          },
          "metadata": {},
          "output_type": "display_data"
        }
      ],
      "source": [
        "pmf_devs = Pmf.from_seq(simulated_devs)\n",
        "pmf_devs.bar()\n",
        "\n",
        "decorate(xlabel=\"Total absolute deviation\", ylabel=\"PMF\")"
      ]
    },
    {
      "cell_type": "markdown",
      "id": "2d86d6d4",
      "metadata": {
        "id": "2d86d6d4"
      },
      "source": [
        "We can see that a total deviation of 20 is not unusual -- the p-value is about 13%, which means that we can't be sure the die is crooked."
      ]
    },
    {
      "cell_type": "code",
      "execution_count": 47,
      "id": "aea4115a",
      "metadata": {
        "id": "aea4115a"
      },
      "outputs": [
        {
          "data": {
            "text/plain": [
              "0.13086913086913088"
            ]
          },
          "execution_count": 47,
          "metadata": {},
          "output_type": "execute_result"
        }
      ],
      "source": [
        "compute_p_value(simulated_devs, observed_dev)"
      ]
    },
    {
      "cell_type": "markdown",
      "id": "96f25f12",
      "metadata": {
        "id": "96f25f12"
      },
      "source": [
        "But the test statistic we chose was not the only option.\n",
        "For a problem like this, it would be more conventional to use the chi-squared statistic, which we can compute like this."
      ]
    },
    {
      "cell_type": "code",
      "execution_count": 48,
      "id": "047569cc",
      "metadata": {
        "id": "047569cc"
      },
      "outputs": [],
      "source": [
        "def chi_squared_stat(observed):\n",
        "    diffs = (observed - expected) ** 2\n",
        "    return np.sum(diffs / expected)"
      ]
    },
    {
      "cell_type": "markdown",
      "id": "cd9cd605",
      "metadata": {
        "id": "cd9cd605"
      },
      "source": [
        "Squaring the deviations (rather than taking absolute values) gives more weight to large deviations.\n",
        "Dividing through by `expected` standardizes the deviations -- although in this case it has no effect on the results because the expected frequencies are all equal."
      ]
    },
    {
      "cell_type": "code",
      "execution_count": 49,
      "id": "b905361b",
      "metadata": {
        "id": "b905361b"
      },
      "outputs": [
        {
          "data": {
            "text/plain": [
              "11.6"
            ]
          },
          "execution_count": 49,
          "metadata": {},
          "output_type": "execute_result"
        }
      ],
      "source": [
        "observed_chi2 = chi_squared_stat(observed)\n",
        "observed_chi2"
      ]
    },
    {
      "cell_type": "markdown",
      "id": "a9a1ec55",
      "metadata": {
        "id": "a9a1ec55"
      },
      "source": [
        "The chi-squared statistic of the observed data is 11.6.\n",
        "By itself, this number doesn't mean very much, but we can compare it to the results from the simulated rolls.\n",
        "The following loop generates many simulated datasets and computes the chi-squared statistic for each one."
      ]
    },
    {
      "cell_type": "code",
      "execution_count": 50,
      "id": "1f4dff17",
      "metadata": {
        "id": "1f4dff17"
      },
      "outputs": [],
      "source": [
        "simulated_chi2 = [chi_squared_stat(simulate_dice(observed)) for i in range(1001)]"
      ]
    },
    {
      "cell_type": "markdown",
      "id": "d27682cd",
      "metadata": {
        "id": "d27682cd"
      },
      "source": [
        "Here's what the distribution of this test statistic looks like under the null hypothesis.\n",
        "The shaded region shows the results that exceed the observed value."
      ]
    },
    {
      "cell_type": "code",
      "execution_count": 51,
      "id": "fb9776d8",
      "metadata": {
        "id": "fb9776d8"
      },
      "outputs": [
        {
          "data": {
            "image/png": "[encoded data removed]",
            "text/plain": [
              "<Figure size 450x262.5 with 1 Axes>"
            ]
          },
          "metadata": {},
          "output_type": "display_data"
        }
      ],
      "source": [
        "pmf = make_pmf(simulated_chi2, 0, 20)\n",
        "pmf.plot()\n",
        "fill_tail(pmf, observed_chi2, \"right\")\n",
        "decorate(xlabel=\"Chi-Squared statistic\", ylabel=\"Density\")"
      ]
    },
    {
      "cell_type": "markdown",
      "id": "df319de1",
      "metadata": {
        "id": "df319de1"
      },
      "source": [
        "Again, the area of the shaded region is the p-value."
      ]
    },
    {
      "cell_type": "code",
      "execution_count": 52,
      "id": "dc505143",
      "metadata": {
        "id": "dc505143"
      },
      "outputs": [
        {
          "data": {
            "text/plain": [
              "0.04495504495504495"
            ]
          },
          "execution_count": 52,
          "metadata": {},
          "output_type": "execute_result"
        }
      ],
      "source": [
        "compute_p_value(simulated_chi2, observed_chi2)"
      ]
    },
    {
      "cell_type": "markdown",
      "id": "cd6d27ef",
      "metadata": {
        "id": "cd6d27ef"
      },
      "source": [
        "The p-value using the chi-squared statistic is about 0.04, substantially smaller than what we got using total deviation, 0.13.\n",
        "If we take the 5% threshold seriously, we would consider this effect statistically significant.\n",
        "But considering the two tests together, I would say that the results are inconclusive.\n",
        "I would not rule out the possibility that the die is crooked, but I would not convict the accused cheater.\n",
        "\n",
        "This example demonstrates an important point: the p-value depends on the choice of test statistic and the model of the null hypothesis, and sometimes these choices determine whether an effect is statistically significant or not."
      ]
    },
    {
      "cell_type": "markdown",
      "id": "6f1ff960",
      "metadata": {
        "id": "6f1ff960"
      },
      "source": [
        "## Glossary\n",
        "\n",
        "-   **hypothesis testing**: A set of methods for checking whether an observed effect could plausibly be due to random sampling.\n",
        "\n",
        "-   **test statistic**: A statistic used in a hypothesis test to quantify the size of an observed effect.\n",
        "\n",
        "-   **null hypothesis**: A model of a system based on the assumption that an effect observed in a sample does not exist in the population.\n",
        "\n",
        "-   **permutation**: A way to simulate a null hypothesis by randomly shuffling a dataset.\n",
        "\n",
        "-   **p-value**: The probability of an effect as big as the observed effect, under a null hypothesis.\n",
        "\n",
        "-   **statistically significant**: An effect is statistically significant if the p-value is smaller than a chosen threshold, often 5%. In a large dataset, an observed effect can be statistically significant even if it is too small to matter in practice."
      ]
    },
    {
      "cell_type": "markdown",
      "id": "940c93d6",
      "metadata": {
        "id": "940c93d6"
      },
      "source": [
        "## Exercises"
      ]
    },
    {
      "cell_type": "markdown",
      "id": "4405a02b",
      "metadata": {
        "id": "4405a02b"
      },
      "source": [
        "### Exercise 9.1\n",
        "\n",
        "Let's try hypothesis testing with the penguin data from [Chapter 8](section_sampling_distributions).\n",
        "Instructions for downloading the data are in the notebook for this chapter."
      ]
    },
    {
      "cell_type": "markdown",
      "id": "08bd7f71",
      "metadata": {
        "id": "08bd7f71",
        "tags": []
      },
      "source": [
        "The following cell downloads the data from a repository created by Allison Horst.\n",
        "\n",
        "Horst AM, Hill AP, Gorman KB (2020). palmerpenguins: Palmer Archipelago (Antarctica) penguin data. R package version 0.1.0. https://allisonhorst.github.io/palmerpenguins/. doi: 10.5281/zenodo.3960218.\n",
        "\n",
        "The data was collected as part of the research that led to this paper: Gorman KB, Williams TD, Fraser WR (2014). Ecological sexual dimorphism and environmental variability within a community of Antarctic penguins (genus Pygoscelis). PLoS ONE 9(3):e90081. https://doi.org/10.1371/journal.pone.0090081"
      ]
    },
    {
      "cell_type": "code",
      "execution_count": 53,
      "id": "4a3834e9",
      "metadata": {
        "id": "4a3834e9",
        "tags": []
      },
      "outputs": [],
      "source": [
        "download(\n",
        "    \"https://raw.githubusercontent.com/allisonhorst/palmerpenguins/c19a904462482430170bfe2c718775ddb7dbb885/inst/extdata/penguins_raw.csv\"\n",
        ")"
      ]
    },
    {
      "cell_type": "markdown",
      "id": "4005598b",
      "metadata": {
        "id": "4005598b"
      },
      "source": [
        "Here's how we read the data and select the Chinstrap penguins."
      ]
    },
    {
      "cell_type": "code",
      "execution_count": 54,
      "id": "79c25e43",
      "metadata": {
        "id": "79c25e43"
      },
      "outputs": [
        {
          "data": {
            "text/plain": [
              "(68, 17)"
            ]
          },
          "execution_count": 54,
          "metadata": {},
          "output_type": "execute_result"
        }
      ],
      "source": [
        "penguins = pd.read_csv(\"penguins_raw.csv\").dropna(subset=[\"Body Mass (g)\"])\n",
        "chinstrap = penguins.query('Species.str.startswith(\"Chinstrap\")')\n",
        "chinstrap.shape"
      ]
    },
    {
      "cell_type": "markdown",
      "id": "f40d40e7",
      "metadata": {
        "id": "f40d40e7"
      },
      "source": [
        "And here's how we can extract the weights for male and female penguins in kilograms."
      ]
    },
    {
      "cell_type": "code",
      "execution_count": 55,
      "id": "26c2e42e",
      "metadata": {
        "id": "26c2e42e"
      },
      "outputs": [
        {
          "data": {
            "text/plain": [
              "3.9389705882352937"
            ]
          },
          "execution_count": 55,
          "metadata": {},
          "output_type": "execute_result"
        }
      ],
      "source": [
        "male = chinstrap.query(\"Sex == 'MALE'\")\n",
        "weights_male = male[\"Body Mass (g)\"] / 1000\n",
        "weights_male.mean()"
      ]
    },
    {
      "cell_type": "code",
      "execution_count": 56,
      "id": "78264276",
      "metadata": {
        "id": "78264276"
      },
      "outputs": [
        {
          "data": {
            "text/plain": [
              "3.5272058823529413"
            ]
          },
          "execution_count": 56,
          "metadata": {},
          "output_type": "execute_result"
        }
      ],
      "source": [
        "female = chinstrap.query(\"Sex == 'FEMALE'\")\n",
        "weights_female = female[\"Body Mass (g)\"] / 1000\n",
        "weights_female.mean()"
      ]
    },
    {
      "cell_type": "markdown",
      "id": "99753e7b",
      "metadata": {
        "id": "99753e7b"
      },
      "source": [
        "Use `abs_diff_means` and `simulate_groups` to generate a large number of simulated datasets under the null hypothesis that the two groups have the same distribution of weights, and compute the difference in means for each one.\n",
        "Compare the simulation results to the observed difference and compute a p-value.\n",
        "Is it plausible that the apparent difference between the groups is due to chance?"
      ]
    },
    {
      "cell_type": "code",
      "execution_count": 58,
      "id": "ed9a7f5f",
      "metadata": {
        "id": "ed9a7f5f"
      },
      "outputs": [],
      "source": [
        "# Solution goes here\n",
        "# 두 그룹의 평균 차이 절댓값을 계산하는 함수\n",
        "def abs_diff_means(data):\n",
        "    group1, group2 = data\n",
        "    diff = np.mean(group1) - np.mean(group2)\n",
        "    return np.abs(diff)\n",
        "\n",
        "# 데이터를 섞어 귀무가설을 시뮬레이션하는 함수\n",
        "def simulate_groups(data):\n",
        "    group1, group2 = data\n",
        "    n, m = len(group1), len(group2)\n",
        "\n",
        "    pool = np.hstack(data)\n",
        "    np.random.shuffle(pool)\n",
        "    return pool[:n], pool[-m:]\n",
        "\n",
        "# p-value를 계산하는 함수\n",
        "def compute_p_value(simulated, observed):\n",
        "    return (np.asarray(simulated) >= observed).mean()"
      ]
    },
    {
      "cell_type": "code",
      "execution_count": 59,
      "id": "f92a444f",
      "metadata": {
        "id": "f92a444f"
      },
      "outputs": [
        {
          "name": "stdout",
          "output_type": "stream",
          "text": [
            "관찰된 평균 차이: 17.6705 kg\n"
          ]
        }
      ],
      "source": [
        "# Solution goes here\n",
        "# 실제 데이터에서 관찰된 평균 차이\n",
        "observed_diff = abs_diff_means(data)\n",
        "print(f\"관찰된 평균 차이: {observed_diff:.4f} kg\")"
      ]
    },
    {
      "cell_type": "code",
      "execution_count": 61,
      "id": "8978daac",
      "metadata": {
        "id": "8978daac"
      },
      "outputs": [
        {
          "name": "stdout",
          "output_type": "stream",
          "text": [
            "계산된 p-value: 0.0\n"
          ]
        }
      ],
      "source": [
        "# Solution goes here\n",
        "# 시뮬레이션\n",
        "simulated_diffs = [abs_diff_means(simulate_groups(data)) for i in range(1001)]\n",
        "\n",
        "# p-value\n",
        "p_value = compute_p_value(simulated_diffs, observed_diff)\n",
        "print(f\"계산된 p-value: {p_value}\")"
      ]
    },
    {
      "cell_type": "markdown",
      "id": "d9225d5c",
      "metadata": {},
      "source": [
        "-> 귀무가설 기각"
      ]
    },
    {
      "cell_type": "markdown",
      "id": "ea768ec8",
      "metadata": {
        "id": "ea768ec8"
      },
      "source": [
        "### Exercise 9.2\n",
        "\n",
        "Using the penguin data from the previous exercise, we can extract the culmen depths and lengths for the female penguins (the culmen is the top ridge of the bill)."
      ]
    },
    {
      "cell_type": "code",
      "execution_count": 62,
      "id": "d4eaa8a2",
      "metadata": {
        "id": "d4eaa8a2"
      },
      "outputs": [],
      "source": [
        "data = female[\"Culmen Depth (mm)\"], female[\"Culmen Length (mm)\"]"
      ]
    },
    {
      "cell_type": "markdown",
      "id": "4498273d",
      "metadata": {
        "id": "4498273d"
      },
      "source": [
        "The correlation between these variables is about 0.26."
      ]
    },
    {
      "cell_type": "code",
      "execution_count": 63,
      "id": "368e57e9",
      "metadata": {
        "id": "368e57e9"
      },
      "outputs": [
        {
          "data": {
            "text/plain": [
              "0.2563170802728449"
            ]
          },
          "execution_count": 63,
          "metadata": {},
          "output_type": "execute_result"
        }
      ],
      "source": [
        "observed_corr = abs_correlation(data)\n",
        "observed_corr"
      ]
    },
    {
      "cell_type": "markdown",
      "id": "1d6b37e5",
      "metadata": {
        "id": "1d6b37e5"
      },
      "source": [
        "Let's see whether this correlation could happen by chance, even if there is actually no correlation between the measurements.\n",
        "Use `permute` to generate many permutations of this data and `abs_correlation` to compute the correlation for each one.\n",
        "Plot the distribution of the correlations under the null hypothesis and compute a p-value for the observed correlation.\n",
        "How do you interpret the result?"
      ]
    },
    {
      "cell_type": "code",
      "execution_count": 66,
      "id": "8b58edac",
      "metadata": {
        "id": "8b58edac"
      },
      "outputs": [],
      "source": [
        "# Solution goes here\n",
        "# 상관계수 절댓값을 계산하는 함수\n",
        "def abs_correlation(data):\n",
        "    xs, ys = data\n",
        "    corr = np.corrcoef(xs, ys)[0, 1]\n",
        "    return np.abs(corr)\n",
        "\n",
        "# 데이터를 뒤섞어 귀무가설을 시뮬레이션하는 함수\n",
        "def permute(data):\n",
        "    xs, ys = data\n",
        "    new_xs = xs.values.copy()\n",
        "    np.random.shuffle(new_xs)\n",
        "    return new_xs, ys\n",
        "\n",
        "# p-value를 계산하는 함수\n",
        "def compute_p_value(simulated, observed):\n",
        "    return (np.asarray(simulated) >= observed).mean()"
      ]
    },
    {
      "cell_type": "code",
      "execution_count": 67,
      "id": "08b648cd",
      "metadata": {
        "id": "08b648cd"
      },
      "outputs": [
        {
          "name": "stdout",
          "output_type": "stream",
          "text": [
            "관찰된 상관계수: 0.2563\n",
            "계산된 p-value: 0.14385614385614387\n"
          ]
        }
      ],
      "source": [
        "# Solution goes here\n",
        "# 시뮬레이션\n",
        "simulated_corrs = [abs_correlation(permute(data)) for i in range(1001)]\n",
        "\n",
        "# p-value\n",
        "p_value = compute_p_value(simulated_corrs, observed_corr)\n",
        "\n",
        "print(f\"관찰된 상관계수: {observed_corr:.4f}\")\n",
        "print(f\"계산된 p-value: {p_value}\")"
      ]
    },
    {
      "cell_type": "markdown",
      "id": "e27da3a4",
      "metadata": {
        "id": "e27da3a4",
        "tags": []
      },
      "source": [
        "[Think Stats: Exploratory Data Analysis in Python, 3rd Edition](https://allendowney.github.io/ThinkStats/index.html)\n",
        "\n",
        "Copyright 2024 [Allen B. Downey](https://allendowney.com)\n",
        "\n",
        "Code license: [MIT License](https://mit-license.org/)\n",
        "\n",
        "Text license: [Creative Commons Attribution-NonCommercial-ShareAlike 4.0 International](https://creativecommons.org/licenses/by-nc-sa/4.0/)"
      ]
    }
  ],
  "metadata": {
    "celltoolbar": "Tags",
    "colab": {
      "provenance": []
    },
    "kernelspec": {
      "display_name": "Python 3",
      "language": "python",
      "name": "python3"
    },
    "language_info": {
      "codemirror_mode": {
        "name": "ipython",
        "version": 3
      },
      "file_extension": ".py",
      "mimetype": "text/x-python",
      "name": "python",
      "nbconvert_exporter": "python",
      "pygments_lexer": "ipython3",
      "version": "3.10.11"
    }
  },
  "nbformat": 4,
  "nbformat_minor": 5
}
