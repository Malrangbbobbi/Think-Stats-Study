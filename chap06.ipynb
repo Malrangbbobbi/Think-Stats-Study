{
  "cells": [
    {
      "cell_type": "markdown",
      "id": "418e407e",
      "metadata": {
        "id": "418e407e"
      },
      "source": [
        "The third edition of *Think Stats* is available now from [Bookshop.org](https://bookshop.org/a/98697/9781098190255) and [Amazon](https://amzn.to/42lmxwu) (those are affiliate links). If you are enjoying the free, online version, consider [buying me a coffee](https://buymeacoffee.com/allendowney)."
      ]
    },
    {
      "cell_type": "markdown",
      "id": "83a7c13a",
      "metadata": {
        "id": "83a7c13a"
      },
      "source": [
        "# Probability Density Functions\n",
        "\n",
        "In the previous chapter, we modeled data with theoretical distributions including the binomial, Poisson, exponential, and normal distributions.\n",
        "\n",
        "The binomial and Poisson distributions are **discrete**, which means that the outcomes have to be distinct or separate elements, like an integer number of hits and misses, or goals scored.\n",
        "In a discrete distribution, each outcome is associated with a probability mass.\n",
        "\n",
        "The exponential and normal distribution are **continuous**, which means the outcomes can be at any point in a range of possible values.\n",
        "In a continuous distribution, each outcome is associated with a **probability density**.\n",
        "Probability density is an abstract idea, and many people find it difficult at first, but we'll take it one step at a time.\n",
        "As a first step, let's think again about comparing distributions."
      ]
    },
    {
      "cell_type": "markdown",
      "id": "b2c77a2e",
      "metadata": {
        "id": "b2c77a2e",
        "tags": []
      },
      "source": [
        "[Click here to run this notebook on Colab](https://colab.research.google.com/github/AllenDowney/ThinkStats/blob/v3/nb/chap06.ipynb)."
      ]
    },
    {
      "cell_type": "code",
      "execution_count": 1,
      "id": "79f64f53",
      "metadata": {
        "id": "79f64f53",
        "tags": []
      },
      "outputs": [],
      "source": [
        "from os.path import basename, exists\n",
        "\n",
        "\n",
        "def download(url):\n",
        "    filename = basename(url)\n",
        "    if not exists(filename):\n",
        "        from urllib.request import urlretrieve\n",
        "\n",
        "        local, _ = urlretrieve(url, filename)\n",
        "        print(\"Downloaded \" + local)\n",
        "\n",
        "\n",
        "download(\"https://github.com/AllenDowney/ThinkStats/raw/v3/nb/thinkstats.py\")"
      ]
    },
    {
      "cell_type": "code",
      "execution_count": 2,
      "id": "3b3d4912",
      "metadata": {
        "id": "3b3d4912",
        "tags": []
      },
      "outputs": [],
      "source": [
        "try:\n",
        "    import empiricaldist\n",
        "except ImportError:\n",
        "    %pip install empiricaldist"
      ]
    },
    {
      "cell_type": "code",
      "execution_count": 3,
      "id": "955f8f40",
      "metadata": {
        "id": "955f8f40",
        "tags": []
      },
      "outputs": [],
      "source": [
        "import numpy as np\n",
        "import pandas as pd\n",
        "import matplotlib.pyplot as plt\n",
        "\n",
        "from thinkstats import decorate"
      ]
    },
    {
      "cell_type": "markdown",
      "id": "6f90e9d5",
      "metadata": {
        "id": "6f90e9d5"
      },
      "source": [
        "## Comparing Distributions\n",
        "\n",
        "In the previous chapter, when we compared discrete distributions, we used a bar plot to show their probability mass functions (PMFs).\n",
        "When we compared continuous distributions, we used a line plot to show their cumulative distribution functions (CDFs).\n",
        "\n",
        "For the discrete distributions, we could also have used CDFs.\n",
        "For example, here's the PMF of a Poisson distribution with `lam=2.2`, which is a good model for the distribution of household size in the NSFG data."
      ]
    },
    {
      "cell_type": "markdown",
      "id": "b74d4646",
      "metadata": {
        "id": "b74d4646",
        "tags": []
      },
      "source": [
        "The following cells download the data files and install `statadict`, which we need to read the data."
      ]
    },
    {
      "cell_type": "markdown",
      "id": "f1584bca",
      "metadata": {},
      "source": [
        "- PMF(이산) vs PDF(연속)"
      ]
    },
    {
      "cell_type": "code",
      "execution_count": 4,
      "id": "54c3271b",
      "metadata": {
        "id": "54c3271b",
        "tags": []
      },
      "outputs": [],
      "source": [
        "download(\"https://github.com/AllenDowney/ThinkStats/raw/v3/nb/nsfg.py\")\n",
        "download(\"https://github.com/AllenDowney/ThinkStats/raw/v3/data/2002FemResp.dct\")\n",
        "download(\"https://github.com/AllenDowney/ThinkStats/raw/v3/data/2002FemResp.dat.gz\")"
      ]
    },
    {
      "cell_type": "code",
      "execution_count": 5,
      "id": "366f036d",
      "metadata": {
        "id": "366f036d",
        "tags": []
      },
      "outputs": [],
      "source": [
        "try:\n",
        "    import statadict\n",
        "except ImportError:\n",
        "    %pip install statadict"
      ]
    },
    {
      "cell_type": "markdown",
      "id": "d668f128",
      "metadata": {
        "id": "d668f128"
      },
      "source": [
        "We can use `read_fem_resp` to read the respondent data file."
      ]
    },
    {
      "cell_type": "code",
      "execution_count": 6,
      "id": "06c181f9",
      "metadata": {
        "id": "06c181f9"
      },
      "outputs": [],
      "source": [
        "from nsfg import read_fem_resp\n",
        "\n",
        "resp = read_fem_resp()"
      ]
    },
    {
      "cell_type": "markdown",
      "id": "3124a1df",
      "metadata": {
        "id": "3124a1df"
      },
      "source": [
        "Next we'll select household sizes for people 25 and older."
      ]
    },
    {
      "cell_type": "code",
      "execution_count": 7,
      "id": "605099ec",
      "metadata": {
        "id": "605099ec"
      },
      "outputs": [],
      "source": [
        "older = resp.query(\"age >= 25\")\n",
        "num_family = older[\"numfmhh\"]"
      ]
    },
    {
      "cell_type": "markdown",
      "id": "1f1c1d7e",
      "metadata": {
        "id": "1f1c1d7e"
      },
      "source": [
        "And make a `Pmf` that represents the distribution of responses."
      ]
    },
    {
      "cell_type": "code",
      "execution_count": 8,
      "id": "763da396",
      "metadata": {
        "id": "763da396"
      },
      "outputs": [],
      "source": [
        "from empiricaldist import Pmf\n",
        "\n",
        "pmf_family = Pmf.from_seq(num_family, name=\"data\")"
      ]
    },
    {
      "cell_type": "markdown",
      "id": "d9e8c8ad",
      "metadata": {
        "id": "d9e8c8ad"
      },
      "source": [
        "Here's another `Pmf` that represents a Poisson distribution with the same mean."
      ]
    },
    {
      "cell_type": "code",
      "execution_count": 9,
      "id": "4a4d6062",
      "metadata": {
        "id": "4a4d6062"
      },
      "outputs": [],
      "source": [
        "from thinkstats import poisson_pmf\n",
        "\n",
        "lam = 2.2\n",
        "ks = np.arange(11)\n",
        "ps = poisson_pmf(ks, lam)\n",
        "\n",
        "pmf_poisson = Pmf(ps, ks, name=\"Poisson model\")"
      ]
    },
    {
      "cell_type": "markdown",
      "id": "f4639ed8",
      "metadata": {
        "id": "f4639ed8"
      },
      "source": [
        "And here's how the distribution of the data compares to the Poisson model."
      ]
    },
    {
      "cell_type": "code",
      "execution_count": 10,
      "id": "f70ae409",
      "metadata": {
        "id": "f70ae409"
      },
      "outputs": [
        {
          "data": {
            "image/png": "[encoded data removed]",
            "text/plain": [
              "<Figure size 450x262.5 with 1 Axes>"
            ]
          },
          "metadata": {},
          "output_type": "display_data"
        }
      ],
      "source": [
        "from thinkstats import two_bar_plots\n",
        "\n",
        "two_bar_plots(pmf_family, pmf_poisson)\n",
        "decorate(xlabel=\"Number of family members\")"
      ]
    },
    {
      "cell_type": "markdown",
      "id": "6bc92687",
      "metadata": {
        "id": "6bc92687"
      },
      "source": [
        "Comparing the PMFs, we can see that the model fits the data well, but with some deviations.\n",
        "\n",
        "To get a sense of how substantial those deviations are, it can be helpful to compare CDFs.\n",
        "We can use `make_cdf` to compute the CDFs of the data and the model."
      ]
    },
    {
      "cell_type": "code",
      "execution_count": 11,
      "id": "54e8e079",
      "metadata": {
        "id": "54e8e079"
      },
      "outputs": [],
      "source": [
        "cdf_family = pmf_family.make_cdf()\n",
        "cdf_poisson = pmf_poisson.make_cdf()"
      ]
    },
    {
      "cell_type": "markdown",
      "id": "2fb7ecb4",
      "metadata": {
        "id": "2fb7ecb4"
      },
      "source": [
        "Here's what they look like."
      ]
    },
    {
      "cell_type": "code",
      "execution_count": 12,
      "id": "001fc097",
      "metadata": {
        "id": "001fc097"
      },
      "outputs": [
        {
          "data": {
            "image/png": "[encoded data removed]",
            "text/plain": [
              "<Figure size 450x262.5 with 1 Axes>"
            ]
          },
          "metadata": {},
          "output_type": "display_data"
        }
      ],
      "source": [
        "from thinkstats import two_cdf_plots\n",
        "\n",
        "two_cdf_plots(cdf_poisson, cdf_family)\n",
        "decorate(xlabel=\"Number of family members\")"
      ]
    },
    {
      "cell_type": "markdown",
      "id": "ef2b2a89",
      "metadata": {
        "id": "ef2b2a89"
      },
      "source": [
        "When we compare CDFs, the deviations are less prominent, but we can see where and how the distributions differ.\n",
        "PMFs tend to emphasize small differences -- sometimes CDFs provide a better sense of the big picture.\n",
        "\n",
        "CDFs also work well with continuous data. As an example, let's look at the distribution of birth weights again, which is in the NSFG pregnancy file."
      ]
    },
    {
      "cell_type": "code",
      "execution_count": 13,
      "id": "fcbe6cab",
      "metadata": {
        "id": "fcbe6cab",
        "tags": []
      },
      "outputs": [],
      "source": [
        "download(\"https://github.com/AllenDowney/ThinkStats/raw/v3/data/2002FemPreg.dct\")\n",
        "download(\"https://github.com/AllenDowney/ThinkStats/raw/v3/data/2002FemPreg.dat.gz\")"
      ]
    },
    {
      "cell_type": "code",
      "execution_count": 14,
      "id": "0d674fef",
      "metadata": {
        "id": "0d674fef"
      },
      "outputs": [],
      "source": [
        "from nsfg import read_fem_preg\n",
        "\n",
        "preg = read_fem_preg()\n",
        "birth_weights = preg[\"totalwgt_lb\"].dropna()"
      ]
    },
    {
      "cell_type": "markdown",
      "id": "f125fee8",
      "metadata": {
        "id": "f125fee8"
      },
      "source": [
        "Here is the code we used in the previous chapter to fit a normal model to the data."
      ]
    },
    {
      "cell_type": "code",
      "execution_count": 15,
      "id": "1a0bd573",
      "metadata": {
        "id": "1a0bd573"
      },
      "outputs": [],
      "source": [
        "from scipy.stats import trimboth\n",
        "from thinkstats import make_normal_model\n",
        "\n",
        "trimmed = trimboth(birth_weights, 0.01)\n",
        "cdf_model = make_normal_model(trimmed)"
      ]
    },
    {
      "cell_type": "markdown",
      "id": "16ecb36a",
      "metadata": {
        "id": "16ecb36a"
      },
      "source": [
        "And here's the distribution of the data compared to the normal model."
      ]
    },
    {
      "cell_type": "code",
      "execution_count": 16,
      "id": "89dc754a",
      "metadata": {
        "id": "89dc754a"
      },
      "outputs": [
        {
          "data": {
            "image/png": "[encoded data removed]",
            "text/plain": [
              "<Figure size 450x262.5 with 1 Axes>"
            ]
          },
          "metadata": {},
          "output_type": "display_data"
        }
      ],
      "source": [
        "from empiricaldist import Cdf\n",
        "\n",
        "cdf_birth_weight = Cdf.from_seq(birth_weights, name=\"sample\")\n",
        "two_cdf_plots(cdf_model, cdf_birth_weight, xlabel=\"Birth weight (pounds)\")"
      ]
    },
    {
      "cell_type": "markdown",
      "id": "a1757253",
      "metadata": {
        "id": "a1757253"
      },
      "source": [
        "As we saw in the previous chapter, the normal model fits the data well except in the range of the lightest babies.\n",
        "\n",
        "In my opinion, CDFs are usually the best way to compare data to a model.\n",
        "But for audiences that are not familiar with CDFs, there is one more option: probability density functions."
      ]
    },
    {
      "cell_type": "markdown",
      "id": "b47cc69d",
      "metadata": {
        "id": "b47cc69d"
      },
      "source": [
        "## Probability Density\n",
        "\n",
        "We'll start with the **probability density function (PDF)** of the normal distribution, which computes the density for the quantities, `xs`, given `mu` and `sigma`."
      ]
    },
    {
      "cell_type": "markdown",
      "id": "01de8146",
      "metadata": {},
      "source": [
        "- 정규 분포의 확률 밀도 함수 (PDF)"
      ]
    },
    {
      "cell_type": "markdown",
      "id": "6c0d62b9",
      "metadata": {},
      "source": [
        "$$\n",
        "f(x) = \\frac{1}{\\sigma \\sqrt{2\\pi}} \\exp\\left(-\\frac{(x - \\mu)^2}{2\\sigma^2}\\right)\n",
        "$$"
      ]
    },
    {
      "cell_type": "code",
      "execution_count": 17,
      "id": "73a75926",
      "metadata": {
        "id": "73a75926"
      },
      "outputs": [],
      "source": [
        "def normal_pdf(xs, mu, sigma):\n",
        "    \"\"\"Evaluates the normal probability density function.\"\"\"\n",
        "    z = (xs - mu) / sigma\n",
        "    return np.exp(-(z**2) / 2) / sigma / np.sqrt(2 * np.pi)"
      ]
    },
    {
      "cell_type": "markdown",
      "id": "b78cee48",
      "metadata": {
        "id": "b78cee48"
      },
      "source": [
        "For `mu` and `sigma` we'll use the mean and standard deviation of the trimmed birth weights."
      ]
    },
    {
      "cell_type": "code",
      "execution_count": 18,
      "id": "65c2db0c",
      "metadata": {
        "id": "65c2db0c"
      },
      "outputs": [],
      "source": [
        "m, s = np.mean(trimmed), np.std(trimmed)"
      ]
    },
    {
      "cell_type": "markdown",
      "id": "8d75407e",
      "metadata": {
        "id": "8d75407e"
      },
      "source": [
        "Now we'll evaluate `normal_pdf` for a range of weights."
      ]
    },
    {
      "cell_type": "code",
      "execution_count": 19,
      "id": "cfb6935c",
      "metadata": {
        "id": "cfb6935c"
      },
      "outputs": [],
      "source": [
        "low = m - 4 * s\n",
        "high = m + 4 * s\n",
        "qs = np.linspace(low, high, 201)\n",
        "ps = normal_pdf(qs, m, s)"
      ]
    },
    {
      "cell_type": "markdown",
      "id": "6cc1c3d7",
      "metadata": {
        "id": "6cc1c3d7"
      },
      "source": [
        "And plot it."
      ]
    },
    {
      "cell_type": "code",
      "execution_count": 20,
      "id": "c8080871",
      "metadata": {
        "id": "c8080871"
      },
      "outputs": [
        {
          "data": {
            "image/png": "[encoded data removed]",
            "text/plain": [
              "<Figure size 450x262.5 with 1 Axes>"
            ]
          },
          "metadata": {},
          "output_type": "display_data"
        }
      ],
      "source": [
        "plt.plot(qs, ps, label=\"normal model\", ls=\":\", color=\"gray\")\n",
        "decorate(xlabel=\"Birth weight (pounds)\", ylabel=\"Density\")"
      ]
    },
    {
      "cell_type": "markdown",
      "id": "910864d9",
      "metadata": {
        "id": "910864d9"
      },
      "source": [
        "The result looks like a bell curve, which is characteristic of the normal distribution.\n",
        "\n",
        "When we evaluate `normal_pdf`, the result is a probability density.\n",
        "For example, here's the density function evaluated at the mean, which is where the density is highest."
      ]
    },
    {
      "cell_type": "code",
      "execution_count": 21,
      "id": "ecee46bb",
      "metadata": {
        "id": "ecee46bb"
      },
      "outputs": [
        {
          "data": {
            "text/plain": [
              "0.32093416297880123"
            ]
          },
          "execution_count": 21,
          "metadata": {},
          "output_type": "execute_result"
        }
      ],
      "source": [
        "normal_pdf(m, m, s)"
      ]
    },
    {
      "cell_type": "markdown",
      "id": "89451488",
      "metadata": {
        "id": "89451488"
      },
      "source": [
        "By itself, a probability density doesn't mean much -- most importantly, it is *not* a probability.\n",
        "It would be incorrect to say that the probability is 32% that a randomly-chosen birth weight equals `m`.\n",
        "In fact, the probability that a birth weight is truly, exactly, and precisely equal to `m` -- or any other specific value -- is zero.\n",
        "\n",
        "However, we can use the probability densities to compute the probability that an outcome falls in an interval between two values, by computing the area under the curve.\n",
        "\n",
        "We could do that with the `normal_pdf` function, but it is more convenient to use the `NormalPdf` class, which is defined in the `thinkstats` module.\n",
        "Here's how we create a `NormalPdf` object with the same mean and standard deviation as the birth weights in the NSFG dataset."
      ]
    },
    {
      "cell_type": "code",
      "execution_count": 22,
      "id": "d67c7406",
      "metadata": {
        "id": "d67c7406"
      },
      "outputs": [
        {
          "data": {
            "text/plain": [
              "NormalPdf(7.280883100022579, 1.2430657948614345, name='normal model')"
            ]
          },
          "execution_count": 22,
          "metadata": {},
          "output_type": "execute_result"
        }
      ],
      "source": [
        "from thinkstats import NormalPdf\n",
        "\n",
        "pdf_model = NormalPdf(m, s, name=\"normal model\")\n",
        "pdf_model"
      ]
    },
    {
      "cell_type": "markdown",
      "id": "11cb9399",
      "metadata": {
        "id": "11cb9399"
      },
      "source": [
        "If we call this object like a function, it evaluates the normal PDF."
      ]
    },
    {
      "cell_type": "code",
      "execution_count": 23,
      "id": "40ee0737",
      "metadata": {
        "id": "40ee0737"
      },
      "outputs": [
        {
          "data": {
            "text/plain": [
              "0.32093416297880123"
            ]
          },
          "execution_count": 23,
          "metadata": {},
          "output_type": "execute_result"
        }
      ],
      "source": [
        "pdf_model(m)"
      ]
    },
    {
      "cell_type": "markdown",
      "id": "7f400a25",
      "metadata": {
        "id": "7f400a25"
      },
      "source": [
        "Now, to compute the area under the PDF, we can use the following function, which takes a `NormalPdf` object and the bounds of an interval, `low` and `high`.\n",
        "It evaluates the normal PDF at equally-spaced quantities between `low` and `high`, and uses the SciPy function `simpson` to estimate the area under the curve (`simpson` is so named because it uses an algorithm called Simpson's method)."
      ]
    },
    {
      "cell_type": "code",
      "execution_count": 24,
      "id": "2186dbe1",
      "metadata": {
        "id": "2186dbe1"
      },
      "outputs": [],
      "source": [
        "from scipy.integrate import simpson\n",
        "\n",
        "\n",
        "def area_under(pdf, low, high):\n",
        "    qs = np.linspace(low, high, 501)\n",
        "    ps = pdf(qs)\n",
        "    return simpson(y=ps, x=qs)"
      ]
    },
    {
      "cell_type": "markdown",
      "id": "3890ad65",
      "metadata": {
        "id": "3890ad65"
      },
      "source": [
        "If we compute the area under the curve from the lowest to the highest point in the graph, the result is close to 1."
      ]
    },
    {
      "cell_type": "code",
      "execution_count": 25,
      "id": "631bade0",
      "metadata": {
        "id": "631bade0"
      },
      "outputs": [
        {
          "data": {
            "text/plain": [
              "0.9999158086616793"
            ]
          },
          "execution_count": 25,
          "metadata": {},
          "output_type": "execute_result"
        }
      ],
      "source": [
        "area_under(pdf_model, 2, 12)"
      ]
    },
    {
      "cell_type": "markdown",
      "id": "87c0dc81",
      "metadata": {
        "id": "87c0dc81"
      },
      "source": [
        "If we extend the interval from negative infinity to positive infinity, the total area is exactly 1.\n",
        "\n",
        "If we start from 0 -- or any value far below the mean -- we can compute the fraction of birth weights less than or equal to 8.5 pounds."
      ]
    },
    {
      "cell_type": "code",
      "execution_count": 26,
      "id": "dc85a2dd",
      "metadata": {
        "id": "dc85a2dd"
      },
      "outputs": [
        {
          "data": {
            "text/plain": [
              "0.8366380335513807"
            ]
          },
          "execution_count": 26,
          "metadata": {},
          "output_type": "execute_result"
        }
      ],
      "source": [
        "area_under(pdf_model, 0, 8.5)"
      ]
    },
    {
      "cell_type": "markdown",
      "id": "a3ccedba",
      "metadata": {
        "id": "a3ccedba"
      },
      "source": [
        "You might recall that the \"fraction less than or equal to a given value\" is the definition of the CDF.\n",
        "So we could compute the same result using the CDF of the normal distribution."
      ]
    },
    {
      "cell_type": "code",
      "execution_count": 27,
      "id": "45841eca",
      "metadata": {
        "id": "45841eca"
      },
      "outputs": [
        {
          "data": {
            "text/plain": [
              "0.8366380358092718"
            ]
          },
          "execution_count": 27,
          "metadata": {},
          "output_type": "execute_result"
        }
      ],
      "source": [
        "from scipy.stats import norm\n",
        "\n",
        "norm.cdf(8.5, m, s)"
      ]
    },
    {
      "cell_type": "markdown",
      "id": "27850ccf",
      "metadata": {
        "id": "27850ccf"
      },
      "source": [
        "Similarly, we can use the area under the density curve to compute the fraction of birth weights between 6 and 8 pounds."
      ]
    },
    {
      "cell_type": "code",
      "execution_count": 28,
      "id": "53737676",
      "metadata": {
        "id": "53737676"
      },
      "outputs": [
        {
          "data": {
            "text/plain": [
              "0.5671317752927691"
            ]
          },
          "execution_count": 28,
          "metadata": {},
          "output_type": "execute_result"
        }
      ],
      "source": [
        "area_under(pdf_model, 6, 8)"
      ]
    },
    {
      "cell_type": "markdown",
      "id": "d3402340",
      "metadata": {
        "id": "d3402340"
      },
      "source": [
        "Or we can get the same result using the CDF to compute the fraction less than 8 and then subtracting off the fraction less than 6."
      ]
    },
    {
      "cell_type": "code",
      "execution_count": 29,
      "id": "143933f5",
      "metadata": {
        "id": "143933f5"
      },
      "outputs": [
        {
          "data": {
            "text/plain": [
              "0.5671317752921801"
            ]
          },
          "execution_count": 29,
          "metadata": {},
          "output_type": "execute_result"
        }
      ],
      "source": [
        "norm.cdf(8, m, s) - norm.cdf(6, m, s)"
      ]
    },
    {
      "cell_type": "markdown",
      "id": "da31401d",
      "metadata": {
        "id": "da31401d"
      },
      "source": [
        "So the CDF is the area under the curve of the PDF.\n",
        "If you know calculus, another way to say the same thing is that the CDF is the integral of the PDF.\n",
        "And conversely, the PDF is the derivative of the CDF."
      ]
    },
    {
      "cell_type": "markdown",
      "id": "98b83653",
      "metadata": {
        "id": "98b83653",
        "tags": []
      },
      "source": [
        "(section_exponential_pdf)=\n",
        "## The Exponential PDF\n",
        "\n",
        "To get your head around probability density, it might help to see another example.\n",
        "In the previous chapter, we used an exponential distribution to model the time until the first goal in a hockey game.\n",
        "We used the following function to compute the exponential CDF, where `lam` is the rate in goals per unit of time."
      ]
    },
    {
      "cell_type": "code",
      "execution_count": 30,
      "id": "18fb5032",
      "metadata": {
        "id": "18fb5032"
      },
      "outputs": [],
      "source": [
        "def exponential_cdf(x, lam):\n",
        "    \"\"\"Compute the exponential CDF.\n",
        "\n",
        "    x: float or sequence of floats\n",
        "    lam: rate parameter\n",
        "\n",
        "    returns: float or NumPy array of cumulative probability\n",
        "    \"\"\"\n",
        "    return 1 - np.exp(-lam * x)"
      ]
    },
    {
      "cell_type": "markdown",
      "id": "2cbcc93a",
      "metadata": {
        "id": "2cbcc93a"
      },
      "source": [
        "We can compute the PDF of the exponential distribution like this."
      ]
    },
    {
      "cell_type": "code",
      "execution_count": 31,
      "id": "37368771",
      "metadata": {
        "id": "37368771"
      },
      "outputs": [],
      "source": [
        "def exponential_pdf(x, lam):\n",
        "    \"\"\"Evaluates the exponential PDF.\n",
        "\n",
        "    x: float or sequence of floats\n",
        "    lam: rate parameter\n",
        "\n",
        "    returns: float or NumPy array of probability density\n",
        "    \"\"\"\n",
        "    return lam * np.exp(-lam * x)"
      ]
    },
    {
      "cell_type": "markdown",
      "id": "4891494d",
      "metadata": {
        "id": "4891494d"
      },
      "source": [
        "`thinkstats` provides an `ExponentialPdf` object that uses this function to compute the exponential PDF.\n",
        "We can use one to represent an exponential distribution with rate 6 goals per game."
      ]
    },
    {
      "cell_type": "code",
      "execution_count": 32,
      "id": "5f77d24b",
      "metadata": {
        "id": "5f77d24b"
      },
      "outputs": [
        {
          "data": {
            "text/plain": [
              "ExponentialPdf(6, name='exponential model')"
            ]
          },
          "execution_count": 32,
          "metadata": {},
          "output_type": "execute_result"
        }
      ],
      "source": [
        "from thinkstats import ExponentialPdf\n",
        "\n",
        "lam = 6\n",
        "pdf_expo = ExponentialPdf(lam, name=\"exponential model\")\n",
        "pdf_expo"
      ]
    },
    {
      "cell_type": "markdown",
      "id": "7095c57f",
      "metadata": {
        "id": "7095c57f"
      },
      "source": [
        "`ExponentialPdf` provides a `plot` function we can use to plot the PDF -- notice that the unit of time is games here, rather than seconds as in the previous chapter."
      ]
    },
    {
      "cell_type": "code",
      "execution_count": 33,
      "id": "6d999a2f",
      "metadata": {
        "id": "6d999a2f"
      },
      "outputs": [
        {
          "data": {
            "image/png": "[encoded data removed]",
            "text/plain": [
              "<Figure size 450x262.5 with 1 Axes>"
            ]
          },
          "metadata": {},
          "output_type": "display_data"
        }
      ],
      "source": [
        "qs = np.linspace(0, 1.5, 201)\n",
        "pdf_expo.plot(qs, ls=\":\", color=\"gray\")\n",
        "decorate(xlabel=\"Time (games)\", ylabel=\"Density\")"
      ]
    },
    {
      "cell_type": "markdown",
      "id": "a89be81f",
      "metadata": {
        "id": "a89be81f"
      },
      "source": [
        "Looking at the y-axis, you might notice that some of these densities are greater than 1, which is a reminder that a probability density is not a probability.\n",
        "But the area under a density curve is a probability, so it should never be greater than 1.\n",
        "\n",
        "If we compute the area under this curve from 0 to 1.5 games, we can confirm that the result is close to 1."
      ]
    },
    {
      "cell_type": "code",
      "execution_count": 34,
      "id": "c0dfefb4",
      "metadata": {
        "id": "c0dfefb4"
      },
      "outputs": [
        {
          "data": {
            "text/plain": [
              "0.999876590779019"
            ]
          },
          "execution_count": 34,
          "metadata": {},
          "output_type": "execute_result"
        }
      ],
      "source": [
        "area_under(pdf_expo, 0, 1.5)"
      ]
    },
    {
      "cell_type": "markdown",
      "id": "fb0e98cd",
      "metadata": {
        "id": "fb0e98cd"
      },
      "source": [
        "If we extend the interval much farther, the result is slightly greater than 1, but that's because we're approximating the area numerically.\n",
        "Mathematically, it is exactly 1, as we can confirm using the exponential CDF."
      ]
    },
    {
      "cell_type": "code",
      "execution_count": 35,
      "id": "57963394",
      "metadata": {
        "id": "57963394"
      },
      "outputs": [
        {
          "data": {
            "text/plain": [
              "1.0"
            ]
          },
          "execution_count": 35,
          "metadata": {},
          "output_type": "execute_result"
        }
      ],
      "source": [
        "from thinkstats import exponential_cdf\n",
        "\n",
        "exponential_cdf(7, lam)"
      ]
    },
    {
      "cell_type": "markdown",
      "id": "6eec9cff",
      "metadata": {
        "id": "6eec9cff"
      },
      "source": [
        "We can use the area under the density curve to compute the probability of a goal during any interval.\n",
        "For example, here is the probability of a goal during the first minute of a 60-minute game."
      ]
    },
    {
      "cell_type": "code",
      "execution_count": 36,
      "id": "418d568c",
      "metadata": {
        "id": "418d568c"
      },
      "outputs": [
        {
          "data": {
            "text/plain": [
              "0.09516258196404043"
            ]
          },
          "execution_count": 36,
          "metadata": {},
          "output_type": "execute_result"
        }
      ],
      "source": [
        "area_under(pdf_expo, 0, 1 / 60)"
      ]
    },
    {
      "cell_type": "markdown",
      "id": "650d6f29",
      "metadata": {
        "id": "650d6f29"
      },
      "source": [
        "We can compute the same result using the exponential CDF."
      ]
    },
    {
      "cell_type": "code",
      "execution_count": 37,
      "id": "f6a4f81b",
      "metadata": {
        "id": "f6a4f81b"
      },
      "outputs": [
        {
          "data": {
            "text/plain": [
              "0.09516258196404048"
            ]
          },
          "execution_count": 37,
          "metadata": {},
          "output_type": "execute_result"
        }
      ],
      "source": [
        "exponential_cdf(1 / 60, lam)"
      ]
    },
    {
      "cell_type": "markdown",
      "id": "b5afe4fb",
      "metadata": {
        "id": "b5afe4fb"
      },
      "source": [
        "In summary, if we evaluate a PDF, the result is a probability density -- which is not a probability.\n",
        "However, if we compute the area under the PDF, the result is the probability that a quantity falls in an interval.\n",
        "Or we can find the same probability by evaluating the CDF at the beginning and end of the interval and computing the difference."
      ]
    },
    {
      "cell_type": "markdown",
      "id": "f7687b0f",
      "metadata": {
        "id": "f7687b0f"
      },
      "source": [
        "## Comparing PMFs and PDFs\n",
        "\n",
        "It is a common error to compare the PMF of a sample with the PDF of a theoretical model.\n",
        "For example, suppose we want to compare the distribution of birth weights to a normal model.\n",
        "Here's a `Pmf` that represents the distribution of the data."
      ]
    },
    {
      "cell_type": "code",
      "execution_count": 38,
      "id": "284649e4",
      "metadata": {
        "id": "284649e4"
      },
      "outputs": [],
      "source": [
        "pmf_birth_weight = Pmf.from_seq(birth_weights, name=\"data\")"
      ]
    },
    {
      "cell_type": "markdown",
      "id": "2d898d5f",
      "metadata": {
        "id": "2d898d5f"
      },
      "source": [
        "And we already have `pdf_model`, which represents the PDF of the normal distribution with the same mean and standard deviation.\n",
        "Here's what happens if we plot them on the same axis."
      ]
    },
    {
      "cell_type": "code",
      "execution_count": 39,
      "id": "55f3831b",
      "metadata": {
        "id": "55f3831b"
      },
      "outputs": [
        {
          "data": {
            "image/png": "[encoded data removed]",
            "text/plain": [
              "<Figure size 450x262.5 with 1 Axes>"
            ]
          },
          "metadata": {},
          "output_type": "display_data"
        }
      ],
      "source": [
        "pdf_model.plot(ls=\":\", color=\"gray\")\n",
        "pmf_birth_weight.plot()\n",
        "\n",
        "decorate(xlabel=\"Birth weight (pounds)\", ylabel=\"PMF? Density?\")"
      ]
    },
    {
      "cell_type": "markdown",
      "id": "27604636",
      "metadata": {
        "id": "27604636"
      },
      "source": [
        "It doesn't work very well.\n",
        "One reason is that they are not in the same units.\n",
        "A PMF contains probability masses and a PDF contains probability densities, so we can't compare them, and we shouldn't plot them on the same axes.\n",
        "\n",
        "As a first attempt to solve the problem, we can make a `Pmf` that approximates the normal distribution by evaluating the PDF at a discrete set of points.\n",
        "`NormalPdf` provides a `make_pmf` method that does that."
      ]
    },
    {
      "cell_type": "code",
      "execution_count": 40,
      "id": "f829f686",
      "metadata": {
        "id": "f829f686"
      },
      "outputs": [],
      "source": [
        "pmf_model = pdf_model.make_pmf()"
      ]
    },
    {
      "cell_type": "markdown",
      "id": "e0e4d5e7",
      "metadata": {
        "id": "e0e4d5e7"
      },
      "source": [
        "The result is a normalized `Pmf` that contains probability masses, so we can at least plot it on the same axes as the PMF of the data."
      ]
    },
    {
      "cell_type": "code",
      "execution_count": 41,
      "id": "36507db8",
      "metadata": {
        "id": "36507db8"
      },
      "outputs": [
        {
          "data": {
            "image/png": "[encoded data removed]",
            "text/plain": [
              "<Figure size 450x262.5 with 1 Axes>"
            ]
          },
          "metadata": {},
          "output_type": "display_data"
        }
      ],
      "source": [
        "pmf_model.plot(ls=\":\", color=\"gray\")\n",
        "pmf_birth_weight.plot()\n",
        "\n",
        "decorate(xlabel=\"Birth weight (pounds)\", ylabel=\"PMF\")"
      ]
    },
    {
      "cell_type": "markdown",
      "id": "b8aac9e9",
      "metadata": {
        "id": "b8aac9e9"
      },
      "source": [
        "But this is still not a good way to compare distributions.\n",
        "One problem is that the two `Pmf` objects contain different numbers of quantities, and the quantities in `pmf_birth_weight` are not equally spaced, so the probability masses are not really comparable."
      ]
    },
    {
      "cell_type": "code",
      "execution_count": 42,
      "id": "e6a44c0e",
      "metadata": {
        "id": "e6a44c0e"
      },
      "outputs": [
        {
          "data": {
            "text/plain": [
              "(201, 184)"
            ]
          },
          "execution_count": 42,
          "metadata": {},
          "output_type": "execute_result"
        }
      ],
      "source": [
        "len(pmf_model), len(pmf_birth_weight)"
      ]
    },
    {
      "cell_type": "markdown",
      "id": "5cf1cf84",
      "metadata": {
        "id": "5cf1cf84"
      },
      "source": [
        "The other problem is that the `Pmf` of the data is noisy.\n",
        "So let's try something else."
      ]
    },
    {
      "cell_type": "markdown",
      "id": "7d7a5b57",
      "metadata": {
        "id": "7d7a5b57",
        "tags": []
      },
      "source": [
        "(section_kernel_density_estimation)=\n",
        "## Kernel Density Estimation\n",
        "\n",
        "Instead of using the model to make a PMF, we can use the data to make a PDF.\n",
        "To show how that works, I'll start with a small sample of the data."
      ]
    },
    {
      "cell_type": "code",
      "execution_count": null,
      "id": "e6d0fb6f",
      "metadata": {
        "id": "e6d0fb6f",
        "tags": []
      },
      "outputs": [],
      "source": [
        "# Set the random seed so we get the same results every time\n",
        "np.random.seed(3) # 랜덤 시드를 고정"
      ]
    },
    {
      "cell_type": "code",
      "execution_count": 44,
      "id": "6c83c956",
      "metadata": {
        "id": "6c83c956"
      },
      "outputs": [],
      "source": [
        "n = 10\n",
        "sample = birth_weights.sample(n)"
      ]
    },
    {
      "cell_type": "markdown",
      "id": "8f5356cf",
      "metadata": {
        "id": "8f5356cf"
      },
      "source": [
        "The `Pmf` of this sample looks like this."
      ]
    },
    {
      "cell_type": "code",
      "execution_count": 46,
      "id": "e44b1ecd",
      "metadata": {
        "id": "e44b1ecd"
      },
      "outputs": [
        {
          "data": {
            "image/png": "[encoded data removed]",
            "text/plain": [
              "<Figure size 450x262.5 with 1 Axes>"
            ]
          },
          "metadata": {},
          "output_type": "display_data"
        }
      ],
      "source": [
        "for weight in sample:\n",
        "    pmf = Pmf.from_seq([weight]) / n\n",
        "    pmf.bar(width=0.08, alpha=0.5)\n",
        "\n",
        "xlim = [1.5, 12.5]\n",
        "decorate(xlabel=\"Birth weight (pounds)\", ylabel=\"PMF\", xlim=xlim)"
      ]
    },
    {
      "cell_type": "markdown",
      "id": "70d7c7e0",
      "metadata": {
        "id": "70d7c7e0"
      },
      "source": [
        "This way of representing the distribution treats the data as if it is discrete, so each probability mass is stacked up on a single point.\n",
        "But birth weight is actually continuous, so the quantities between the measurements are also possible.\n",
        "We can represent that possibility by replacing each discrete probability mass with a continuous probability density, like this."
      ]
    },
    {
      "cell_type": "code",
      "execution_count": 47,
      "id": "2bd8fe67",
      "metadata": {
        "id": "2bd8fe67"
      },
      "outputs": [
        {
          "data": {
            "image/png": "[encoded data removed]",
            "text/plain": [
              "<Figure size 450x262.5 with 1 Axes>"
            ]
          },
          "metadata": {},
          "output_type": "display_data"
        }
      ],
      "source": [
        "qs = np.linspace(2, 12, 201)\n",
        "\n",
        "for weight in sample:\n",
        "    ps = NormalPdf(weight, 0.75)(qs) / n\n",
        "    plt.plot(qs, ps, alpha=0.5)\n",
        "\n",
        "decorate(xlabel=\"Birth weight (pounds)\", ylabel=\"PDF\", xlim=xlim)"
      ]
    },
    {
      "cell_type": "markdown",
      "id": "763bcf04",
      "metadata": {},
      "source": [
        "| 개념     | 설명                       |\n",
        "| ------ | ------------------------ |\n",
        "| PMF 방식 | 데이터마다 막대 하나 세움 (뚝뚝 끊김)   |\n",
        "| KDE 방식 | 데이터마다 종 모양 곡선 얹고 → 전부 더함 |\n",
        "| 목적     | **부드러운** 연속 확률 밀도 함수 추정  |"
      ]
    },
    {
      "cell_type": "markdown",
      "id": "bf0aeeb4",
      "metadata": {
        "id": "bf0aeeb4"
      },
      "source": [
        "For each weight in the sample, we create a `NormalPdf` with the observed weight as the mean -- now let's add them up."
      ]
    },
    {
      "cell_type": "code",
      "execution_count": 48,
      "id": "065680cb",
      "metadata": {
        "id": "065680cb"
      },
      "outputs": [
        {
          "data": {
            "image/png": "[encoded data removed]",
            "text/plain": [
              "<Figure size 450x262.5 with 1 Axes>"
            ]
          },
          "metadata": {},
          "output_type": "display_data"
        }
      ],
      "source": [
        "low_ps = np.zeros_like(qs)\n",
        "\n",
        "for weight in sample:\n",
        "    ps = NormalPdf(weight, 0.75)(qs) / n\n",
        "    high_ps = low_ps + ps\n",
        "    plt.fill_between(qs, low_ps, high_ps, alpha=0.5, lw=1, ec=\"white\")\n",
        "    low_ps = high_ps\n",
        "\n",
        "decorate(xlabel=\"Birth weight (pounds)\", ylabel=\"PDF\", xlim=xlim)"
      ]
    },
    {
      "cell_type": "markdown",
      "id": "594b5d14",
      "metadata": {
        "id": "594b5d14"
      },
      "source": [
        "When we add up the probability densities for each data point, the result is an estimate of the probability density for the whole sample.\n",
        "This process is called **kernel density estimation** or KDE.\n",
        "In this context, a \"kernel\" is one of the small density functions we added up.\n",
        "Because the kernels we used are normal distributions -- also known as Gaussians -- we could say more specifically that we computed a Gaussian KDE.\n",
        "\n",
        "SciPy provides a function called `gaussian_kde` that implements this algorithm.\n",
        "Here's how we can use it to estimate the distribution of birth weights."
      ]
    },
    {
      "cell_type": "code",
      "execution_count": 49,
      "id": "c3dba7b9",
      "metadata": {
        "id": "c3dba7b9"
      },
      "outputs": [],
      "source": [
        "from scipy.stats import gaussian_kde\n",
        "\n",
        "kde = gaussian_kde(birth_weights)"
      ]
    },
    {
      "cell_type": "markdown",
      "id": "eaaa1528",
      "metadata": {
        "id": "eaaa1528"
      },
      "source": [
        "The result is an object that represents the estimated PDF, which we can evaluate by calling it like  a function."
      ]
    },
    {
      "cell_type": "code",
      "execution_count": 50,
      "id": "10685681",
      "metadata": {
        "id": "10685681"
      },
      "outputs": [],
      "source": [
        "ps = kde(qs)"
      ]
    },
    {
      "cell_type": "markdown",
      "id": "be22fbe4",
      "metadata": {
        "id": "be22fbe4"
      },
      "source": [
        "Here's what the result looks like."
      ]
    },
    {
      "cell_type": "code",
      "execution_count": 51,
      "id": "b5a6b73f",
      "metadata": {
        "id": "b5a6b73f"
      },
      "outputs": [
        {
          "data": {
            "image/png": "[encoded data removed]",
            "text/plain": [
              "<Figure size 450x262.5 with 1 Axes>"
            ]
          },
          "metadata": {},
          "output_type": "display_data"
        }
      ],
      "source": [
        "plt.plot(qs, ps)\n",
        "\n",
        "decorate(xlabel=\"Birth weight (pounds)\", ylabel=\"Density\")"
      ]
    },
    {
      "cell_type": "markdown",
      "id": "1a3283fa",
      "metadata": {
        "id": "1a3283fa"
      },
      "source": [
        "`thinkstats` provides a `Pdf` object that takes the result from `gaussian_kde`, and a domain that indicates where the density should be evaluated.\n",
        "Here's how we make one."
      ]
    },
    {
      "cell_type": "code",
      "execution_count": null,
      "id": "b0774e65",
      "metadata": {
        "id": "b0774e65"
      },
      "outputs": [],
      "source": [
        "from thinkstats import Pdf\n",
        "\n",
        "domain = np.min(birth_weights), np.max(birth_weights)\n",
        "kde_birth_weights = Pdf(kde, domain, name=\"data\")"
      ]
    },
    {
      "cell_type": "markdown",
      "id": "e0023131",
      "metadata": {
        "id": "e0023131"
      },
      "source": [
        "`Pdf` provides a `plot` method we can use to compare the estimated PDF of the sample to the PDF of a normal distribution."
      ]
    },
    {
      "cell_type": "code",
      "execution_count": null,
      "id": "4d79028e",
      "metadata": {
        "id": "4d79028e"
      },
      "outputs": [],
      "source": [
        "pdf_model.plot(ls=\":\", color=\"gray\")\n",
        "kde_birth_weights.plot()\n",
        "\n",
        "decorate(xlabel=\"Birth weight (pounds)\", ylabel=\"Density\")"
      ]
    },
    {
      "cell_type": "markdown",
      "id": "2eaf2160",
      "metadata": {
        "id": "2eaf2160"
      },
      "source": [
        "Kernel density estimation makes it possible to compare the distribution of a dataset to a theoretical model, and for some audiences, this is a good way to visualize the comparison.\n",
        "But for audiences that are familiar with CDFs, comparing CDFs is often better."
      ]
    },
    {
      "cell_type": "markdown",
      "id": "9890ea3b",
      "metadata": {
        "id": "9890ea3b"
      },
      "source": [
        "## The Distribution Framework\n",
        "\n",
        "At this point we have a complete set of ways to represent distributions: PMFs, CDFs, and PDFs\n",
        "The following figure shows these representations and the transitions from one to another.\n",
        "For example, if we have a `Pmf`, we can use the `cumsum` function to compute the cumulative sum of the probabilities and get a `Cdf` that represents the same distribution.\n",
        "\n",
        "<img width=\"400\" src=\"https://github.com/AllenDowney/ThinkStats/raw/v3/figs/distribution_framework.png\">\n",
        "\n",
        "To demonstrate these transitions, we'll use a new dataset that \"contains the time of birth, sex, and birth weight for each of 44 babies born in one 24-hour period at a Brisbane, Australia, hospital,\" according to the description.\n",
        "Instructions for downloading the data are in the notebook for this chapter."
      ]
    },
    {
      "cell_type": "markdown",
      "id": "460e5444",
      "metadata": {
        "id": "460e5444",
        "tags": []
      },
      "source": [
        "According to the information in the file\n",
        "\n",
        "> Source: Steele, S. (December 21, 1997), \"Babies by the Dozen for Christmas:\n",
        "24-Hour Baby Boom,\" _The Sunday Mail_ (Brisbane), p. 7.\n",
        ">\n",
        "> STORY BEHIND THE DATA:\n",
        "Forty-four babies -- a new record -- were born in one 24-hour period at\n",
        "the Mater Mothers' Hospital in Brisbane, Queensland, Australia, on\n",
        "December 18, 1997.  For each of the 44 babies, _The Sunday Mail_\n",
        "recorded the time of birth, the sex of the child, and the birth weight\n",
        "in grams.\n",
        ">\n",
        "> Additional information about this dataset can be found in the \"Datasets\n",
        "and Stories\" article \"A Simple Dataset for Demonstrating Common\n",
        "Distributions\" in the _Journal of Statistics Education_ (Dunn 1999).\n",
        ">\n",
        "> Downloaded from <https://jse.amstat.org/datasets/babyboom.txt>"
      ]
    },
    {
      "cell_type": "code",
      "execution_count": 52,
      "id": "209b7e67",
      "metadata": {
        "id": "209b7e67",
        "tags": []
      },
      "outputs": [
        {
          "name": "stdout",
          "output_type": "stream",
          "text": [
            "Downloaded babyboom.dat\n"
          ]
        }
      ],
      "source": [
        "download(\"https://github.com/AllenDowney/ThinkStats/raw/v3/data/babyboom.dat\")"
      ]
    },
    {
      "cell_type": "markdown",
      "id": "7c3517d0",
      "metadata": {
        "id": "7c3517d0"
      },
      "source": [
        "We can read the data like this."
      ]
    },
    {
      "cell_type": "code",
      "execution_count": 53,
      "id": "1d4c6176",
      "metadata": {
        "id": "1d4c6176"
      },
      "outputs": [
        {
          "data": {
            "text/html": [
              "<div>\n",
              "<style scoped>\n",
              "    .dataframe tbody tr th:only-of-type {\n",
              "        vertical-align: middle;\n",
              "    }\n",
              "\n",
              "    .dataframe tbody tr th {\n",
              "        vertical-align: top;\n",
              "    }\n",
              "\n",
              "    .dataframe thead th {\n",
              "        text-align: right;\n",
              "    }\n",
              "</style>\n",
              "<table border=\"1\" class=\"dataframe\">\n",
              "  <thead>\n",
              "    <tr style=\"text-align: right;\">\n",
              "      <th></th>\n",
              "      <th>time</th>\n",
              "      <th>sex</th>\n",
              "      <th>weight_g</th>\n",
              "      <th>minutes</th>\n",
              "    </tr>\n",
              "  </thead>\n",
              "  <tbody>\n",
              "    <tr>\n",
              "      <th>0</th>\n",
              "      <td>5</td>\n",
              "      <td>1</td>\n",
              "      <td>3837</td>\n",
              "      <td>5</td>\n",
              "    </tr>\n",
              "    <tr>\n",
              "      <th>1</th>\n",
              "      <td>104</td>\n",
              "      <td>1</td>\n",
              "      <td>3334</td>\n",
              "      <td>64</td>\n",
              "    </tr>\n",
              "    <tr>\n",
              "      <th>2</th>\n",
              "      <td>118</td>\n",
              "      <td>2</td>\n",
              "      <td>3554</td>\n",
              "      <td>78</td>\n",
              "    </tr>\n",
              "    <tr>\n",
              "      <th>3</th>\n",
              "      <td>155</td>\n",
              "      <td>2</td>\n",
              "      <td>3838</td>\n",
              "      <td>115</td>\n",
              "    </tr>\n",
              "    <tr>\n",
              "      <th>4</th>\n",
              "      <td>257</td>\n",
              "      <td>2</td>\n",
              "      <td>3625</td>\n",
              "      <td>177</td>\n",
              "    </tr>\n",
              "  </tbody>\n",
              "</table>\n",
              "</div>"
            ],
            "text/plain": [
              "   time  sex  weight_g  minutes\n",
              "0     5    1      3837        5\n",
              "1   104    1      3334       64\n",
              "2   118    2      3554       78\n",
              "3   155    2      3838      115\n",
              "4   257    2      3625      177"
            ]
          },
          "execution_count": 53,
          "metadata": {},
          "output_type": "execute_result"
        }
      ],
      "source": [
        "from thinkstats import read_baby_boom\n",
        "\n",
        "boom = read_baby_boom()\n",
        "boom.head()"
      ]
    },
    {
      "cell_type": "markdown",
      "id": "e9cc296d",
      "metadata": {
        "id": "e9cc296d"
      },
      "source": [
        "The `minutes` column records \"the number of minutes since midnight for each birth\".\n",
        "So we can use the `diff` method to compute the interval between each successive birth."
      ]
    },
    {
      "cell_type": "markdown",
      "id": "04453716",
      "metadata": {},
      "source": [
        "- 출산이 자정 이후 몇 분 뒤에 일어났는지"
      ]
    },
    {
      "cell_type": "code",
      "execution_count": 54,
      "id": "942f38eb",
      "metadata": {
        "id": "942f38eb"
      },
      "outputs": [],
      "source": [
        "diffs = boom[\"minutes\"].diff().dropna()"
      ]
    },
    {
      "cell_type": "markdown",
      "id": "fab56d42",
      "metadata": {
        "id": "fab56d42"
      },
      "source": [
        "If births happen with equal probability during any minute of the day, we expect these intervals to follow an exponential distribution.\n",
        "In reality, that assumption is not precisely true, but the exponential distribution might still be a good model for the data.\n",
        "\n",
        "To find out, we'll start by making a `Pmf` that represents the distribution of intervals."
      ]
    },
    {
      "cell_type": "code",
      "execution_count": 55,
      "id": "ee30688b",
      "metadata": {
        "id": "ee30688b"
      },
      "outputs": [
        {
          "data": {
            "image/png": "[encoded data removed]",
            "text/plain": [
              "<Figure size 450x262.5 with 1 Axes>"
            ]
          },
          "metadata": {},
          "output_type": "display_data"
        }
      ],
      "source": [
        "pmf_diffs = Pmf.from_seq(diffs, name=\"data\")\n",
        "pmf_diffs.bar(width=1)\n",
        "\n",
        "decorate(xlabel=\"Interval (minutes)\", ylabel=\"PMF\")"
      ]
    },
    {
      "cell_type": "markdown",
      "id": "cdcd639f",
      "metadata": {
        "id": "cdcd639f"
      },
      "source": [
        "Then we can use `make_cdf` to compute the cumulative probabilities and store them in a `Cdf` object."
      ]
    },
    {
      "cell_type": "code",
      "execution_count": 56,
      "id": "4466e8cc",
      "metadata": {
        "id": "4466e8cc"
      },
      "outputs": [
        {
          "data": {
            "image/png": "[encoded data removed]",
            "text/plain": [
              "<Figure size 450x262.5 with 1 Axes>"
            ]
          },
          "metadata": {},
          "output_type": "display_data"
        }
      ],
      "source": [
        "cdf_diffs = pmf_diffs.make_cdf()\n",
        "cdf_diffs.step()\n",
        "\n",
        "decorate(xlabel=\"Interval (minutes)\", ylabel=\"CDF\")"
      ]
    },
    {
      "cell_type": "markdown",
      "id": "8960e286",
      "metadata": {
        "id": "8960e286"
      },
      "source": [
        "The `Pmf` and `Cdf` are equivalent in the sense that if we are given either one, we can compute the other.\n",
        "To demonstrate, we'll use the `make_pmf` method, which computes the differences between successive probabilities in a `Cdf` and returns a `Pmf`."
      ]
    },
    {
      "cell_type": "code",
      "execution_count": 57,
      "id": "9367a75f",
      "metadata": {
        "id": "9367a75f"
      },
      "outputs": [],
      "source": [
        "pmf_diffs2 = cdf_diffs.make_pmf()"
      ]
    },
    {
      "cell_type": "markdown",
      "id": "db091dd4",
      "metadata": {
        "id": "db091dd4"
      },
      "source": [
        "The result should be identical to the original `Pmf`, but there might be small floating-point errors.\n",
        "We can use `allclose` to check that the result is close to the original `Pmf`."
      ]
    },
    {
      "cell_type": "code",
      "execution_count": 58,
      "id": "57be0167",
      "metadata": {
        "id": "57be0167"
      },
      "outputs": [
        {
          "data": {
            "text/plain": [
              "True"
            ]
          },
          "execution_count": 58,
          "metadata": {},
          "output_type": "execute_result"
        }
      ],
      "source": [
        "np.allclose(pmf_diffs, pmf_diffs2)"
      ]
    },
    {
      "cell_type": "markdown",
      "id": "dfc925f4",
      "metadata": {
        "id": "dfc925f4"
      },
      "source": [
        "And it is.\n",
        "\n",
        "From a `Pmf`, we can estimate a density function by calling `gaussian_kde` with the probabilities from the `Pmf` as weights."
      ]
    },
    {
      "cell_type": "code",
      "execution_count": 59,
      "id": "fcb28634",
      "metadata": {
        "id": "fcb28634"
      },
      "outputs": [],
      "source": [
        "kde = gaussian_kde(pmf_diffs.qs, weights=pmf_diffs.ps)"
      ]
    },
    {
      "cell_type": "markdown",
      "id": "2f60a7db",
      "metadata": {
        "id": "2f60a7db"
      },
      "source": [
        "To plot the results, we can use `kde` to make a `Pdf` object, and call the `plot` method."
      ]
    },
    {
      "cell_type": "code",
      "execution_count": 64,
      "id": "a8a9a473",
      "metadata": {
        "id": "a8a9a473"
      },
      "outputs": [
        {
          "ename": "NameError",
          "evalue": "name 'Pdf' is not defined",
          "output_type": "error",
          "traceback": [
            "\u001b[1;31m---------------------------------------------------------------------------\u001b[0m",
            "\u001b[1;31mNameError\u001b[0m                                 Traceback (most recent call last)",
            "Cell \u001b[1;32mIn[64], line 2\u001b[0m\n\u001b[0;32m      1\u001b[0m domain \u001b[38;5;241m=\u001b[39m np\u001b[38;5;241m.\u001b[39mmin(pmf_diffs\u001b[38;5;241m.\u001b[39mqs), np\u001b[38;5;241m.\u001b[39mmax(pmf_diffs\u001b[38;5;241m.\u001b[39mqs)\n\u001b[1;32m----> 2\u001b[0m kde_diffs \u001b[38;5;241m=\u001b[39m \u001b[43mPdf\u001b[49m(kde, domain\u001b[38;5;241m=\u001b[39mdomain, name\u001b[38;5;241m=\u001b[39m\u001b[38;5;124m\"\u001b[39m\u001b[38;5;124mestimated density\u001b[39m\u001b[38;5;124m\"\u001b[39m)\n\u001b[0;32m      4\u001b[0m kde_diffs\u001b[38;5;241m.\u001b[39mplot(ls\u001b[38;5;241m=\u001b[39m\u001b[38;5;124m\"\u001b[39m\u001b[38;5;124m:\u001b[39m\u001b[38;5;124m\"\u001b[39m, color\u001b[38;5;241m=\u001b[39m\u001b[38;5;124m\"\u001b[39m\u001b[38;5;124mgray\u001b[39m\u001b[38;5;124m\"\u001b[39m)\n\u001b[0;32m      5\u001b[0m decorate(xlabel\u001b[38;5;241m=\u001b[39m\u001b[38;5;124m\"\u001b[39m\u001b[38;5;124mInterval (minutes)\u001b[39m\u001b[38;5;124m\"\u001b[39m, ylabel\u001b[38;5;241m=\u001b[39m\u001b[38;5;124m\"\u001b[39m\u001b[38;5;124mDensity\u001b[39m\u001b[38;5;124m\"\u001b[39m)\n",
            "\u001b[1;31mNameError\u001b[0m: name 'Pdf' is not defined"
          ]
        }
      ],
      "source": [
        "domain = np.min(pmf_diffs.qs), np.max(pmf_diffs.qs)\n",
        "kde_diffs = Pdf(kde, domain=domain, name=\"estimated density\")\n",
        "\n",
        "kde_diffs.plot(ls=\":\", color=\"gray\")\n",
        "decorate(xlabel=\"Interval (minutes)\", ylabel=\"Density\")"
      ]
    },
    {
      "cell_type": "markdown",
      "id": "6703bd49",
      "metadata": {},
      "source": [
        "오잉 왜 Pdf 안불러와지는거지"
      ]
    },
    {
      "cell_type": "markdown",
      "id": "8ff7e136",
      "metadata": {
        "id": "8ff7e136"
      },
      "source": [
        "To see whether the estimated density follows an exponential model, we can make an `ExponentialCdf` with the same mean as the data."
      ]
    },
    {
      "cell_type": "code",
      "execution_count": 65,
      "id": "21fe533b",
      "metadata": {
        "id": "21fe533b"
      },
      "outputs": [],
      "source": [
        "from thinkstats import ExponentialCdf\n",
        "\n",
        "m = diffs.mean()\n",
        "lam = 1 / m\n",
        "cdf_model = ExponentialCdf(lam, name=\"exponential CDF\")"
      ]
    },
    {
      "cell_type": "markdown",
      "id": "c44e2e63",
      "metadata": {
        "id": "c44e2e63"
      },
      "source": [
        "Here’s what it looks like compared to the CDF of the data."
      ]
    },
    {
      "cell_type": "code",
      "execution_count": 66,
      "id": "fe493a82",
      "metadata": {
        "id": "fe493a82"
      },
      "outputs": [
        {
          "data": {
            "image/png": "[encoded data removed]",
            "text/plain": [
              "<Figure size 450x262.5 with 1 Axes>"
            ]
          },
          "metadata": {},
          "output_type": "display_data"
        }
      ],
      "source": [
        "cdf_model.plot(ls=\":\", color=\"gray\")\n",
        "cdf_diffs.step()\n",
        "\n",
        "decorate(xlabel=\"Interval (minutes)\", ylabel=\"CDF\")"
      ]
    },
    {
      "cell_type": "markdown",
      "id": "323b1e1b",
      "metadata": {
        "id": "323b1e1b"
      },
      "source": [
        "The exponential model fits the CDF of the data well."
      ]
    },
    {
      "cell_type": "markdown",
      "id": "51583008",
      "metadata": {
        "id": "51583008"
      },
      "source": [
        "Given an `ExponentialCdf`, we can use `make_cdf` to **discretize** the CDF -- that is, to make a discrete approximation by evaluating the CDF at a sequence of equally spaced quantities."
      ]
    },
    {
      "cell_type": "code",
      "execution_count": 67,
      "id": "6993364d",
      "metadata": {
        "id": "6993364d"
      },
      "outputs": [
        {
          "data": {
            "image/png": "[encoded data removed]",
            "text/plain": [
              "<Figure size 450x262.5 with 1 Axes>"
            ]
          },
          "metadata": {},
          "output_type": "display_data"
        }
      ],
      "source": [
        "qs = np.linspace(0, 160)\n",
        "discrete_cdf_model = cdf_model.make_cdf(qs)\n",
        "discrete_cdf_model.step(color=\"gray\")\n",
        "\n",
        "decorate(xlabel=\"Interval (minutes)\", ylabel=\"CDF\")"
      ]
    },
    {
      "cell_type": "markdown",
      "id": "ed63815d",
      "metadata": {
        "id": "ed63815d"
      },
      "source": [
        "Finally, to get from a discrete CDF to a continuous CDF, we can interpolate between the steps, which is what we see if we use the `plot` method instead of the `step` method."
      ]
    },
    {
      "cell_type": "code",
      "execution_count": 68,
      "id": "bf96cbce",
      "metadata": {
        "id": "bf96cbce"
      },
      "outputs": [
        {
          "data": {
            "image/png": "[encoded data removed]",
            "text/plain": [
              "<Figure size 450x262.5 with 1 Axes>"
            ]
          },
          "metadata": {},
          "output_type": "display_data"
        }
      ],
      "source": [
        "discrete_cdf_model.plot(color=\"gray\")\n",
        "\n",
        "decorate(xlabel=\"Interval (minutes)\", ylabel=\"CDF\")"
      ]
    },
    {
      "cell_type": "markdown",
      "id": "bdb6bc7c",
      "metadata": {
        "id": "bdb6bc7c"
      },
      "source": [
        "Finally, a PDF is the derivative of a continuous CDF, and a CDF is the integral of a PDF."
      ]
    },
    {
      "cell_type": "markdown",
      "id": "f4e5603e",
      "metadata": {
        "id": "f4e5603e",
        "tags": []
      },
      "source": [
        "To demonstrate, we can use SymPy to define the CDF of an exponential distribution and compute its derivative."
      ]
    },
    {
      "cell_type": "code",
      "execution_count": 69,
      "id": "54e749a9",
      "metadata": {
        "id": "54e749a9",
        "tags": []
      },
      "outputs": [
        {
          "data": {
            "text/latex": [
              "$\\displaystyle 1 - e^{- x λ}$"
            ],
            "text/plain": [
              "1 - exp(-x*λ)"
            ]
          },
          "execution_count": 69,
          "metadata": {},
          "output_type": "execute_result"
        }
      ],
      "source": [
        "import sympy as sp\n",
        "\n",
        "x = sp.Symbol(\"x\", real=True, positive=True)\n",
        "λ = sp.Symbol(\"λ\", real=True, positive=True)\n",
        "\n",
        "cdf = 1 - sp.exp(-λ * x)\n",
        "cdf"
      ]
    },
    {
      "cell_type": "code",
      "execution_count": 70,
      "id": "7c302237",
      "metadata": {
        "id": "7c302237",
        "tags": []
      },
      "outputs": [
        {
          "data": {
            "text/latex": [
              "$\\displaystyle λ e^{- x λ}$"
            ],
            "text/plain": [
              "λ*exp(-x*λ)"
            ]
          },
          "execution_count": 70,
          "metadata": {},
          "output_type": "execute_result"
        }
      ],
      "source": [
        "pdf = sp.diff(cdf, x)\n",
        "pdf"
      ]
    },
    {
      "cell_type": "markdown",
      "id": "c2f9e807",
      "metadata": {
        "id": "c2f9e807",
        "tags": []
      },
      "source": [
        "And if we integrate the result, we get the CDF back -- although we lose the constant of integration in the process."
      ]
    },
    {
      "cell_type": "code",
      "execution_count": 71,
      "id": "f08aa791",
      "metadata": {
        "id": "f08aa791",
        "tags": []
      },
      "outputs": [
        {
          "data": {
            "text/latex": [
              "$\\displaystyle - e^{- x λ}$"
            ],
            "text/plain": [
              "-exp(-x*λ)"
            ]
          },
          "execution_count": 71,
          "metadata": {},
          "output_type": "execute_result"
        }
      ],
      "source": [
        "sp.integrate(pdf, x)"
      ]
    },
    {
      "cell_type": "markdown",
      "id": "803d0845",
      "metadata": {},
      "source": [
        "- C는 적분 상수이기 때문에, CDF와 정확히 일치하지는 않지만 본질적으로 같은 함수"
      ]
    },
    {
      "cell_type": "markdown",
      "id": "b16b7bad",
      "metadata": {
        "id": "b16b7bad"
      },
      "source": [
        "This example shows how we use `Pmf`, `Cdf`, and `Pdf` objects to represent PMFs, CDFs, and PDFs, and demonstrates the process for converting from each to the others."
      ]
    },
    {
      "cell_type": "markdown",
      "id": "83d0b0db",
      "metadata": {
        "id": "83d0b0db"
      },
      "source": [
        "## Glossary\n",
        "\n",
        "-   **continuous:** A quantity is continuous if it can have any value in a range on the number line. Most things we measure in the world -- like weight, distance, and time -- are continuous.\n",
        "\n",
        "\n",
        "-   **discrete:** A quantity is discrete if it can have a limited set of values, like integers or categories. Exact counts are discrete, as well as categorical variables.\n",
        "\n",
        "\n",
        "-   **probability density function (PDF)**: A function that shows how density (not probability) is spread across the values of a continuous variable. The area under the PDF within an interval gives the probability that the variable falls in that interval range.\n",
        "\n",
        "\n",
        "-   **probability density**: The value of a PDF at a specific point; it's not a probability itself, but it can be used to compute a probability.\n",
        "\n",
        "\n",
        "-   **kernel density estimation (KDE)**: A method for estimating a PDF based on a sample.\n",
        "\n",
        "\n",
        "-   **discretize**: To approximate a continuous quantity by dividing its range into discrete levels or categories.\n"
      ]
    },
    {
      "cell_type": "markdown",
      "id": "a21248f4",
      "metadata": {
        "id": "a21248f4"
      },
      "source": [
        "## Exercises"
      ]
    },
    {
      "cell_type": "markdown",
      "id": "16858dd0",
      "metadata": {
        "id": "16858dd0"
      },
      "source": [
        "### Exercise 6.1\n",
        "\n",
        "In World Cup soccer (football), suppose the time until the first goal is well modeled by an exponential distribution with rate `lam=2.5` goals per game.\n",
        "Make an `ExponentialPdf` to represent this distribution and use `area_under` to compute the probability that the time until the first goal is less than half of a game.\n",
        "Then use an `ExponentialCdf` to compute the same probability and check that the results are consistent."
      ]
    },
    {
      "cell_type": "code",
      "execution_count": 86,
      "id": "80d4de90",
      "metadata": {
        "id": "80d4de90"
      },
      "outputs": [
        {
          "name": "stdout",
          "output_type": "stream",
          "text": [
            "PDF : 0.7134952031399646\n"
          ]
        }
      ],
      "source": [
        "# Solution goes here\n",
        "from thinkstats import ExponentialPdf, exponential_cdf, area_under\n",
        "\n",
        "lam = 2.5\n",
        "\n",
        "# PDF\n",
        "pdf = ExponentialPdf(lam)\n",
        "prob_pdf = area_under(pdf, 0, 0.5)\n",
        "print(\"PDF :\", prob_pdf)"
      ]
    },
    {
      "cell_type": "code",
      "execution_count": 85,
      "id": "d08933d1",
      "metadata": {
        "id": "d08933d1"
      },
      "outputs": [
        {
          "name": "stdout",
          "output_type": "stream",
          "text": [
            "CDF : 0.7134952031398099\n"
          ]
        }
      ],
      "source": [
        "# Solution goes here\n",
        "# CDF\n",
        "prob_cdf = exponential_cdf(0.5, lam)\n",
        "print(\"CDF :\", prob_cdf)"
      ]
    },
    {
      "cell_type": "markdown",
      "id": "d3029643",
      "metadata": {
        "id": "d3029643"
      },
      "source": [
        "Use `ExponentialPdf` to compute the probability the first goal is scored in the second half of the game.\n",
        "Then use an `ExponentialCdf` to compute the same probability and check that the results are consistent."
      ]
    },
    {
      "cell_type": "code",
      "execution_count": 88,
      "id": "3ba674c0",
      "metadata": {},
      "outputs": [
        {
          "name": "stdout",
          "output_type": "stream",
          "text": [
            "PDF 방식: 0.20441979823633566\n"
          ]
        }
      ],
      "source": [
        "# Solution goes here\n",
        "# PDF : 0.5 ~ 1.0 구간 아래 면적\n",
        "pdf = ExponentialPdf(lam)\n",
        "prob_late_pdf = area_under(pdf, 0.5, 1.0)\n",
        "print(\"PDF 방식:\", prob_late_pdf)"
      ]
    },
    {
      "cell_type": "code",
      "execution_count": 89,
      "id": "9890bed0",
      "metadata": {
        "id": "9890bed0"
      },
      "outputs": [
        {
          "name": "stdout",
          "output_type": "stream",
          "text": [
            "CDF : 0.2044197982362913\n"
          ]
        }
      ],
      "source": [
        "# Solution goes here\n",
        "# CDF : P(0.5 < X < 1.0) = CDF(1.0) - CDF(0.5)\n",
        "prob_late_cdf = exponential_cdf(1.0, lam) - exponential_cdf(0.5, lam)\n",
        "print(\"CDF :\", prob_late_cdf)"
      ]
    },
    {
      "cell_type": "markdown",
      "id": "a4c52fe0",
      "metadata": {
        "id": "a4c52fe0"
      },
      "source": [
        "### Exercise 6.2\n",
        "\n",
        "In order to join Blue Man Group, you have to be male between 5’10” and 6’1”, which is roughly 178 to 185 centimeters.\n",
        "Let's see what fraction of the male adult population in the United States meets this requirement.\n",
        "\n",
        "The heights of male participants in the BRFSS are well modeled by a normal distribution with mean 178 cm and standard deviation 7 cm."
      ]
    },
    {
      "cell_type": "markdown",
      "id": "1e711439",
      "metadata": {},
      "source": [
        "Blue Man Group에 들어가기 위한 키 조건(178cm ~ 185cm)"
      ]
    },
    {
      "cell_type": "code",
      "execution_count": 90,
      "id": "7cb2c493",
      "metadata": {
        "id": "7cb2c493",
        "tags": []
      },
      "outputs": [],
      "source": [
        "download(\"https://github.com/AllenDowney/ThinkStats/raw/v3/data/CDBRFS08.ASC.gz\")"
      ]
    },
    {
      "cell_type": "code",
      "execution_count": 91,
      "id": "6431e26c",
      "metadata": {
        "id": "6431e26c"
      },
      "outputs": [],
      "source": [
        "from thinkstats import read_brfss\n",
        "\n",
        "brfss = read_brfss()\n",
        "male = brfss.query(\"sex == 1\")\n",
        "heights = male[\"htm3\"].dropna()"
      ]
    },
    {
      "cell_type": "code",
      "execution_count": 92,
      "id": "ed41b925",
      "metadata": {
        "id": "ed41b925"
      },
      "outputs": [
        {
          "data": {
            "text/plain": [
              "(178.10278947124948, 7.017054887136004)"
            ]
          },
          "execution_count": 92,
          "metadata": {},
          "output_type": "execute_result"
        }
      ],
      "source": [
        "from scipy.stats import trimboth\n",
        "\n",
        "trimmed = trimboth(heights, 0.01)\n",
        "m, s = np.mean(trimmed), np.std(trimmed)\n",
        "m, s"
      ]
    },
    {
      "cell_type": "markdown",
      "id": "edd36059",
      "metadata": {
        "id": "edd36059"
      },
      "source": [
        "Here's a `NormalCdf` object that represents a normal distribution with the same mean and standard deviation as the trimmed data."
      ]
    },
    {
      "cell_type": "code",
      "execution_count": 93,
      "id": "fe3533b0",
      "metadata": {
        "id": "fe3533b0"
      },
      "outputs": [],
      "source": [
        "from thinkstats import NormalCdf\n",
        "\n",
        "cdf_normal_model = NormalCdf(m, s, name='normal model')"
      ]
    },
    {
      "cell_type": "markdown",
      "id": "6b01929f",
      "metadata": {
        "id": "6b01929f"
      },
      "source": [
        "And here's how it compares to the CDF of the data."
      ]
    },
    {
      "cell_type": "code",
      "execution_count": 94,
      "id": "76ca42c9",
      "metadata": {
        "id": "76ca42c9"
      },
      "outputs": [
        {
          "data": {
            "image/png": "[encoded data removed]",
            "text/plain": [
              "<Figure size 450x262.5 with 1 Axes>"
            ]
          },
          "metadata": {},
          "output_type": "display_data"
        }
      ],
      "source": [
        "cdf_height = Cdf.from_seq(heights, name=\"data\")\n",
        "cdf_normal_model.plot(ls=\":\", color=\"gray\")\n",
        "cdf_height.step()\n",
        "\n",
        "xlim = [140, 210]\n",
        "decorate(xlabel=\"Height (cm)\", ylabel=\"CDF\", xlim=xlim)"
      ]
    },
    {
      "cell_type": "markdown",
      "id": "4e013acb",
      "metadata": {
        "id": "4e013acb"
      },
      "source": [
        "Use `gaussian_kde` to make a `Pdf` that approximates the PDF of male height.\n",
        "Hint: Investigate the `bw_method` argument, which can be used to control the smoothness of the estimated density.\n",
        "Plot the estimated density and compare it to a `NormalPdf` with mean `m` and standard deviation `s`."
      ]
    },
    {
      "cell_type": "code",
      "execution_count": null,
      "id": "66d3eeac",
      "metadata": {
        "id": "66d3eeac"
      },
      "outputs": [
        {
          "data": {
            "text/plain": [
              "<matplotlib.legend.Legend at 0x1f343c17040>"
            ]
          },
          "execution_count": 96,
          "metadata": {},
          "output_type": "execute_result"
        },
        {
          "data": {
            "image/png": "[encoded data removed]",
            "text/plain": [
              "<Figure size 450x262.5 with 1 Axes>"
            ]
          },
          "metadata": {},
          "output_type": "display_data"
        }
      ],
      "source": [
        "# Solution goes here\n",
        "from scipy.stats import gaussian_kde\n",
        "from thinkstats import NormalPdf\n",
        "\n",
        "# KDE로 PDF 추정\n",
        "kde = gaussian_kde(trimmed, bw_method=0.2)\n",
        "\n",
        "# x축\n",
        "xs = np.linspace(140, 210, 201) # 140에서 210까지 등간격으로 201개의 점\n",
        "\n",
        "density = kde(xs)\n",
        "\n",
        "normal_pdf = NormalPdf(m, s)\n",
        "normal_density = normal_pdf(xs)\n",
        "\n",
        "plt.plot(xs, density, label=\"KDE\", color=\"blue\")\n",
        "plt.plot(xs, normal_density, label=\"NormalPdf\", color=\"gray\", linestyle=\":\")\n",
        "decorate(xlabel=\"Height (cm)\", ylabel=\"Density\")\n",
        "plt.legend()"
      ]
    },
    {
      "cell_type": "markdown",
      "id": "53604a1a",
      "metadata": {
        "id": "53604a1a"
      },
      "source": [
        "Use a `NormalPdf` and `area_under` to compute the fraction of people in the normal model that are between 178 and 185 centimeters.\n",
        "Use a `NormalCdf` to compute the same fraction, and check that the results are consistent.\n",
        "Finally, use the empirical `Cdf` of the data to see what fraction of people in the dataset are in the same range."
      ]
    },
    {
      "cell_type": "code",
      "execution_count": 98,
      "id": "e0485114",
      "metadata": {
        "id": "e0485114"
      },
      "outputs": [
        {
          "name": "stdout",
          "output_type": "stream",
          "text": [
            "NormalPdf:  0.342855889792021\n"
          ]
        }
      ],
      "source": [
        "# Solution goes here\n",
        "mean = 178.1\n",
        "std = 7.02\n",
        "\n",
        "# NormalPdf\n",
        "normal_pdf = NormalPdf(mean, std)\n",
        "\n",
        "# 178cm ~ 185cm 사이 면적, 확률 계산\n",
        "prob_pdf = area_under(normal_pdf, 178, 185)\n",
        "print(\"NormalPdf: \", prob_pdf)"
      ]
    },
    {
      "cell_type": "code",
      "execution_count": 99,
      "id": "18db45b3",
      "metadata": {
        "id": "18db45b3"
      },
      "outputs": [
        {
          "name": "stdout",
          "output_type": "stream",
          "text": [
            "NormalCdf:  0.34285588979197623\n"
          ]
        }
      ],
      "source": [
        "# Solution goes here\n",
        "normal_cdf = NormalCdf(mean, std)\n",
        "\n",
        "# P(178 ≤ x ≤ 185) = CDF(185) - CDF(178)\n",
        "prob_cdf = normal_cdf(185) - normal_cdf(178)\n",
        "print(\"NormalCdf: \", prob_cdf)"
      ]
    },
    {
      "cell_type": "code",
      "execution_count": 100,
      "id": "5e0ad75b",
      "metadata": {
        "id": "5e0ad75b"
      },
      "outputs": [
        {
          "name": "stdout",
          "output_type": "stream",
          "text": [
            "Empirical Cdf (data):  0.3354705421386336\n"
          ]
        }
      ],
      "source": [
        "# Solution goes here\n",
        "cdf_empirical = Cdf.from_seq(heights)\n",
        "\n",
        "prob_empirical = cdf_empirical(185) - cdf_empirical(178)\n",
        "print(\"Empirical Cdf (data): \", prob_empirical)"
      ]
    },
    {
      "cell_type": "markdown",
      "id": "e27da3a4",
      "metadata": {
        "id": "e27da3a4",
        "tags": []
      },
      "source": [
        "[Think Stats: Exploratory Data Analysis in Python, 3rd Edition](https://allendowney.github.io/ThinkStats/index.html)\n",
        "\n",
        "Copyright 2024 [Allen B. Downey](https://allendowney.com)\n",
        "\n",
        "Code license: [MIT License](https://mit-license.org/)\n",
        "\n",
        "Text license: [Creative Commons Attribution-NonCommercial-ShareAlike 4.0 International](https://creativecommons.org/licenses/by-nc-sa/4.0/)"
      ]
    }
  ],
  "metadata": {
    "celltoolbar": "Tags",
    "colab": {
      "provenance": []
    },
    "kernelspec": {
      "display_name": "Python 3",
      "language": "python",
      "name": "python3"
    },
    "language_info": {
      "codemirror_mode": {
        "name": "ipython",
        "version": 3
      },
      "file_extension": ".py",
      "mimetype": "text/x-python",
      "name": "python",
      "nbconvert_exporter": "python",
      "pygments_lexer": "ipython3",
      "version": "3.10.11"
    }
  },
  "nbformat": 4,
  "nbformat_minor": 5
}
