{
  "cells": [
    {
      "cell_type": "markdown",
      "id": "418e407e",
      "metadata": {
        "id": "418e407e"
      },
      "source": [
        "The third edition of *Think Stats* is available now from [Bookshop.org](https://bookshop.org/a/98697/9781098190255) and [Amazon](https://amzn.to/42lmxwu) (those are affiliate links). If you are enjoying the free, online version, consider [buying me a coffee](https://buymeacoffee.com/allendowney)."
      ]
    },
    {
      "cell_type": "markdown",
      "id": "87ae6fa0",
      "metadata": {
        "id": "87ae6fa0"
      },
      "source": [
        "# Least Squares\n",
        "\n",
        "This chapter and the next introduce the idea of fitting a model to data.\n",
        "In this context, a **model** consists of a mathematical description of the relationship between variables -- like a straight line -- and a description of random variation -- like a normal distribution.\n",
        "\n",
        "When we say that a model fits data, we usually mean that it minimizes errors, which are the distances between the model and the data.\n",
        "We'll start with one of the most widely-used ways of fitting a model, minimizing the sum of the squared errors, which is called a least squares fit.\n",
        "\n",
        "We'll also start with models that work with just two variables at a time.\n",
        "The next chapter introduces models that can handle more than two variables."
      ]
    },
    {
      "cell_type": "markdown",
      "id": "6d2dea62",
      "metadata": {
        "id": "6d2dea62",
        "tags": []
      },
      "source": [
        "[Click here to run this notebook on Colab](https://colab.research.google.com/github/AllenDowney/ThinkStats/blob/v3/nb/chap10.ipynb)."
      ]
    },
    {
      "cell_type": "code",
      "execution_count": 1,
      "id": "3504ead1",
      "metadata": {
        "id": "3504ead1",
        "tags": []
      },
      "outputs": [],
      "source": [
        "from os.path import basename, exists\n",
        "\n",
        "\n",
        "def download(url):\n",
        "    filename = basename(url)\n",
        "    if not exists(filename):\n",
        "        from urllib.request import urlretrieve\n",
        "\n",
        "        local, _ = urlretrieve(url, filename)\n",
        "        print(\"Downloaded \" + local)\n",
        "\n",
        "\n",
        "download(\"https://github.com/AllenDowney/ThinkStats/raw/v3/nb/thinkstats.py\")"
      ]
    },
    {
      "cell_type": "code",
      "execution_count": 2,
      "id": "2fff28ea",
      "metadata": {
        "id": "2fff28ea",
        "tags": []
      },
      "outputs": [],
      "source": [
        "try:\n",
        "    import empiricaldist\n",
        "except ImportError:\n",
        "    %pip install empiricaldist"
      ]
    },
    {
      "cell_type": "code",
      "execution_count": 3,
      "id": "586c1450",
      "metadata": {
        "id": "586c1450",
        "tags": []
      },
      "outputs": [],
      "source": [
        "import numpy as np\n",
        "import pandas as pd\n",
        "import matplotlib.pyplot as plt\n",
        "\n",
        "from thinkstats import decorate"
      ]
    },
    {
      "cell_type": "markdown",
      "id": "e9c71994",
      "metadata": {
        "id": "e9c71994"
      },
      "source": [
        "## Least Squares Fit\n",
        "\n",
        "As a first example, let's return to the scenario from [Chapter 8](section_weighing_penguins).\n",
        "Suppose you are a researcher in Antarctica, studying local populations of penguins.\n",
        "As part of your data collection, you capture a sample of penguins, measure and weigh them -- and then release them unharmed.\n",
        "\n",
        "As you would soon learn, it can be difficult to get penguins to stay on the scale long enough to get an accurate measurement.\n",
        "Suppose that for some penguins we have measurements like flipper and bill sizes, but no weights.\n",
        "Let's see if we can use the other measurements to fill in the missing data -- this process is called **imputation**.\n",
        "\n",
        "We'll start by exploring the relationship between the weights and measurements, using data collected between 2007 and 2010 by researchers at Palmer Station in Antarctica.\n",
        "The data they collected is freely available -- instructions for downloading it are in the notebook for this chapter."
      ]
    },
    {
      "cell_type": "markdown",
      "id": "cbbd7611",
      "metadata": {
        "id": "cbbd7611",
        "tags": []
      },
      "source": [
        "The following cell downloads the data from a repository created by Allison Horst.\n",
        "\n",
        "Horst AM, Hill AP, Gorman KB (2020). palmerpenguins: Palmer Archipelago (Antarctica) penguin data. R package version 0.1.0. https://allisonhorst.github.io/palmerpenguins/. doi: 10.5281/zenodo.3960218.\n",
        "\n",
        "The data was collected as part of the research that led to this paper: Gorman KB, Williams TD, Fraser WR (2014). Ecological sexual dimorphism and environmental variability within a community of Antarctic penguins (genus Pygoscelis). PLoS ONE 9(3):e90081. https://doi.org/10.1371/journal.pone.0090081"
      ]
    },
    {
      "cell_type": "code",
      "execution_count": 4,
      "id": "c419a922",
      "metadata": {
        "id": "c419a922",
        "tags": []
      },
      "outputs": [],
      "source": [
        "download(\n",
        "    \"https://raw.githubusercontent.com/allisonhorst/palmerpenguins/c19a904462482430170bfe2c718775ddb7dbb885/inst/extdata/penguins_raw.csv\"\n",
        ")"
      ]
    },
    {
      "cell_type": "markdown",
      "id": "14ac7c6f",
      "metadata": {
        "id": "14ac7c6f"
      },
      "source": [
        "We can use `read_csv` to read the data."
      ]
    },
    {
      "cell_type": "code",
      "execution_count": 5,
      "id": "620df7dd",
      "metadata": {
        "id": "620df7dd"
      },
      "outputs": [
        {
          "data": {
            "text/plain": [
              "(342, 17)"
            ]
          },
          "execution_count": 5,
          "metadata": {},
          "output_type": "execute_result"
        }
      ],
      "source": [
        "penguins = pd.read_csv(\"penguins_raw.csv\").dropna(subset=[\"Body Mass (g)\"])\n",
        "penguins.shape"
      ]
    },
    {
      "cell_type": "markdown",
      "id": "6b1c33a3",
      "metadata": {
        "id": "6b1c33a3"
      },
      "source": [
        "The dataset includes measurements of 151 Adélie penguins.\n",
        "We can use `query` to select the rows that contain this data."
      ]
    },
    {
      "cell_type": "code",
      "execution_count": 6,
      "id": "be0840eb",
      "metadata": {
        "id": "be0840eb"
      },
      "outputs": [
        {
          "data": {
            "text/plain": [
              "151"
            ]
          },
          "execution_count": 6,
          "metadata": {},
          "output_type": "execute_result"
        }
      ],
      "source": [
        "adelie = penguins.query('Species.str.startswith(\"Adelie\")')\n",
        "len(adelie)"
      ]
    },
    {
      "cell_type": "markdown",
      "id": "956994da",
      "metadata": {
        "id": "956994da"
      },
      "source": [
        "Now suppose we know the flipper length of an Adélie penguin -- let's see how well we can predict its weight.\n",
        "First we'll select these columns from the `DataFrame`."
      ]
    },
    {
      "cell_type": "code",
      "execution_count": 7,
      "id": "cdaaa183",
      "metadata": {
        "id": "cdaaa183"
      },
      "outputs": [],
      "source": [
        "xvar = \"Flipper Length (mm)\"\n",
        "yvar = \"Body Mass (g)\"\n",
        "\n",
        "flipper_length = adelie[xvar]\n",
        "body_mass = adelie[yvar]"
      ]
    },
    {
      "cell_type": "markdown",
      "id": "7a935544",
      "metadata": {
        "id": "7a935544"
      },
      "source": [
        "Here's a scatter plot showing the relationship between these quantities."
      ]
    },
    {
      "cell_type": "code",
      "execution_count": 8,
      "id": "e00b0008",
      "metadata": {
        "id": "e00b0008"
      },
      "outputs": [
        {
          "data": {
            "image/png": "[encoded data removed]",
            "text/plain": [
              "<Figure size 450x262.5 with 1 Axes>"
            ]
          },
          "metadata": {},
          "output_type": "display_data"
        }
      ],
      "source": [
        "plt.scatter(flipper_length, body_mass, marker=\".\", alpha=0.5)\n",
        "decorate(xlabel=xvar, ylabel=yvar)"
      ]
    },
    {
      "cell_type": "markdown",
      "id": "d569c656",
      "metadata": {},
      "source": [
        "- Flipper Length (지느러미 길이) & 몸무게"
      ]
    },
    {
      "cell_type": "markdown",
      "id": "6d4d6645",
      "metadata": {
        "id": "6d4d6645"
      },
      "source": [
        "It looks like they are related -- we can quantify the strength of the relationship by computing the coefficient of correlation."
      ]
    },
    {
      "cell_type": "code",
      "execution_count": 9,
      "id": "39dbc4e2",
      "metadata": {
        "id": "39dbc4e2"
      },
      "outputs": [
        {
          "data": {
            "text/plain": [
              "0.4682016942179395"
            ]
          },
          "execution_count": 9,
          "metadata": {},
          "output_type": "execute_result"
        }
      ],
      "source": [
        "np.corrcoef(flipper_length, body_mass)[0, 1]"
      ]
    },
    {
      "cell_type": "markdown",
      "id": "7bcf989a",
      "metadata": {
        "id": "7bcf989a"
      },
      "source": [
        "The correlation is about 0.47, so penguins with longer flippers tend to be heavier.\n",
        "That's useful because it means we can guess a penguin's weight more accurately if we know its flipper length -- but correlation alone doesn't tell us how to make those guesses.\n",
        "For that, we need to choose a **line of best fit**.\n",
        "\n",
        "There are many ways to define the \"best\" line, but for data like this a common choice is a **linear least squares** fit, which is the straight line that minimizes the mean squared error (MSE).\n",
        "\n",
        "SciPy provides a function called `linregress` that computes a least squares fit.\n",
        "The name is short for **linear regression**, which is another term for a model like this.\n",
        "The arguments of `linregress` are the `x` values and the `y` values, in that order."
      ]
    },
    {
      "cell_type": "code",
      "execution_count": 10,
      "id": "4058c673",
      "metadata": {
        "id": "4058c673"
      },
      "outputs": [
        {
          "data": {
            "text/plain": [
              "LinregressResult(slope=32.83168975115011, intercept=-2535.836802200255, rvalue=0.4682016942179395, pvalue=1.3432645947789954e-09, stderr=5.076138407990823, intercept_stderr=964.7984274994062)"
            ]
          },
          "execution_count": 10,
          "metadata": {},
          "output_type": "execute_result"
        }
      ],
      "source": [
        "from scipy.stats import linregress\n",
        "\n",
        "result = linregress(flipper_length, body_mass)\n",
        "result"
      ]
    },
    {
      "cell_type": "markdown",
      "id": "8a6969e7",
      "metadata": {
        "id": "8a6969e7"
      },
      "source": [
        "The result is a `LinregressResult` object that contains the slope and intercept of the fitted line, along with other information we'll unpack soon.\n",
        "The slope is about 32.8, which means that each additional millimeter of flipper length is associated with an additional 32.8 grams of body weight.\n",
        "\n",
        "The intercept is -2535 grams, which might seem nonsensical, since a measured weight can't be negative.\n",
        "It might make more sense if we use the slope and intercept to evaluate the fitted line at the average flipper length."
      ]
    },
    {
      "cell_type": "code",
      "execution_count": 11,
      "id": "f44e6281",
      "metadata": {
        "id": "f44e6281"
      },
      "outputs": [
        {
          "data": {
            "text/plain": [
              "(189.95364238410596, 3700.662251655629)"
            ]
          },
          "execution_count": 11,
          "metadata": {},
          "output_type": "execute_result"
        }
      ],
      "source": [
        "x = flipper_length.mean()\n",
        "y = result.intercept + result.slope * x\n",
        "x, y"
      ]
    },
    {
      "cell_type": "markdown",
      "id": "ae01d2f7",
      "metadata": {
        "id": "ae01d2f7"
      },
      "source": [
        "For a penguin with the average flipper length, about 190 mm, the expected body weight is about 3700 grams.\n",
        "\n",
        "The following function takes the result from `linregress` and a sequence of `xs` and finds the point on the fitted line for each value of `x`."
      ]
    },
    {
      "cell_type": "code",
      "execution_count": 12,
      "id": "06312185",
      "metadata": {
        "id": "06312185"
      },
      "outputs": [],
      "source": [
        "def predict(result, xs):\n",
        "    ys = result.intercept + result.slope * xs\n",
        "    return ys"
      ]
    },
    {
      "cell_type": "markdown",
      "id": "0478c4e0",
      "metadata": {
        "id": "0478c4e0"
      },
      "source": [
        "The name `predict` might seem odd here -- in natural language, a **prediction** usually pertains to something happening in the future, but in the context of regression, the points on the fitted line are also called predictions.\n",
        "\n",
        "We can use `predict` to compute the points on the line for a range of flipper sizes."
      ]
    },
    {
      "cell_type": "code",
      "execution_count": 13,
      "id": "3b475289",
      "metadata": {
        "id": "3b475289"
      },
      "outputs": [],
      "source": [
        "fit_xs = np.linspace(np.min(flipper_length), np.max(flipper_length))\n",
        "fit_ys = predict(result, fit_xs)"
      ]
    },
    {
      "cell_type": "markdown",
      "id": "044ffcb5",
      "metadata": {
        "id": "044ffcb5"
      },
      "source": [
        "Here's the fitted line along with the scatter plot of the data."
      ]
    },
    {
      "cell_type": "code",
      "execution_count": 14,
      "id": "7c4dcf1e",
      "metadata": {
        "id": "7c4dcf1e"
      },
      "outputs": [
        {
          "data": {
            "image/png": "[encoded data removed]",
            "text/plain": [
              "<Figure size 450x262.5 with 1 Axes>"
            ]
          },
          "metadata": {},
          "output_type": "display_data"
        }
      ],
      "source": [
        "plt.scatter(flipper_length, body_mass, marker=\".\", alpha=0.5)\n",
        "plt.plot(fit_xs, fit_ys, color=\"C1\")\n",
        "decorate(xlabel=xvar, ylabel=yvar)"
      ]
    },
    {
      "cell_type": "markdown",
      "id": "2b0559d9",
      "metadata": {
        "id": "2b0559d9"
      },
      "source": [
        "As expected, the fitted line goes through the center of the data and follows the trend.\n",
        "And some of the predictions are accurate -- but many of the data points are far from the line.\n",
        "To get a sense of how good (or bad) the predictions are, we can compute the prediction error, which is the vertical distance of each point from the line.\n",
        "The following function computes these errors, which are also called **residuals**."
      ]
    },
    {
      "cell_type": "code",
      "execution_count": 15,
      "id": "8c854090",
      "metadata": {
        "id": "8c854090"
      },
      "outputs": [],
      "source": [
        "def compute_residuals(result, xs, ys):\n",
        "    fit_ys = predict(result, xs)\n",
        "    return ys - fit_ys"
      ]
    },
    {
      "cell_type": "markdown",
      "id": "c117c57d",
      "metadata": {
        "id": "c117c57d"
      },
      "source": [
        "Here are the residuals for body mass as a function of flipper length."
      ]
    },
    {
      "cell_type": "code",
      "execution_count": 16,
      "id": "eb270150",
      "metadata": {
        "id": "eb270150"
      },
      "outputs": [],
      "source": [
        "residuals = compute_residuals(result, flipper_length, body_mass)"
      ]
    },
    {
      "cell_type": "markdown",
      "id": "eb325663",
      "metadata": {
        "id": "eb325663"
      },
      "source": [
        "As an example, we can look at the results for the first penguin in the dataset."
      ]
    },
    {
      "cell_type": "code",
      "execution_count": 17,
      "id": "804ae0ef",
      "metadata": {
        "id": "804ae0ef"
      },
      "outputs": [
        {
          "data": {
            "text/plain": [
              "(181.0, 3406.699042757915)"
            ]
          },
          "execution_count": 17,
          "metadata": {},
          "output_type": "execute_result"
        }
      ],
      "source": [
        "x = flipper_length[0]\n",
        "y = predict(result, x)\n",
        "x, y"
      ]
    },
    {
      "cell_type": "markdown",
      "id": "b50053fd",
      "metadata": {
        "id": "b50053fd"
      },
      "source": [
        "The flipper length of the selected penguin is 181 mm and the predicted body mass is 3407 grams.\n",
        "Now let's see what the actual mass is."
      ]
    },
    {
      "cell_type": "code",
      "execution_count": 18,
      "id": "80dc7884",
      "metadata": {
        "id": "80dc7884"
      },
      "outputs": [
        {
          "data": {
            "text/plain": [
              "(3750.0, 343.30095724208513)"
            ]
          },
          "execution_count": 18,
          "metadata": {},
          "output_type": "execute_result"
        }
      ],
      "source": [
        "body_mass[0], residuals[0]"
      ]
    },
    {
      "cell_type": "markdown",
      "id": "1ac9b5c1",
      "metadata": {
        "id": "1ac9b5c1"
      },
      "source": [
        "The actual mass of this penguin is 3750 grams, and the residual -- after subtracting away the prediction -- is 343 grams.\n",
        "\n",
        "The average of the squared residuals is the mean squared error (MSE) of the predictions."
      ]
    },
    {
      "cell_type": "code",
      "execution_count": 19,
      "id": "39dc7cb6",
      "metadata": {
        "id": "39dc7cb6"
      },
      "outputs": [
        {
          "data": {
            "text/plain": [
              "163098.85902884745"
            ]
          },
          "execution_count": 19,
          "metadata": {},
          "output_type": "execute_result"
        }
      ],
      "source": [
        "mse = np.mean(residuals**2)\n",
        "mse"
      ]
    },
    {
      "cell_type": "markdown",
      "id": "042dca43",
      "metadata": {
        "id": "042dca43"
      },
      "source": [
        "By itself, this number doesn't mean very much.\n",
        "We can make more sense of it by computing the coefficient of determination."
      ]
    },
    {
      "cell_type": "markdown",
      "id": "d0ffe7e9",
      "metadata": {
        "id": "d0ffe7e9"
      },
      "source": [
        "## Coefficient of Determination\n",
        "\n",
        "Suppose you want to guess the weight of a penguin.\n",
        "If you know its flipper length, you can use the least squares fit to inform your guess, and the MSE quantifies the accuracy of your guesses, on average.\n",
        "\n",
        "But what if you don't know the flipper length -- what would you guess?\n",
        "It turns out that guessing the mean is the best strategy in the sense that it minimizes the MSE.\n",
        "If we always guess the mean, the prediction errors are the deviations from the mean."
      ]
    },
    {
      "cell_type": "markdown",
      "id": "70984cf1",
      "metadata": {},
      "source": [
        "결정계수, R^2"
      ]
    },
    {
      "cell_type": "code",
      "execution_count": 20,
      "id": "3b3afa64",
      "metadata": {
        "id": "3b3afa64"
      },
      "outputs": [],
      "source": [
        "deviations = body_mass - np.mean(body_mass)"
      ]
    },
    {
      "cell_type": "markdown",
      "id": "365302a0",
      "metadata": {
        "id": "365302a0"
      },
      "source": [
        "And the MSE is the mean squared deviation."
      ]
    },
    {
      "cell_type": "code",
      "execution_count": 21,
      "id": "dfad7dca",
      "metadata": {
        "id": "dfad7dca"
      },
      "outputs": [
        {
          "data": {
            "text/plain": [
              "208890.28989956583"
            ]
          },
          "execution_count": 21,
          "metadata": {},
          "output_type": "execute_result"
        }
      ],
      "source": [
        "np.mean(deviations**2)"
      ]
    },
    {
      "cell_type": "markdown",
      "id": "cb00df28",
      "metadata": {
        "id": "cb00df28"
      },
      "source": [
        "You might remember that the mean squared deviation is the variance."
      ]
    },
    {
      "cell_type": "code",
      "execution_count": 22,
      "id": "4cc9ce6d",
      "metadata": {
        "id": "4cc9ce6d"
      },
      "outputs": [
        {
          "data": {
            "text/plain": [
              "208890.28989956583"
            ]
          },
          "execution_count": 22,
          "metadata": {},
          "output_type": "execute_result"
        }
      ],
      "source": [
        "np.var(body_mass)"
      ]
    },
    {
      "cell_type": "markdown",
      "id": "e0d3dce4",
      "metadata": {
        "id": "e0d3dce4"
      },
      "source": [
        "So we can think of the variance of the masses as the MSE if we always guess the mean, and the variance of the residuals as the MSE if we use the regression line.\n",
        "If we compute the ratio of these variances and subtract it from 1, the result indicates how much the MSE is reduced if we use flipper lengths to inform our guesses.\n",
        "\n",
        "The following function computes this value, which is technically called the **coefficient of determination**, but because it is denoted $R^2$, most people call it \"R squared\"."
      ]
    },
    {
      "cell_type": "code",
      "execution_count": 23,
      "id": "48684cd3",
      "metadata": {
        "id": "48684cd3"
      },
      "outputs": [],
      "source": [
        "def coefficient_of_determination(ys, residuals):\n",
        "    return 1 - np.var(residuals) / np.var(ys)"
      ]
    },
    {
      "cell_type": "markdown",
      "id": "8971c156",
      "metadata": {
        "id": "8971c156"
      },
      "source": [
        "In the example, $R^2$ is about 0.22, which means that the fitted line reduces MSE by 22%."
      ]
    },
    {
      "cell_type": "code",
      "execution_count": 24,
      "id": "66e0749c",
      "metadata": {
        "id": "66e0749c"
      },
      "outputs": [
        {
          "data": {
            "text/plain": [
              "0.21921282646854878"
            ]
          },
          "execution_count": 24,
          "metadata": {},
          "output_type": "execute_result"
        }
      ],
      "source": [
        "R2 = coefficient_of_determination(body_mass, residuals)\n",
        "R2"
      ]
    },
    {
      "cell_type": "markdown",
      "id": "224130b5",
      "metadata": {
        "id": "224130b5"
      },
      "source": [
        "It turns out that there's a relationship between the coefficient of determination, $R^2$, and the coefficient of correlation, $r$.\n",
        "As you might guess based on the notation, $r^2 = R^2$.\n",
        "\n",
        "We can show that's true by computing the square root of $R^2$."
      ]
    },
    {
      "cell_type": "code",
      "execution_count": 25,
      "id": "e36176e6",
      "metadata": {
        "id": "e36176e6"
      },
      "outputs": [
        {
          "data": {
            "text/plain": [
              "0.46820169421793933"
            ]
          },
          "execution_count": 25,
          "metadata": {},
          "output_type": "execute_result"
        }
      ],
      "source": [
        "r = np.sqrt(R2)\n",
        "r"
      ]
    },
    {
      "cell_type": "markdown",
      "id": "8062c73d",
      "metadata": {
        "id": "8062c73d"
      },
      "source": [
        "And comparing it to the correlation we computed earlier."
      ]
    },
    {
      "cell_type": "code",
      "execution_count": 26,
      "id": "e156d1cd",
      "metadata": {
        "id": "e156d1cd"
      },
      "outputs": [
        {
          "data": {
            "text/plain": [
              "0.4682016942179395"
            ]
          },
          "execution_count": 26,
          "metadata": {},
          "output_type": "execute_result"
        }
      ],
      "source": [
        "corr = np.corrcoef(flipper_length, body_mass)[0, 1]\n",
        "corr"
      ]
    },
    {
      "cell_type": "markdown",
      "id": "9ee6aa24",
      "metadata": {
        "id": "9ee6aa24"
      },
      "source": [
        "They are the same except for a small difference due to floating-point approximation.\n",
        "\n",
        "The `linregress` function also computes this value and returns it as an attribute in the `RegressionResult` object."
      ]
    },
    {
      "cell_type": "code",
      "execution_count": 27,
      "id": "f07d4d83",
      "metadata": {
        "id": "f07d4d83"
      },
      "outputs": [
        {
          "data": {
            "text/plain": [
              "0.4682016942179395"
            ]
          },
          "execution_count": 27,
          "metadata": {},
          "output_type": "execute_result"
        }
      ],
      "source": [
        "result.rvalue"
      ]
    },
    {
      "cell_type": "markdown",
      "id": "73b81c96",
      "metadata": {
        "id": "73b81c96"
      },
      "source": [
        "The coefficients of determination and correlation convey mostly the same information, but they are interpreted differently:\n",
        "\n",
        "* Correlation quantifies the strength of the relationship on a scale from -1 to 1.\n",
        "\n",
        "* $R^2$ quantifies the ability of the fitted line to reduce MSE.\n",
        "\n",
        "Also, $R^2$ is always positive, so it doesn't indicate whether the correlation is positive or negative."
      ]
    },
    {
      "cell_type": "markdown",
      "id": "0a8926ea",
      "metadata": {
        "id": "0a8926ea"
      },
      "source": [
        "## Minimizing MSE\n",
        "\n",
        "Earlier I said that the least squares fit is the straight line that minimizes the mean squared error (MSE).\n",
        "We won't prove that, but we can test it by adding small random values to the intercept and slope, and checking whether the MSE gets worse."
      ]
    },
    {
      "cell_type": "code",
      "execution_count": 28,
      "id": "4e50d7d5",
      "metadata": {
        "id": "4e50d7d5"
      },
      "outputs": [],
      "source": [
        "intercept = result.intercept + np.random.normal(0, 1)\n",
        "slope = result.slope + np.random.normal(0, 1)"
      ]
    },
    {
      "cell_type": "markdown",
      "id": "cd78c9b5",
      "metadata": {
        "id": "cd78c9b5"
      },
      "source": [
        "To run the test, we need to make an object with `intercept` and `slope` attributes -- we'll use the `SimpleNamespace` object provided by the `types` module."
      ]
    },
    {
      "cell_type": "code",
      "execution_count": 29,
      "id": "1c98a63c",
      "metadata": {
        "id": "1c98a63c"
      },
      "outputs": [
        {
          "data": {
            "text/plain": [
              "namespace(intercept=-2535.7059791276633, slope=32.77780993832985)"
            ]
          },
          "execution_count": 29,
          "metadata": {},
          "output_type": "execute_result"
        }
      ],
      "source": [
        "from types import SimpleNamespace\n",
        "\n",
        "fake_result = SimpleNamespace(intercept=intercept, slope=slope)\n",
        "fake_result"
      ]
    },
    {
      "cell_type": "markdown",
      "id": "02043f15",
      "metadata": {
        "id": "02043f15"
      },
      "source": [
        "We can pass this object to `compute_residuals` and use the residuals to compute the MSE."
      ]
    },
    {
      "cell_type": "code",
      "execution_count": 30,
      "id": "d4cb5b9e",
      "metadata": {
        "id": "d4cb5b9e"
      },
      "outputs": [],
      "source": [
        "fake_residuals = compute_residuals(fake_result, flipper_length, body_mass)\n",
        "fake_mse = np.mean(fake_residuals**2)"
      ]
    },
    {
      "cell_type": "markdown",
      "id": "56ef080c",
      "metadata": {
        "id": "56ef080c"
      },
      "source": [
        "If we compare the result to the MSE of the least squares line, it is always worse."
      ]
    },
    {
      "cell_type": "code",
      "execution_count": 31,
      "id": "93accff0",
      "metadata": {
        "id": "93accff0"
      },
      "outputs": [
        {
          "data": {
            "text/plain": [
              "(163098.85902884745, 163201.07000946993, True)"
            ]
          },
          "execution_count": 31,
          "metadata": {},
          "output_type": "execute_result"
        }
      ],
      "source": [
        "mse, fake_mse, fake_mse > mse"
      ]
    },
    {
      "cell_type": "markdown",
      "id": "96cc8f21",
      "metadata": {
        "id": "96cc8f21"
      },
      "source": [
        "Minimizing MSE is nice, but it's not the only definition of \"best\".\n",
        "One alternative is to minimize the absolute values of the errors.\n",
        "Another is to minimize the shortest distance from each point to the fitted line, which is called the \"total error\".\n",
        "In some contexts, guessing too high might be better (or worse) than guessing too low.\n",
        "In that case you might want to compute a cost function for each residual, and minimize total cost.\n",
        "\n",
        "But the least squares fit is much more widely used than these alternatives, primarily because it is efficient to compute.\n",
        "The following function shows how."
      ]
    },
    {
      "cell_type": "code",
      "execution_count": 32,
      "id": "463fb4e2",
      "metadata": {
        "id": "463fb4e2"
      },
      "outputs": [],
      "source": [
        "def least_squares(xs, ys):\n",
        "    xbar = np.mean(xs)\n",
        "    ybar = np.mean(ys)\n",
        "\n",
        "    xdev = xs - xbar\n",
        "    ydev = ys - ybar\n",
        "\n",
        "    slope = np.sum(xdev * ydev) / np.sum(xdev**2)\n",
        "    intercept = ybar - slope * xbar\n",
        "\n",
        "    return intercept, slope"
      ]
    },
    {
      "cell_type": "markdown",
      "id": "8c317cad",
      "metadata": {
        "id": "8c317cad"
      },
      "source": [
        "To test this function, we'll use flipper length and body mass again."
      ]
    },
    {
      "cell_type": "code",
      "execution_count": 33,
      "id": "0b12bc0e",
      "metadata": {
        "id": "0b12bc0e"
      },
      "outputs": [
        {
          "data": {
            "text/plain": [
              "(-2535.8368022002524, 32.831689751150094)"
            ]
          },
          "execution_count": 33,
          "metadata": {},
          "output_type": "execute_result"
        }
      ],
      "source": [
        "intercept, slope = least_squares(flipper_length, body_mass)\n",
        "intercept, slope"
      ]
    },
    {
      "cell_type": "markdown",
      "id": "85abab42",
      "metadata": {
        "id": "85abab42"
      },
      "source": [
        "And we can confirm that we get the same results we got from `linregress`."
      ]
    },
    {
      "cell_type": "code",
      "execution_count": 34,
      "id": "131a2abf",
      "metadata": {
        "id": "131a2abf"
      },
      "outputs": [
        {
          "data": {
            "text/plain": [
              "True"
            ]
          },
          "execution_count": 34,
          "metadata": {},
          "output_type": "execute_result"
        }
      ],
      "source": [
        "np.allclose([intercept, slope], [result.intercept, result.slope])"
      ]
    },
    {
      "cell_type": "markdown",
      "id": "80963c2e",
      "metadata": {
        "id": "80963c2e"
      },
      "source": [
        "Minimizing MSE made sense when computational efficiency was more important than choosing the method most appropriate to the problem at hand.\n",
        "But that's no longer the case, so it is worth considering whether squared residuals are the right thing to minimize."
      ]
    },
    {
      "cell_type": "markdown",
      "id": "7be8b43c",
      "metadata": {
        "id": "7be8b43c"
      },
      "source": [
        "## Estimation\n",
        "\n",
        "The parameters `slope` and `intercept` are estimates based on a sample.\n",
        "Like other estimates, they are vulnerable to non-representative sampling, measurement error, and variability due to random sampling.\n",
        "As usual, it's hard to quantify the effect of non-representative sampling and measurement error.\n",
        "It's easier to quantify the effect of random sampling.\n",
        "\n",
        "One way to do that is a kind of resampling called **bootstrapping**: we'll treat the sample as if it were the whole population and draw new samples, with replacement, from the observed data.\n",
        "The following function takes a `DataFrame` and uses the `sample` method to resample the rows and return a new `DataFrame`."
      ]
    },
    {
      "cell_type": "code",
      "execution_count": 35,
      "id": "946cb0af",
      "metadata": {
        "id": "946cb0af"
      },
      "outputs": [],
      "source": [
        "def resample(df):\n",
        "    n = len(df)\n",
        "    return df.sample(n, replace=True)"
      ]
    },
    {
      "cell_type": "markdown",
      "id": "b21ce7da",
      "metadata": {
        "id": "b21ce7da"
      },
      "source": [
        "And the following function takes a `DataFrame`, finds the least squares fit, and returns the slope of the fitted line."
      ]
    },
    {
      "cell_type": "code",
      "execution_count": 36,
      "id": "4bbfe5c0",
      "metadata": {
        "id": "4bbfe5c0"
      },
      "outputs": [],
      "source": [
        "def estimate_slope(df):\n",
        "    xs, ys = df[\"Flipper Length (mm)\"], df[\"Body Mass (g)\"]\n",
        "    result = linregress(xs, ys)\n",
        "    return result.slope"
      ]
    },
    {
      "cell_type": "markdown",
      "id": "d8980ae4",
      "metadata": {
        "id": "d8980ae4"
      },
      "source": [
        "We can use these functions to generate many simulated datasets and compute the slope for each one."
      ]
    },
    {
      "cell_type": "code",
      "execution_count": 37,
      "id": "8368eb15",
      "metadata": {
        "id": "8368eb15",
        "tags": []
      },
      "outputs": [],
      "source": [
        "# Seed the random number generator so we get the same results every time\n",
        "\n",
        "np.random.seed(1)"
      ]
    },
    {
      "cell_type": "code",
      "execution_count": 38,
      "id": "5584d4dd",
      "metadata": {
        "id": "5584d4dd"
      },
      "outputs": [],
      "source": [
        "resampled_slopes = [estimate_slope(resample(adelie)) for i in range(1001)]"
      ]
    },
    {
      "cell_type": "markdown",
      "id": "545a0455",
      "metadata": {
        "id": "545a0455"
      },
      "source": [
        "The result is a sample from the sampling distribution of the slope.\n",
        "Here's what it looks like."
      ]
    },
    {
      "cell_type": "code",
      "execution_count": 39,
      "id": "a8bc7d59",
      "metadata": {
        "id": "a8bc7d59"
      },
      "outputs": [
        {
          "data": {
            "image/png": "[encoded data removed]",
            "text/plain": [
              "<Figure size 450x262.5 with 1 Axes>"
            ]
          },
          "metadata": {},
          "output_type": "display_data"
        }
      ],
      "source": [
        "from thinkstats import plot_kde\n",
        "\n",
        "plot_kde(resampled_slopes)\n",
        "decorate(xlabel=\"Slope of the fitted line (g / mm)\", ylabel=\"Density\")"
      ]
    },
    {
      "cell_type": "markdown",
      "id": "5e256d1c",
      "metadata": {
        "id": "5e256d1c"
      },
      "source": [
        "We can use `percentile` to compute a 90% confidence interval."
      ]
    },
    {
      "cell_type": "code",
      "execution_count": 40,
      "id": "4c71f285",
      "metadata": {
        "id": "4c71f285"
      },
      "outputs": [
        {
          "name": "stdout",
          "output_type": "stream",
          "text": [
            "32.83168975115011 [25.39604591 40.21054526]\n"
          ]
        }
      ],
      "source": [
        "ci90 = np.percentile(resampled_slopes, [5, 95])\n",
        "print(result.slope, ci90)"
      ]
    },
    {
      "cell_type": "markdown",
      "id": "f29d0d6a",
      "metadata": {
        "id": "f29d0d6a"
      },
      "source": [
        "So we could report that the estimated slope is 33 grams / mm with a 90% CI [25, 40] grams / mm.\n",
        "\n",
        "The standard error of the estimate is the standard deviation of the sampling distribution."
      ]
    },
    {
      "cell_type": "code",
      "execution_count": 41,
      "id": "2df6315c",
      "metadata": {
        "id": "2df6315c"
      },
      "outputs": [
        {
          "data": {
            "text/plain": [
              "4.570238986584834"
            ]
          },
          "execution_count": 41,
          "metadata": {},
          "output_type": "execute_result"
        }
      ],
      "source": [
        "stderr = np.std(resampled_slopes)\n",
        "stderr"
      ]
    },
    {
      "cell_type": "markdown",
      "id": "f8d2bb80",
      "metadata": {
        "id": "f8d2bb80"
      },
      "source": [
        "The `RegressionResult` object we got from `linregress` provides an approximation of the standard error, based on some assumptions about the shape of the distribution."
      ]
    },
    {
      "cell_type": "code",
      "execution_count": 42,
      "id": "ed506e96",
      "metadata": {
        "id": "ed506e96"
      },
      "outputs": [
        {
          "data": {
            "text/plain": [
              "5.076138407990823"
            ]
          },
          "execution_count": 42,
          "metadata": {},
          "output_type": "execute_result"
        }
      ],
      "source": [
        "result.stderr"
      ]
    },
    {
      "cell_type": "markdown",
      "id": "431e7625",
      "metadata": {
        "id": "431e7625"
      },
      "source": [
        "The standard error we computed by resampling is a little smaller, but the difference probably doesn't matter in practice."
      ]
    },
    {
      "cell_type": "markdown",
      "id": "10af2a8e",
      "metadata": {
        "id": "10af2a8e"
      },
      "source": [
        "## Visualizing Uncertainty\n",
        "\n",
        "Each time we resample the dataset, we get a different fitted line.\n",
        "To see how much variation there is in the lines, one option is to loop through them and plot them all.\n",
        "The following function takes a resampled `DataFrame`, computes a least squares fit, and generates predicted values for a sequence of `xs`."
      ]
    },
    {
      "cell_type": "markdown",
      "id": "95b078dc",
      "metadata": {},
      "source": [
        "| 구분 | 리샘플링 (Resampling) | 부트스트래핑 (Bootstrapping) |\n",
        "| :--- | :--- | :--- |\n",
        "| **개념** | 데이터를 반복적으로 재추출하는 모든 방법 (**상위 개념**) | 리샘플링의 한 종류 (**하위 개념**) |\n",
        "| **핵심 특징** | 목적에 따라 다양한 추출 방법 사용 | 반드시 '복원 추출'을 사용 |\n",
        "| **주요 목적** | 모델 검증, 가설 검정, 불확실성 추정 등 다양 | 주로 통계치의 **불확실성 추정** (신뢰구간, 표준오차) |"
      ]
    },
    {
      "cell_type": "code",
      "execution_count": 44,
      "id": "d1e34e22",
      "metadata": {
        "id": "d1e34e22"
      },
      "outputs": [],
      "source": [
        "def fit_line(df, fit_xs):\n",
        "    xs, ys = df[\"Flipper Length (mm)\"], df[\"Body Mass (g)\"]\n",
        "    result = linregress(xs, ys)\n",
        "    fit_ys = predict(result, fit_xs)\n",
        "    return fit_ys"
      ]
    },
    {
      "cell_type": "markdown",
      "id": "6c885dbe",
      "metadata": {
        "id": "6c885dbe"
      },
      "source": [
        "Here's the sequence of `xs` we'll use."
      ]
    },
    {
      "cell_type": "code",
      "execution_count": 45,
      "id": "7533f92d",
      "metadata": {
        "id": "7533f92d"
      },
      "outputs": [],
      "source": [
        "xs = adelie[\"Flipper Length (mm)\"]\n",
        "fit_xs = np.linspace(np.min(xs), np.max(xs))"
      ]
    },
    {
      "cell_type": "markdown",
      "id": "a3691a5d",
      "metadata": {
        "id": "a3691a5d"
      },
      "source": [
        "And here's what the fitted lines look like, along with a scatter plot of the data."
      ]
    },
    {
      "cell_type": "code",
      "execution_count": 46,
      "id": "9f02ea92",
      "metadata": {
        "id": "9f02ea92"
      },
      "outputs": [
        {
          "data": {
            "image/png": "[encoded data removed]",
            "text/plain": [
              "<Figure size 450x262.5 with 1 Axes>"
            ]
          },
          "metadata": {},
          "output_type": "display_data"
        }
      ],
      "source": [
        "plt.scatter(flipper_length, body_mass, marker=\".\", alpha=0.5)\n",
        "\n",
        "for i in range(101):\n",
        "    fit_ys = fit_line(resample(adelie), fit_xs)\n",
        "    plt.plot(fit_xs, fit_ys, color=\"C1\", alpha=0.05)\n",
        "\n",
        "decorate(xlabel=xvar, ylabel=yvar)"
      ]
    },
    {
      "cell_type": "markdown",
      "id": "00c7fab4",
      "metadata": {
        "id": "00c7fab4"
      },
      "source": [
        "Near the middle, the fitted lines are close together -- at the extremes, they are farther apart.\n",
        "\n",
        "Another way to represent the variability of the fitted lines is to plot a 90% confidence interval for each predicted value.\n",
        "We can do that by collecting the fitted lines as a list of arrays."
      ]
    },
    {
      "cell_type": "code",
      "execution_count": 47,
      "id": "82323ae6",
      "metadata": {
        "id": "82323ae6"
      },
      "outputs": [],
      "source": [
        "fitted_ys = [fit_line(resample(adelie), fit_xs) for i in range(1001)]"
      ]
    },
    {
      "cell_type": "markdown",
      "id": "1435df9e",
      "metadata": {
        "id": "1435df9e"
      },
      "source": [
        "We can think of this list of arrays as a two-dimensional array with one row for each fitted line and one column corresponding to each of the `xs`.\n",
        "\n",
        "We can use `percentile` with the `axis=0` argument to find the 5th, 50th, and 95th percentiles of the `ys` corresponding to each of the `xs`."
      ]
    },
    {
      "cell_type": "code",
      "execution_count": 48,
      "id": "a6625fd2",
      "metadata": {
        "id": "a6625fd2"
      },
      "outputs": [],
      "source": [
        "low, median, high = np.percentile(fitted_ys, [5, 50, 95], axis=0)"
      ]
    },
    {
      "cell_type": "markdown",
      "id": "7cd8b3c8",
      "metadata": {
        "id": "7cd8b3c8"
      },
      "source": [
        "Now we'll use `fill_between` to plot a region between the 5th and 95 percentiles, which represents the 90% CI, along with the median value in each column and a scatter plot of the data."
      ]
    },
    {
      "cell_type": "code",
      "execution_count": 49,
      "id": "3f2f2757",
      "metadata": {
        "id": "3f2f2757"
      },
      "outputs": [
        {
          "data": {
            "image/png": "[encoded data removed]",
            "text/plain": [
              "<Figure size 450x262.5 with 1 Axes>"
            ]
          },
          "metadata": {},
          "output_type": "display_data"
        }
      ],
      "source": [
        "plt.scatter(flipper_length, body_mass, marker=\".\", alpha=0.5)\n",
        "\n",
        "plt.fill_between(fit_xs, low, high, color=\"C1\", lw=0, alpha=0.2)\n",
        "plt.plot(fit_xs, median, color=\"C1\")\n",
        "\n",
        "decorate(xlabel=xvar, ylabel=yvar)"
      ]
    },
    {
      "cell_type": "markdown",
      "id": "6f4a2608",
      "metadata": {
        "id": "6f4a2608"
      },
      "source": [
        "This is my favorite way to represent the variability of a fitted line due to random sampling."
      ]
    },
    {
      "cell_type": "markdown",
      "id": "fdf4ad45",
      "metadata": {
        "id": "fdf4ad45"
      },
      "source": [
        "## Transformation\n",
        "\n",
        "Before fitting a line to data, it is sometimes useful to transform one or both variables, for example by computing the squares of the values, their square roots, or their logarithms.\n",
        "To demonstrate, we'll use heights and weights from the Behavioral Risk Factor Surveillance System (BRFSS), described in [Chapter 5](section_lognormal_distribution)."
      ]
    },
    {
      "cell_type": "markdown",
      "id": "a03624ce",
      "metadata": {
        "id": "a03624ce",
        "tags": []
      },
      "source": [
        "The following cell downloads the BRFSS data."
      ]
    },
    {
      "cell_type": "code",
      "execution_count": 50,
      "id": "5e63baf2",
      "metadata": {
        "id": "5e63baf2",
        "tags": []
      },
      "outputs": [],
      "source": [
        "download(\"https://github.com/AllenDowney/ThinkStats/raw/v3/data/CDBRFS08.ASC.gz\")"
      ]
    },
    {
      "cell_type": "markdown",
      "id": "3567c02b",
      "metadata": {
        "id": "3567c02b"
      },
      "source": [
        "We can load the BRFSS data like this."
      ]
    },
    {
      "cell_type": "code",
      "execution_count": 51,
      "id": "b5952b05",
      "metadata": {
        "id": "b5952b05"
      },
      "outputs": [],
      "source": [
        "from thinkstats import read_brfss\n",
        "\n",
        "brfss = read_brfss()"
      ]
    },
    {
      "cell_type": "markdown",
      "id": "f67523bd",
      "metadata": {
        "id": "f67523bd"
      },
      "source": [
        "Next we'll find the rows with valid data and select the columns containing heights and weights."
      ]
    },
    {
      "cell_type": "code",
      "execution_count": 52,
      "id": "69a5306f",
      "metadata": {
        "id": "69a5306f"
      },
      "outputs": [],
      "source": [
        "valid = brfss.dropna(subset=[\"htm3\", \"wtkg2\"])\n",
        "heights, weights = valid[\"htm3\"], valid[\"wtkg2\"]"
      ]
    },
    {
      "cell_type": "markdown",
      "id": "90dfb595",
      "metadata": {
        "id": "90dfb595"
      },
      "source": [
        "We can use `linregress` to compute the slope and intercept of the least squares fit."
      ]
    },
    {
      "cell_type": "code",
      "execution_count": 53,
      "id": "676f5d5d",
      "metadata": {
        "id": "676f5d5d"
      },
      "outputs": [
        {
          "data": {
            "text/plain": [
              "(-82.65926054409888, 0.9570745850332266)"
            ]
          },
          "execution_count": 53,
          "metadata": {},
          "output_type": "execute_result"
        }
      ],
      "source": [
        "result_brfss = linregress(heights, weights)\n",
        "result_brfss.intercept, result_brfss.slope"
      ]
    },
    {
      "cell_type": "markdown",
      "id": "fc30f57c",
      "metadata": {
        "id": "fc30f57c"
      },
      "source": [
        "The slope is about 0.96, which means that an increase of 1 centimeter corresponds to an increase of almost 1 kilogram, on average.\n",
        "We can use `predict` again to generate predicted values for a range of `xs`."
      ]
    },
    {
      "cell_type": "code",
      "execution_count": 54,
      "id": "673d3e7a",
      "metadata": {
        "id": "673d3e7a"
      },
      "outputs": [],
      "source": [
        "fit_xs = np.linspace(heights.min(), heights.max())\n",
        "fit_ys = predict(result_brfss, fit_xs)"
      ]
    },
    {
      "cell_type": "markdown",
      "id": "eb43844b",
      "metadata": {
        "id": "eb43844b"
      },
      "source": [
        "Before we make a scatter plot of the data, it's useful to jitter the heights and weights."
      ]
    },
    {
      "cell_type": "code",
      "execution_count": 55,
      "id": "096c4dab",
      "metadata": {
        "id": "096c4dab"
      },
      "outputs": [],
      "source": [
        "from thinkstats import jitter\n",
        "\n",
        "jittered_heights = jitter(heights, 2)\n",
        "jittered_weights = jitter(weights, 1.5)"
      ]
    },
    {
      "cell_type": "markdown",
      "id": "0dc0610d",
      "metadata": {
        "id": "0dc0610d"
      },
      "source": [
        "And we'll use the mean and standard deviation of the heights to choose the limits of the $x$ axis."
      ]
    },
    {
      "cell_type": "code",
      "execution_count": 56,
      "id": "5dc09724",
      "metadata": {
        "id": "5dc09724"
      },
      "outputs": [],
      "source": [
        "m, s = heights.mean(), heights.std()\n",
        "xlim = m - 4 * s, m + 4 * s\n",
        "ylim = 0, 200"
      ]
    },
    {
      "cell_type": "markdown",
      "id": "897901c3",
      "metadata": {
        "id": "897901c3"
      },
      "source": [
        "Here's a scatter plot of the jittered data along with the fitted line."
      ]
    },
    {
      "cell_type": "code",
      "execution_count": 57,
      "id": "4dd0b832",
      "metadata": {
        "id": "4dd0b832"
      },
      "outputs": [
        {
          "data": {
            "image/png": "[encoded data removed]",
            "text/plain": [
              "<Figure size 450x262.5 with 1 Axes>"
            ]
          },
          "metadata": {},
          "output_type": "display_data"
        }
      ],
      "source": [
        "plt.scatter(jittered_heights, jittered_weights, alpha=0.01, s=0.1)\n",
        "plt.plot(fit_xs, fit_ys, color=\"C1\")\n",
        "decorate(xlabel=\"Height (cm)\", ylabel=\"Weight (kg)\", xlim=xlim, ylim=ylim)"
      ]
    },
    {
      "cell_type": "markdown",
      "id": "20fb9546",
      "metadata": {
        "id": "20fb9546"
      },
      "source": [
        "The fitted line doesn't pass through the densest part of the scatter plot.\n",
        "That's because the weights don't follow a normal distribution.\n",
        "As we saw in [Chapter 5](section_lognormal_distribution), adult weights tend to follow a lognormal distribution, which is skewed toward larger values -- and those values pull the fitted line up.\n",
        "\n",
        "Another cause for concern is the distribution of the residuals, which looks like this."
      ]
    },
    {
      "cell_type": "code",
      "execution_count": 58,
      "id": "690052bd",
      "metadata": {
        "id": "690052bd"
      },
      "outputs": [],
      "source": [
        "residuals = compute_residuals(result_brfss, heights, weights)"
      ]
    },
    {
      "cell_type": "code",
      "execution_count": 59,
      "id": "a5c068b0",
      "metadata": {
        "id": "a5c068b0"
      },
      "outputs": [
        {
          "data": {
            "image/png": "[encoded data removed]",
            "text/plain": [
              "<Figure size 450x262.5 with 1 Axes>"
            ]
          },
          "metadata": {},
          "output_type": "display_data"
        }
      ],
      "source": [
        "from thinkstats import make_pmf\n",
        "\n",
        "pmf_kde = make_pmf(residuals, -60, 120)\n",
        "pmf_kde.plot()\n",
        "\n",
        "decorate(xlabel=\"Residual (kg)\", ylabel=\"Density\")"
      ]
    },
    {
      "cell_type": "markdown",
      "id": "19fa8863",
      "metadata": {},
      "source": [
        "- 무게가 많이 나가는 과체중 데이터에 대한 예측력이 떨어진다는 것을 짐작할 수 있음"
      ]
    },
    {
      "cell_type": "markdown",
      "id": "2ba56d5a",
      "metadata": {
        "id": "2ba56d5a"
      },
      "source": [
        "The distribution of the residuals is skewed to the right.\n",
        "By itself, that's not necessarily a problem, but it suggests that the least squares fit has not characterized the relationship between these variables properly.\n",
        "\n",
        "If the weights follow a lognormal distribution, their logarithms follow a normal distribution.\n",
        "So let's see what happens if we fit a line to the logarithms of weight as a function of height."
      ]
    },
    {
      "cell_type": "code",
      "execution_count": 60,
      "id": "3aee74ff",
      "metadata": {
        "id": "3aee74ff"
      },
      "outputs": [
        {
          "data": {
            "text/plain": [
              "(0.9930804163932888, 0.00528145416941777)"
            ]
          },
          "execution_count": 60,
          "metadata": {},
          "output_type": "execute_result"
        }
      ],
      "source": [
        "log_weights = np.log10(weights)\n",
        "result_brfss2 = linregress(heights, log_weights)\n",
        "result_brfss2.intercept, result_brfss2.slope"
      ]
    },
    {
      "cell_type": "markdown",
      "id": "e73c912f",
      "metadata": {},
      "source": [
        "- 그래서 로그변환!"
      ]
    },
    {
      "cell_type": "markdown",
      "id": "f943315a",
      "metadata": {
        "id": "f943315a"
      },
      "source": [
        "Because we transformed one of the variables, the slope and intercept are harder to interpret.\n",
        "But we can use `predict` to compute the fitted line."
      ]
    },
    {
      "cell_type": "code",
      "execution_count": 61,
      "id": "d7a70f7d",
      "metadata": {
        "id": "d7a70f7d"
      },
      "outputs": [],
      "source": [
        "fit_xs = np.linspace(heights.min(), heights.max())\n",
        "fit_ys = predict(result_brfss2, fit_xs)"
      ]
    },
    {
      "cell_type": "markdown",
      "id": "c14366c7",
      "metadata": {
        "id": "c14366c7"
      },
      "source": [
        "And then plot it along with a scatter plot of the transformed data."
      ]
    },
    {
      "cell_type": "code",
      "execution_count": 62,
      "id": "140c444b",
      "metadata": {
        "id": "140c444b"
      },
      "outputs": [
        {
          "data": {
            "image/png": "[encoded data removed]",
            "text/plain": [
              "<Figure size 450x262.5 with 1 Axes>"
            ]
          },
          "metadata": {},
          "output_type": "display_data"
        }
      ],
      "source": [
        "jittered_log_weights = jitter(log_weights, 1.5)\n",
        "plt.scatter(jittered_heights, jittered_log_weights, alpha=0.01, s=0.1)\n",
        "plt.plot(fit_xs, fit_ys, color=\"C1\")\n",
        "decorate(xlabel=\"Height (cm)\", ylabel=\"Weight (log10 kg)\", xlim=xlim)"
      ]
    },
    {
      "cell_type": "markdown",
      "id": "eed46ead",
      "metadata": {
        "id": "eed46ead"
      },
      "source": [
        "The fitted line passes through the densest part of the plot, and the actual values extend about the same distance above and below the line -- so the distribution of the residuals is roughly symmetric."
      ]
    },
    {
      "cell_type": "code",
      "execution_count": 63,
      "id": "648fcc50",
      "metadata": {
        "id": "648fcc50"
      },
      "outputs": [],
      "source": [
        "residuals = compute_residuals(result_brfss2, heights, log_weights)"
      ]
    },
    {
      "cell_type": "code",
      "execution_count": 64,
      "id": "eaf06507",
      "metadata": {
        "id": "eaf06507"
      },
      "outputs": [
        {
          "data": {
            "image/png": "[encoded data removed]",
            "text/plain": [
              "<Figure size 450x262.5 with 1 Axes>"
            ]
          },
          "metadata": {},
          "output_type": "display_data"
        }
      ],
      "source": [
        "pmf_kde = make_pmf(residuals, -0.6, 0.6)\n",
        "pmf_kde.plot()\n",
        "\n",
        "decorate(xlabel=\"Residual (kg)\", ylabel=\"Density\")"
      ]
    },
    {
      "cell_type": "markdown",
      "id": "9cd26003",
      "metadata": {
        "id": "9cd26003"
      },
      "source": [
        "The appearance of the scatter plot and the distribution of the residuals suggest that the relationship of height and log-transformed weight is well described by the fitted line.\n",
        "If we compare the $r$ values of the two regressions, we see that the correlation of height with log-transformed weights is slightly higher."
      ]
    },
    {
      "cell_type": "code",
      "execution_count": 65,
      "id": "f06bdbbd",
      "metadata": {
        "id": "f06bdbbd"
      },
      "outputs": [
        {
          "data": {
            "text/plain": [
              "(0.508736478973458, 0.5317282605983428)"
            ]
          },
          "execution_count": 65,
          "metadata": {},
          "output_type": "execute_result"
        }
      ],
      "source": [
        "result_brfss.rvalue, result_brfss2.rvalue"
      ]
    },
    {
      "cell_type": "markdown",
      "id": "e67b10c3",
      "metadata": {
        "id": "e67b10c3"
      },
      "source": [
        "Which means that the $R^2$ value is slightly higher, too."
      ]
    },
    {
      "cell_type": "code",
      "execution_count": 66,
      "id": "7e688139",
      "metadata": {
        "id": "7e688139"
      },
      "outputs": [
        {
          "data": {
            "text/plain": [
              "(0.25881280503831167, 0.2827349431189391)"
            ]
          },
          "execution_count": 66,
          "metadata": {},
          "output_type": "execute_result"
        }
      ],
      "source": [
        "result_brfss.rvalue**2, result_brfss2.rvalue**2"
      ]
    },
    {
      "cell_type": "markdown",
      "id": "50403512",
      "metadata": {
        "id": "50403512"
      },
      "source": [
        "If we use heights to guess weights, the guesses are a little better if we work with the log-transformed weights.\n",
        "\n",
        "However, transforming the data makes the parameters of the model harder to interpret -- it can help to invert the transformation before presenting the results.\n",
        "For example, the inverse of a logarithm in base 10 is exponentiation with base 10.\n",
        "Here's what the fitted line looks like after the inverse transformation, along with the untransformed data."
      ]
    },
    {
      "cell_type": "code",
      "execution_count": 67,
      "id": "5f0ac955",
      "metadata": {
        "id": "5f0ac955"
      },
      "outputs": [
        {
          "data": {
            "image/png": "[encoded data removed]",
            "text/plain": [
              "<Figure size 450x262.5 with 1 Axes>"
            ]
          },
          "metadata": {},
          "output_type": "display_data"
        }
      ],
      "source": [
        "plt.scatter(jittered_heights, jittered_weights, alpha=0.01, s=0.1)\n",
        "plt.plot(fit_xs, 10**fit_ys, color=\"C1\")\n",
        "decorate(xlabel=\"Height (cm)\", ylabel=\"Weight (kg)\", xlim=xlim, ylim=ylim)"
      ]
    },
    {
      "cell_type": "markdown",
      "id": "fa5b530f",
      "metadata": {
        "id": "fa5b530f"
      },
      "source": [
        "A fitted line that's straight with respect to the transformed data is curved with respect to the original data."
      ]
    },
    {
      "cell_type": "markdown",
      "id": "48031c7b",
      "metadata": {
        "id": "48031c7b"
      },
      "source": [
        "## Glossary\n",
        "\n",
        "-   **model**: In the context of regression, a model is a mathematical description of the relationship between variables -- such as a straight line -- along with a description of random variation -- such as a normal distribution.\n",
        "\n",
        "-   **imputation:** A process for estimating and filling in missing values in a dataset.\n",
        "\n",
        "-   **line of best fit:** A line (or curve) that best describes a relationship between variables, by some definition of \"best\".\n",
        "\n",
        "-   **linear regression:** A method for finding a line of best fit.\n",
        "\n",
        "-   **prediction**: A point on a line of best fit -- in the context of regression, it is not necessarily a claim about the future.\n",
        "\n",
        "-   **residual**: The difference between an observed value and a value predicted by a line of best fit.\n",
        "\n",
        "-   **linear least squares fit:** A line that minimizes the sum of squared residuals.\n",
        "\n",
        "-   **coefficient of determination**: A statistic, denoted $R^2$ and often pronounced \"R squared\", that quantifies how well a model fits the data.\n",
        "\n",
        "-   **bootstrap resampling**: A way of resampling by treating the sample as a population and drawing new samples with the same size as the original, with replacement."
      ]
    },
    {
      "cell_type": "markdown",
      "id": "f27d748b",
      "metadata": {
        "id": "f27d748b"
      },
      "source": [
        "## Exercises"
      ]
    },
    {
      "cell_type": "markdown",
      "id": "03729432",
      "metadata": {
        "id": "03729432"
      },
      "source": [
        "### Exercise 10.1\n",
        "\n",
        "In this chapter we computed a least squares fit for penguin weights as a function of flipper length.\n",
        "There are two other measurements in the dataset we can also consider: culmen length and culmen depth (the culmen is the top ridge of the bill).\n",
        "\n",
        "Compute the least squares fit for weight as a function of culmen length.\n",
        "Make a scatter plot of these variables and plot the fitted line.\n",
        "\n",
        "Based on the `rvalue` attribute of the `RegressionResult` object, what is the correlation of these variables?\n",
        "What is the coefficient of determination?\n",
        "Which is a better predictor of weight, culmen length or flipper length?"
      ]
    },
    {
      "cell_type": "code",
      "execution_count": 68,
      "id": "6282fc75",
      "metadata": {
        "id": "6282fc75",
        "tags": []
      },
      "outputs": [],
      "source": [
        "xvar = \"Culmen Length (mm)\"\n",
        "yvar = \"Body Mass (g)\"\n",
        "\n",
        "culmen_length = adelie[xvar]\n",
        "body_mass = adelie[yvar]"
      ]
    },
    {
      "cell_type": "code",
      "execution_count": 69,
      "id": "530f922d",
      "metadata": {
        "id": "530f922d"
      },
      "outputs": [
        {
          "name": "stdout",
          "output_type": "stream",
          "text": [
            "LinregressResult(slope=94.49981540132973, intercept=34.882988653715984, rvalue=0.5488658064533206, pvalue=2.9547579193016823e-13, stderr=11.790478185101207, intercept_stderr=458.43870972286146)\n"
          ]
        }
      ],
      "source": [
        "# Solution goes here\n",
        "import numpy as np\n",
        "from scipy.stats import linregress\n",
        "\n",
        "result_culmen = linregress(culmen_length, body_mass)\n",
        "print(result_culmen)"
      ]
    },
    {
      "cell_type": "code",
      "execution_count": 72,
      "id": "02ed5fd4",
      "metadata": {
        "id": "02ed5fd4"
      },
      "outputs": [
        {
          "data": {
            "image/png": "[encoded data removed]",
            "text/plain": [
              "<Figure size 450x262.5 with 1 Axes>"
            ]
          },
          "metadata": {},
          "output_type": "display_data"
        }
      ],
      "source": [
        "# Solution goes here\n",
        "import matplotlib.pyplot as plt\n",
        "\n",
        "fit_xs = np.linspace(culmen_length.min(), culmen_length.max())\n",
        "fit_ys = result_culmen.intercept + result_culmen.slope * fit_xs\n",
        "\n",
        "plt.scatter(culmen_length, body_mass, alpha=0.5, label='Adelie Penguin Data')\n",
        "plt.plot(fit_xs, fit_ys, color='C1', label='Fitted Line')\n",
        "plt.xlabel(\"Culmen Length (mm)\")\n",
        "plt.ylabel(\"Body Mass (g)\")\n",
        "plt.title(\"Penguin Body Mass vs. Culmen Length\")\n",
        "plt.legend()\n",
        "plt.show()"
      ]
    },
    {
      "cell_type": "code",
      "execution_count": 71,
      "id": "d1d2f329",
      "metadata": {
        "id": "d1d2f329"
      },
      "outputs": [
        {
          "name": "stdout",
          "output_type": "stream",
          "text": [
            "상관계수 (r): 0.5489\n",
            "결정계수 (R²): 0.3013\n"
          ]
        }
      ],
      "source": [
        "# Solution goes here\n",
        "# 상관계수\n",
        "correlation = result_culmen.rvalue\n",
        "print(f\"상관계수 (r): {correlation:.4f}\")\n",
        "\n",
        "# 결정계수\n",
        "R2 = correlation**2\n",
        "print(f\"결정계수 (R²): {R2:.4f}\")"
      ]
    },
    {
      "cell_type": "markdown",
      "id": "54e8ffe7",
      "metadata": {
        "id": "54e8ffe7"
      },
      "source": [
        "### Exercise 10.2\n",
        "\n",
        "In this chapter we used resampling to approximate the sampling distribution for the slope of a fitted line.\n",
        "We can approximate the sampling distribution of the intercept the same way:\n",
        "\n",
        "1. Write a function called `estimate_intercept` that takes a resampled `DataFrame` as an argument, computes the least squares fit of penguin weight as a function of flipper length, and returns the intercept.\n",
        "\n",
        "2. Call the function with many resampled versions of `adelie` and collect the intercepts.\n",
        "\n",
        "3. Use `plot_kde` to plot the sampling distribution of the intercept.\n",
        "\n",
        "4. Compute the standard error and a 90% confidence interval.\n",
        "\n",
        "5. Check that the standard error you get from resampling is consistent with the `intercept_stderr` attribute in the `RegressionResult` object -- it might be a little smaller."
      ]
    },
    {
      "cell_type": "code",
      "execution_count": null,
      "id": "bc18c928",
      "metadata": {
        "id": "bc18c928"
      },
      "outputs": [],
      "source": [
        "# Solution goes here\n",
        "from scipy.stats import linregress\n",
        "\n",
        "# y절편 (intercept)\n",
        "def estimate_intercept(df):\n",
        "    xs = df[\"Flipper Length (mm)\"]\n",
        "    ys = df[\"Body Mass (g)\"]\n",
        "    result = linregress(xs, ys)\n",
        "    return result.intercept"
      ]
    },
    {
      "cell_type": "code",
      "execution_count": 74,
      "id": "a7a0230d",
      "metadata": {
        "id": "a7a0230d"
      },
      "outputs": [],
      "source": [
        "# Solution goes here\n",
        "def resample(df):\n",
        "    n = len(df)\n",
        "    return df.sample(n, replace=True)\n",
        "\n",
        "resampled_intercepts = [estimate_intercept(resample(adelie)) for i in range(1001)]"
      ]
    },
    {
      "cell_type": "code",
      "execution_count": 75,
      "id": "5e75168c",
      "metadata": {
        "id": "5e75168c"
      },
      "outputs": [
        {
          "data": {
            "image/png": "[encoded data removed]",
            "text/plain": [
              "<Figure size 450x262.5 with 1 Axes>"
            ]
          },
          "metadata": {},
          "output_type": "display_data"
        }
      ],
      "source": [
        "# Solution goes here\n",
        "from thinkstats import plot_kde, decorate\n",
        "import matplotlib.pyplot as plt\n",
        "\n",
        "# KDE\n",
        "plot_kde(resampled_intercepts)\n",
        "\n",
        "decorate(xlabel=\"Intercept of the fitted line (g)\", \n",
        "         ylabel=\"Density\",\n",
        "         title=\"Sampling Distribution of the Intercept\")\n",
        "plt.show()"
      ]
    },
    {
      "cell_type": "code",
      "execution_count": 76,
      "id": "45981aec",
      "metadata": {
        "id": "45981aec"
      },
      "outputs": [
        {
          "name": "stdout",
          "output_type": "stream",
          "text": [
            "Standard Error (from resampling): 832.20\n",
            "90% Confidence Interval: -3894.66, -1187.14\n"
          ]
        }
      ],
      "source": [
        "# Solution goes here\n",
        "# 표준 오차 계산\n",
        "stderr = np.std(resampled_intercepts)\n",
        "print(f\"Standard Error (from resampling): {stderr:.2f}\")\n",
        "\n",
        "# 90% 신뢰 구간\n",
        "ci90 = np.percentile(resampled_intercepts, [5, 95])\n",
        "print(f\"90% Confidence Interval: {ci90[0]:.2f}, {ci90[1]:.2f}\")"
      ]
    },
    {
      "cell_type": "code",
      "execution_count": null,
      "id": "2eedfe0d",
      "metadata": {
        "id": "2eedfe0d"
      },
      "outputs": [
        {
          "name": "stdout",
          "output_type": "stream",
          "text": [
            "Intercept stderr (from SciPy): 964.80\n",
            "Standard Error (from resampling): 832.20\n"
          ]
        }
      ],
      "source": [
        "# Solution goes here\n",
        "# 원본 데이터\n",
        "flipper_length = adelie[\"Flipper Length (mm)\"]\n",
        "body_mass = adelie[\"Body Mass (g)\"]\n",
        "original_result = linregress(flipper_length, body_mass)\n",
        "\n",
        "intercept_stderr_from_scipy = original_result.intercept_stderr\n",
        "print(f\"Intercept stderr (from SciPy): {intercept_stderr_from_scipy:.2f}\")\n",
        "\n",
        "print(f\"Standard Error (from resampling): {stderr:.2f}\")"
      ]
    },
    {
      "cell_type": "markdown",
      "id": "41024fcb",
      "metadata": {
        "id": "41024fcb"
      },
      "source": [
        "### Exercise 10.3\n",
        "\n",
        "A person's Body Mass Index (BMI) is their weight in kilograms divided by their height in meters raised to the second power.\n",
        "In the BRFSS dataset, we can compute BMI like this, after converting heights from centimeters to meters."
      ]
    },
    {
      "cell_type": "code",
      "execution_count": 78,
      "id": "0212535f",
      "metadata": {
        "id": "0212535f"
      },
      "outputs": [],
      "source": [
        "heights_m = heights / 100\n",
        "bmis = weights / heights_m**2"
      ]
    },
    {
      "cell_type": "markdown",
      "id": "9163b0c1",
      "metadata": {
        "id": "9163b0c1"
      },
      "source": [
        "In this definition, heights are squared, rather than raised to some other exponent, because of the observation -- early in the history of statistics -- that average weight increases roughly in proportion to height squared.\n",
        "\n",
        "To see whether that's true, we can use data from the BRFSS, a least squares fit, and a little bit of math.\n",
        "Suppose weight is proportional to height raised to an unknown exponent, $a$.\n",
        "In that case, we can write:\n",
        "\n",
        "$$w = b h^a$$\n",
        "\n",
        "where $w$ is weight, $h$ is height, and $b$ is an unknown constant of proportionality.\n",
        "Taking logarithms of both sides:\n",
        "\n",
        "$$\\log w = \\log b + a \\log h$$\n",
        "\n",
        "So, if we compute a least squares fit for log-transformed weights as a function of log-transformed heights, the slope of the fitted line estimates the unknown exponent $a$.\n",
        "\n",
        "Compute the logarithms of height and weight.\n",
        "You can use any base for the logarithms, as long as it's the same for both transformations.\n",
        "Compute a least squares fit.\n",
        "Is the slope close to 2?"
      ]
    },
    {
      "cell_type": "code",
      "execution_count": 79,
      "id": "b4b9a17f",
      "metadata": {
        "id": "b4b9a17f"
      },
      "outputs": [
        {
          "name": "stdout",
          "output_type": "stream",
          "text": [
            "계산된 기울기 (지수 a의 추정치): 2.0409\n"
          ]
        }
      ],
      "source": [
        "# Solution goes here\n",
        "import numpy as np\n",
        "from scipy.stats import linregress\n",
        "import matplotlib.pyplot as plt\n",
        "\n",
        "log_heights = np.log10(heights)\n",
        "log_weights = np.log10(weights)\n",
        "\n",
        "result_loglog = linregress(log_heights, log_weights)\n",
        "\n",
        "slope = result_loglog.slope\n",
        "print(f\"계산된 기울기 (지수 a의 추정치): {slope:.4f}\")"
      ]
    },
    {
      "cell_type": "code",
      "execution_count": 80,
      "id": "71d47297",
      "metadata": {
        "id": "71d47297"
      },
      "outputs": [
        {
          "data": {
            "image/png": "[encoded data removed]",
            "text/plain": [
              "<Figure size 450x262.5 with 1 Axes>"
            ]
          },
          "metadata": {},
          "output_type": "display_data"
        }
      ],
      "source": [
        "# Solution goes here\n",
        "fit_xs = np.linspace(log_heights.min(), log_heights.max())\n",
        "fit_ys = result_loglog.intercept + result_loglog.slope * fit_xs\n",
        "\n",
        "plt.scatter(log_heights, log_weights, alpha=0.01, s=0.1)\n",
        "plt.plot(fit_xs, fit_ys, color='C1')\n",
        "plt.xlabel(\"Height (log10 cm)\")\n",
        "plt.ylabel(\"Weight (log10 kg)\")\n",
        "plt.title(\"Log-Log plot of Height vs. Weight\")\n",
        "plt.show()"
      ]
    },
    {
      "cell_type": "markdown",
      "id": "e27da3a4",
      "metadata": {
        "id": "e27da3a4",
        "tags": []
      },
      "source": [
        "[Think Stats: Exploratory Data Analysis in Python, 3rd Edition](https://allendowney.github.io/ThinkStats/index.html)\n",
        "\n",
        "Copyright 2024 [Allen B. Downey](https://allendowney.com)\n",
        "\n",
        "Code license: [MIT License](https://mit-license.org/)\n",
        "\n",
        "Text license: [Creative Commons Attribution-NonCommercial-ShareAlike 4.0 International](https://creativecommons.org/licenses/by-nc-sa/4.0/)"
      ]
    }
  ],
  "metadata": {
    "celltoolbar": "Tags",
    "colab": {
      "provenance": []
    },
    "kernelspec": {
      "display_name": "Python 3",
      "language": "python",
      "name": "python3"
    },
    "language_info": {
      "codemirror_mode": {
        "name": "ipython",
        "version": 3
      },
      "file_extension": ".py",
      "mimetype": "text/x-python",
      "name": "python",
      "nbconvert_exporter": "python",
      "pygments_lexer": "ipython3",
      "version": "3.10.11"
    }
  },
  "nbformat": 4,
  "nbformat_minor": 5
}
