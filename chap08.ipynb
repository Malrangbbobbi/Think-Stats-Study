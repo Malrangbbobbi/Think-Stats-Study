{
  "cells": [
    {
      "cell_type": "markdown",
      "id": "418e407e",
      "metadata": {
        "id": "418e407e"
      },
      "source": [
        "The third edition of *Think Stats* is available now from [Bookshop.org](https://bookshop.org/a/98697/9781098190255) and [Amazon](https://amzn.to/42lmxwu) (those are affiliate links). If you are enjoying the free, online version, consider [buying me a coffee](https://buymeacoffee.com/allendowney)."
      ]
    },
    {
      "cell_type": "markdown",
      "id": "b8bba8eb",
      "metadata": {
        "id": "b8bba8eb"
      },
      "source": [
        "# Estimation\n",
        "\n",
        "Suppose you live in a town with a population of 10,000 people, and you want to predict who will win an upcoming election.\n",
        "In theory, you could ask everyone in town who they plan to vote for, and if they all answered honestly, you could make a reliable prediction.\n",
        "\n",
        "But even in a small town, it is probably not practical to survey the entire population.\n",
        "Fortunately, is it not necessary.\n",
        "If you survey a random subset of the people, you can use the sample to infer the voting preferences of the population.\n",
        "This process -- using a sample to make inferences about a population -- is called statistical inference.\n",
        "\n",
        "Statistical inference includes estimation, which is the topic of this chapter, and hypothesis testing, which is the topic of the next chapter."
      ]
    },
    {
      "cell_type": "markdown",
      "id": "3de1c2e9",
      "metadata": {},
      "source": [
        "| 개념 (Concept) | 핵심 의미 (Core Meaning) | 비유 (Analogy) |\n",
        "| :--- | :--- | :--- |\n",
        "| **추정 (Estimation)** | 전체적인 **행위, 과정** | 붕어빵 만들기 |\n",
        "| **추정량 (Estimator)** | 사용하는 **방법, 공식** | 붕어빵 틀, 레시피 |\n",
        "| **추정값 (Estimate)** | 나온 **결과, 특정 숫자** | 갓 구워진 붕어빵 |"
      ]
    },
    {
      "cell_type": "markdown",
      "id": "4131eafb",
      "metadata": {},
      "source": [
        "- Estimation (추정): 모집단의 특성(예: 평균)을 알기 위해 표본 데이터를 사용하는 과정 또는 행위를 의미합니다. 예를 들어, 펭귄 10마리의 무게를 측정하고 이 표본을 통해 전체 펭귄의 평균 몸무게를 예측하는 행위 자체가 추정입니다.\n",
        "\n",
        "- Estimator (추정량): 추정에 사용되는 통계량 또는 측정 방법을 의미합니다. 추정은 과정이고, 추정량은 그 과정에서 사용되는 도구라고 생각하면 이해하기 쉽습니다. 예를 들어, 표본의 평균(sample mean)이나 중앙값(sample median)은 모집단 평균을 추정하기 위한 추정량이 될 수 있습니다."
      ]
    },
    {
      "cell_type": "markdown",
      "id": "c4256ce3",
      "metadata": {},
      "source": [
        "- 추정량의 주요 속성 : 일치성(Consistency), 비편향성(Unbiasedness), 강건성(Robustness)"
      ]
    },
    {
      "cell_type": "markdown",
      "id": "66dec96b",
      "metadata": {},
      "source": [
        "- 일치성 (Consistency) \\\n",
        "일치성은 표본의 크기가 커질수록 추정량이 실제 모집단 값에 수렴하는 특성을 의미합니다. 즉, 더 많은 데이터를 사용할수록 추정치가 점점 더 정확해진다는 것을 의미합니다.\n",
        "\n",
        "- 비편향성 (Unbiasedness) \\\n",
        "비편향성은 여러 표본에서 계산한 추정량들의 평균이 실제 모집단 값과 같아지는 특성을 의미합니다. 이는 추정량이 평균적으로는 실제 값을 정확히 맞춘다는 뜻입니다.\n",
        "\n",
        "- 강건성 (Robustness) \\\n",
        "강건성은 데이터에 이상치(outliers)나 오류가 있거나, 이론적인 분포를 완벽하게 따르지 않을 때에도 추정량이 정확성을 유지하는 특성을 의미합니다."
      ]
    },
    {
      "cell_type": "markdown",
      "id": "17920223",
      "metadata": {
        "id": "17920223",
        "tags": []
      },
      "source": [
        "[Click here to run this notebook on Colab](https://colab.research.google.com/github/AllenDowney/ThinkStats/blob/v3/nb/chap08.ipynb)."
      ]
    },
    {
      "cell_type": "code",
      "execution_count": 1,
      "id": "cddf1967",
      "metadata": {
        "id": "cddf1967",
        "tags": []
      },
      "outputs": [],
      "source": [
        "from os.path import basename, exists\n",
        "\n",
        "\n",
        "def download(url):\n",
        "    filename = basename(url)\n",
        "    if not exists(filename):\n",
        "        from urllib.request import urlretrieve\n",
        "\n",
        "        local, _ = urlretrieve(url, filename)\n",
        "        print(\"Downloaded \" + local)\n",
        "\n",
        "\n",
        "download(\"https://github.com/AllenDowney/ThinkStats/raw/v3/nb/thinkstats.py\")"
      ]
    },
    {
      "cell_type": "code",
      "execution_count": 2,
      "id": "b96294dc",
      "metadata": {
        "id": "b96294dc",
        "tags": []
      },
      "outputs": [],
      "source": [
        "try:\n",
        "    import empiricaldist\n",
        "except ImportError:\n",
        "    %pip install empiricaldist"
      ]
    },
    {
      "cell_type": "code",
      "execution_count": 3,
      "id": "bb3a6450",
      "metadata": {
        "id": "bb3a6450",
        "tags": []
      },
      "outputs": [],
      "source": [
        "import numpy as np\n",
        "import pandas as pd\n",
        "import matplotlib.pyplot as plt\n",
        "\n",
        "from thinkstats import decorate"
      ]
    },
    {
      "cell_type": "markdown",
      "id": "e4bb0892",
      "metadata": {
        "id": "e4bb0892",
        "tags": []
      },
      "source": [
        "(section_weighing_penguins)=\n",
        "## Weighing Penguins\n",
        "\n",
        "Suppose you are a researcher in Antarctica, studying local populations of penguins.\n",
        "One of your tasks is to monitor the average weight of the penguins as it varies over the course of the year.\n",
        "It would be impractical to weigh every penguin in the environment, so your plan is to collect a random sample of 10 penguins each week, weigh them, and use the sample to estimate the mean of the entire population -- which is called the **population mean**.\n",
        "\n",
        "There are many ways you could use the sample to estimate the population mean, but we'll consider just two: the sample mean and the sample median.\n",
        "They are both reasonable choices, but let's see which is better -- and think about what we mean by \"better\".\n",
        "\n",
        "For purposes of demonstration, we'll assume that penguin weights are drawn from a normal distribution with known mean and standard deviation, which I'll denote `mu` and `sigma` and assign values in kilograms."
      ]
    },
    {
      "cell_type": "code",
      "execution_count": 4,
      "id": "4229791a",
      "metadata": {
        "id": "4229791a"
      },
      "outputs": [],
      "source": [
        "mu = 3.7\n",
        "sigma = 0.46"
      ]
    },
    {
      "cell_type": "markdown",
      "id": "c32c96c1",
      "metadata": {
        "id": "c32c96c1"
      },
      "source": [
        "These values are the **parameters** of the normal distribution, which means that they specify a particular distribution.\n",
        "Given these parameters, we can use NumPy to simulate the sampling process and generate a sample of any size.\n",
        "For example, here's a hypothetical sample of 10 weights."
      ]
    },
    {
      "cell_type": "code",
      "execution_count": 5,
      "id": "1c632733",
      "metadata": {
        "id": "1c632733",
        "tags": []
      },
      "outputs": [],
      "source": [
        "# Seed the random number generator so we get the same results every time\n",
        "np.random.seed(1)"
      ]
    },
    {
      "cell_type": "code",
      "execution_count": 6,
      "id": "f2429fdd",
      "metadata": {
        "id": "f2429fdd"
      },
      "outputs": [
        {
          "data": {
            "text/plain": [
              "array([4.44719887, 3.41859205, 3.45704099, 3.20643443, 4.09808751,\n",
              "       2.6412922 , 4.50261341, 3.34984483, 3.84675798, 3.58528963])"
            ]
          },
          "execution_count": 6,
          "metadata": {},
          "output_type": "execute_result"
        }
      ],
      "source": [
        "sample = np.random.normal(mu, sigma, size=10)\n",
        "sample"
      ]
    },
    {
      "cell_type": "markdown",
      "id": "64cb97f8",
      "metadata": {
        "id": "64cb97f8"
      },
      "source": [
        "And here are the mean and median of the sample."
      ]
    },
    {
      "cell_type": "code",
      "execution_count": 7,
      "id": "bd68824a",
      "metadata": {
        "id": "bd68824a"
      },
      "outputs": [
        {
          "data": {
            "text/plain": [
              "(3.6553151902291945, 3.521165310619601)"
            ]
          },
          "execution_count": 7,
          "metadata": {},
          "output_type": "execute_result"
        }
      ],
      "source": [
        "np.mean(sample), np.median(sample)"
      ]
    },
    {
      "cell_type": "markdown",
      "id": "7dacf078",
      "metadata": {
        "id": "7dacf078"
      },
      "source": [
        "The mean and median are different enough that we should wonder which is a better estimate.\n",
        "To find out, we'll use the following function to generate hypothetical samples with the given size, `n`."
      ]
    },
    {
      "cell_type": "code",
      "execution_count": 8,
      "id": "5283fcbb",
      "metadata": {
        "id": "5283fcbb"
      },
      "outputs": [],
      "source": [
        "def make_sample(n):\n",
        "    return np.random.normal(mu, sigma, size=n)"
      ]
    },
    {
      "cell_type": "markdown",
      "id": "8751c2aa",
      "metadata": {
        "id": "8751c2aa"
      },
      "source": [
        "As a first experiment, let's see how the sample mean and sample median behave as the sample size increases.\n",
        "We'll use the NumPy function `logspace` to make a range of `ns` from 10 to 100,000, equally spaced on a logarithmic scale."
      ]
    },
    {
      "cell_type": "code",
      "execution_count": 9,
      "id": "7f7baff5",
      "metadata": {
        "id": "7f7baff5"
      },
      "outputs": [],
      "source": [
        "ns = np.logspace(1, 5).astype(int)"
      ]
    },
    {
      "cell_type": "markdown",
      "id": "0aa40e96",
      "metadata": {
        "id": "0aa40e96"
      },
      "source": [
        "We can use a list comprehension to generate a hypothetical sample for each value of `n`, compute the mean, and collect the results:"
      ]
    },
    {
      "cell_type": "code",
      "execution_count": 10,
      "id": "158c8c57",
      "metadata": {
        "id": "158c8c57"
      },
      "outputs": [],
      "source": [
        "means = [np.mean(make_sample(n)) for n in ns]"
      ]
    },
    {
      "cell_type": "markdown",
      "id": "58f75dca",
      "metadata": {
        "id": "58f75dca"
      },
      "source": [
        "And we'll do the same for the median."
      ]
    },
    {
      "cell_type": "code",
      "execution_count": 11,
      "id": "19649a68",
      "metadata": {
        "id": "19649a68"
      },
      "outputs": [],
      "source": [
        "medians = [np.median(make_sample(n)) for n in ns]"
      ]
    },
    {
      "cell_type": "markdown",
      "id": "645bebae",
      "metadata": {
        "id": "645bebae"
      },
      "source": [
        "A statistic, like the sample mean or median, that's used to estimate a property of a population is called an **estimator**.\n",
        "\n",
        "The following figure shows how these estimators behave as we increase the sample size.\n",
        "The horizontal line shows the actual mean in the population."
      ]
    },
    {
      "cell_type": "code",
      "execution_count": 12,
      "id": "ab87f873",
      "metadata": {
        "id": "ab87f873"
      },
      "outputs": [
        {
          "data": {
            "image/png": "[encoded data removed]",
            "text/plain": [
              "<Figure size 450x262.5 with 1 Axes>"
            ]
          },
          "metadata": {},
          "output_type": "display_data"
        }
      ],
      "source": [
        "plt.axhline(mu, color=\"gray\", lw=1, alpha=0.5)\n",
        "plt.plot(ns, means, \"--\", label=\"mean\")\n",
        "plt.plot(ns, medians, alpha=0.5, label=\"median\")\n",
        "\n",
        "decorate(xlabel=\"Sample size\", xscale=\"log\", ylabel=\"Estimate\")"
      ]
    },
    {
      "cell_type": "markdown",
      "id": "c43224a4",
      "metadata": {},
      "source": [
        "- 표본의 크기가 커질수록, 표본 평균과 표본 중앙값 모두 실제 모집단 평균에 수렴 -> consistent (일치성)"
      ]
    },
    {
      "cell_type": "markdown",
      "id": "eac134e5",
      "metadata": {
        "id": "eac134e5"
      },
      "source": [
        "For both estimators, the estimates converge to the actual value as the sample size increases.\n",
        "This demonstrates that they are **consistent**, which is one of the properties a good estimator should have.\n",
        "Based on this property, the mean and median seem equally good.\n",
        "\n",
        "In the previous figure, you might notice that the estimates are sometimes too high and sometimes too low -- and it looks like the variation is roughly symmetric around the true value.\n",
        "That suggests another experiment: if we collect many samples with the same size and compute many estimates, what is the average of the estimates?\n",
        "\n",
        "The following loop simulates this scenario by generating 10,001 samples of 10 penguins and computing the mean of each sample."
      ]
    },
    {
      "cell_type": "code",
      "execution_count": 13,
      "id": "581aea3f",
      "metadata": {
        "id": "581aea3f"
      },
      "outputs": [
        {
          "data": {
            "text/plain": [
              "3.70034508492869"
            ]
          },
          "execution_count": 13,
          "metadata": {},
          "output_type": "execute_result"
        }
      ],
      "source": [
        "means = [np.mean(make_sample(n=10)) for i in range(10001)]\n",
        "np.mean(means)"
      ]
    },
    {
      "cell_type": "markdown",
      "id": "7d703c58",
      "metadata": {
        "id": "7d703c58"
      },
      "source": [
        "The average of the means is close to the actual mean we used to generate the samples: 3.7 kg.\n",
        "\n",
        "The following loop simulates the same scenario, but this time it computes the median of each sample."
      ]
    },
    {
      "cell_type": "code",
      "execution_count": 14,
      "id": "ecf9f53b",
      "metadata": {
        "id": "ecf9f53b"
      },
      "outputs": [
        {
          "data": {
            "text/plain": [
              "3.701214089907223"
            ]
          },
          "execution_count": 14,
          "metadata": {},
          "output_type": "execute_result"
        }
      ],
      "source": [
        "medians = [np.median(make_sample(n=10)) for i in range(10001)]\n",
        "np.mean(medians)"
      ]
    },
    {
      "cell_type": "markdown",
      "id": "5f4b5d2d",
      "metadata": {
        "id": "5f4b5d2d"
      },
      "source": [
        "The average of these hypothetical medians is also very close to the actual population mean.\n",
        "\n",
        "These results demonstrate that the sample mean and median are **unbiased** estimators, which means that they are correct on average.\n",
        "The word \"bias\" means different things in different contexts, which can be a source of confusion.\n",
        "In this context, \"unbiased\" means that the average of the estimates is the actual value.\n",
        "\n",
        "So far, we've shown that both estimators are consistent and unbiased, but it's still not clear which is better.\n",
        "Let's try one more experiment: let's see which estimator is more accurate.\n",
        "The word \"accurate\" also means different things in different contexts -- as one way to quantify it, let's consider the **mean squared error** (MSE).\n",
        "The following function computes the differences between the estimates and the actual value, and returns the mean of the squares of these errors."
      ]
    },
    {
      "cell_type": "code",
      "execution_count": 15,
      "id": "c6ae3ee6",
      "metadata": {
        "id": "c6ae3ee6"
      },
      "outputs": [],
      "source": [
        "def mse(estimates, actual):\n",
        "    \"\"\"Mean squared error of a sequence of estimates.\"\"\"\n",
        "    errors = np.asarray(estimates) - actual\n",
        "    return np.mean(errors**2)"
      ]
    },
    {
      "cell_type": "markdown",
      "id": "88ab3d00",
      "metadata": {
        "id": "88ab3d00"
      },
      "source": [
        "Notice that we can only compute MSE if we know the actual value.\n",
        "In practice, we usually don't -- after all, if we knew the actual value, we wouldn't have to estimate it.\n",
        "But in our experiment, we know that the actual population mean is 3.7 kg, so we can use it to compute the MSE of the sample means."
      ]
    },
    {
      "cell_type": "code",
      "execution_count": 16,
      "id": "910b7b2b",
      "metadata": {
        "id": "910b7b2b"
      },
      "outputs": [
        {
          "data": {
            "text/plain": [
              "0.020871984891289382"
            ]
          },
          "execution_count": 16,
          "metadata": {},
          "output_type": "execute_result"
        }
      ],
      "source": [
        "mse(means, mu)"
      ]
    },
    {
      "cell_type": "markdown",
      "id": "b99fa21a",
      "metadata": {
        "id": "b99fa21a"
      },
      "source": [
        "If we have samples with size 10 and we use the sample mean to estimate the population mean, the average squared error is about 0.021 kilograms squared.\n",
        "Now here's the MSE of the sample medians."
      ]
    },
    {
      "cell_type": "code",
      "execution_count": 17,
      "id": "c6963a67",
      "metadata": {
        "id": "c6963a67"
      },
      "outputs": [
        {
          "data": {
            "text/plain": [
              "0.029022273128644173"
            ]
          },
          "execution_count": 17,
          "metadata": {},
          "output_type": "execute_result"
        }
      ],
      "source": [
        "mse(medians, mu)"
      ]
    },
    {
      "cell_type": "markdown",
      "id": "366bcfc4",
      "metadata": {},
      "source": [
        "- 표본 평균의 MSE가 표본 중앙값의 MSE보다 작으므로, 표본 평균이 더 나은 추정량"
      ]
    },
    {
      "cell_type": "markdown",
      "id": "a679058d",
      "metadata": {},
      "source": [
        "-> kg²라는 단위는 직관적으로 이해하기 어렵기 때문에, MSE가 항상 오차를 요약하는 가장 좋은 방법은 아님"
      ]
    },
    {
      "cell_type": "markdown",
      "id": "aacd846d",
      "metadata": {
        "id": "aacd846d"
      },
      "source": [
        "If we use the sample medians to estimate the population mean, the average squared error is about 0.029 kilograms squared.\n",
        "In this example, the sample mean is better than the sample median; and in general, if the data are drawn from a normal distribution, it is the *best* unbiased estimator of the population mean, in the sense that it minimizes MSE.\n",
        "\n",
        "Minimizing MSE is a good property for an estimator to have, but MSE is not always the best way to summarize errors.\n",
        "For one thing, it is hard to interpret.\n",
        "In this example, the units of MSE are kilograms squared, so it's hard to say what that means.\n",
        "\n",
        "One solution is to use the square root of MSE, called \"root mean squared error\", or RMSE.\n",
        "Another option is to use the average of the absolute values of the errors, called the \"mean absolute error\" or MAE.\n",
        "The following function computes MAE for a sequence of estimates."
      ]
    },
    {
      "cell_type": "markdown",
      "id": "5e62f6a7",
      "metadata": {},
      "source": [
        "- Mean Absolute Error (평균 절대 오차)\n",
        ": 추정값과 실제 값의 차이에 절댓값을 취한 후, 그 값들의 평균"
      ]
    },
    {
      "cell_type": "code",
      "execution_count": 18,
      "id": "8a10dc2a",
      "metadata": {
        "id": "8a10dc2a"
      },
      "outputs": [],
      "source": [
        "def mae(estimates, actual):\n",
        "    \"\"\"Mean absolute error of a sequence of estimates.\"\"\"\n",
        "    errors = np.asarray(estimates) - actual\n",
        "    return np.mean(np.abs(errors))"
      ]
    },
    {
      "cell_type": "markdown",
      "id": "d5b18ba0",
      "metadata": {
        "id": "d5b18ba0"
      },
      "source": [
        "Here's the MAE of the sample means."
      ]
    },
    {
      "cell_type": "code",
      "execution_count": 19,
      "id": "9a56d759",
      "metadata": {
        "id": "9a56d759"
      },
      "outputs": [
        {
          "data": {
            "text/plain": [
              "0.11540433749505272"
            ]
          },
          "execution_count": 19,
          "metadata": {},
          "output_type": "execute_result"
        }
      ],
      "source": [
        "mae(means, mu)"
      ]
    },
    {
      "cell_type": "markdown",
      "id": "4d862995",
      "metadata": {
        "id": "4d862995"
      },
      "source": [
        "And the sample medians."
      ]
    },
    {
      "cell_type": "code",
      "execution_count": 20,
      "id": "bec2793b",
      "metadata": {
        "id": "bec2793b"
      },
      "outputs": [
        {
          "data": {
            "text/plain": [
              "0.13654429774596036"
            ]
          },
          "execution_count": 20,
          "metadata": {},
          "output_type": "execute_result"
        }
      ],
      "source": [
        "mae(medians, mu)"
      ]
    },
    {
      "cell_type": "markdown",
      "id": "58d3f794",
      "metadata": {},
      "source": [
        "- sample mean이 더 나은 추정량"
      ]
    },
    {
      "cell_type": "markdown",
      "id": "1b4b5c7b",
      "metadata": {
        "id": "1b4b5c7b"
      },
      "source": [
        "On average, we expect the sample mean to be off by about 0.115 kg, and the sample median to be off by 0.137 kg.\n",
        "So the sample mean is probably the better choice, at least for this example."
      ]
    },
    {
      "cell_type": "markdown",
      "id": "5eb3abe3",
      "metadata": {
        "id": "5eb3abe3"
      },
      "source": [
        "## Robustness\n",
        "\n",
        "Now let's consider a different scenario.\n",
        "Suppose that 2% of the time, when you try to weigh a penguin, it accidentally presses the units button on the scale and the weight gets recorded in pounds instead of kilograms.\n",
        "Assuming that the error goes unnoticed, it introduces an outlier in the sample.\n",
        "\n",
        "The following function simulates this scenario, multiplying 2% of the weights by the\n",
        "conversion factor 2.2 pounds per kilogram."
      ]
    },
    {
      "cell_type": "code",
      "execution_count": 21,
      "id": "1d7d3582",
      "metadata": {
        "id": "1d7d3582"
      },
      "outputs": [],
      "source": [
        "def make_sample_with_errors(n):\n",
        "    sample = np.random.normal(mu, sigma, size=n)\n",
        "    factor = np.random.choice([1, 2.2], p=[0.98, 0.02], size=n)\n",
        "    return sample * factor"
      ]
    },
    {
      "cell_type": "markdown",
      "id": "2ae75609",
      "metadata": {
        "id": "2ae75609"
      },
      "source": [
        "To see what effect this has on the distribution, we'll generate a large sample."
      ]
    },
    {
      "cell_type": "code",
      "execution_count": 22,
      "id": "7d2b23be",
      "metadata": {
        "id": "7d2b23be"
      },
      "outputs": [],
      "source": [
        "sample = make_sample_with_errors(n=1000)"
      ]
    },
    {
      "cell_type": "markdown",
      "id": "c096e7c8",
      "metadata": {
        "id": "c096e7c8"
      },
      "source": [
        "To plot the distribution of the sample, we'll use KDE and the `Pdf` object from [Chapter 6](section_kernel_density_estimation)."
      ]
    },
    {
      "cell_type": "code",
      "execution_count": 23,
      "id": "7ef38ee0",
      "metadata": {
        "id": "7ef38ee0"
      },
      "outputs": [
        {
          "data": {
            "image/png": "[encoded data removed]",
            "text/plain": [
              "<Figure size 450x262.5 with 1 Axes>"
            ]
          },
          "metadata": {},
          "output_type": "display_data"
        }
      ],
      "source": [
        "from scipy.stats import gaussian_kde\n",
        "from thinkstats import Pdf\n",
        "\n",
        "kde = gaussian_kde(sample)\n",
        "domain = 0, 10\n",
        "pdf = Pdf(kde, domain)\n",
        "pdf.plot(label='estimated density')\n",
        "decorate(xlabel=\"Penguin weight (kg)\", ylabel=\"Density\")"
      ]
    },
    {
      "cell_type": "markdown",
      "id": "0a886569",
      "metadata": {
        "id": "0a886569"
      },
      "source": [
        "In addition to the mode near 3.7 kg, the measurement errors introduce a second mode near 8 kilograms.\n",
        "\n",
        "Now let's repeat the previous experiment, simulating many samples with size 10, computing the mean of each sample, and then computing the average of the sample means."
      ]
    },
    {
      "cell_type": "code",
      "execution_count": 24,
      "id": "1ab50ca1",
      "metadata": {
        "id": "1ab50ca1"
      },
      "outputs": [
        {
          "data": {
            "text/plain": [
              "3.786352945690677"
            ]
          },
          "execution_count": 24,
          "metadata": {},
          "output_type": "execute_result"
        }
      ],
      "source": [
        "means = [np.mean(make_sample_with_errors(n=10)) for i in range(10001)]\n",
        "np.mean(means)"
      ]
    },
    {
      "cell_type": "markdown",
      "id": "ea6a1e16",
      "metadata": {
        "id": "ea6a1e16"
      },
      "source": [
        "The measurement errors cause the sample mean to be higher, on average, than 3.7 kg.\n",
        "\n",
        "Now here's the same experiment using sample medians."
      ]
    },
    {
      "cell_type": "code",
      "execution_count": 25,
      "id": "69294688",
      "metadata": {
        "id": "69294688"
      },
      "outputs": [
        {
          "data": {
            "text/plain": [
              "3.7121869836715353"
            ]
          },
          "execution_count": 25,
          "metadata": {},
          "output_type": "execute_result"
        }
      ],
      "source": [
        "medians = [np.median(make_sample_with_errors(n=10)) for i in range(10001)]\n",
        "np.mean(medians)"
      ]
    },
    {
      "cell_type": "markdown",
      "id": "a368c52e",
      "metadata": {
        "id": "a368c52e"
      },
      "source": [
        "The average of the sample medians is also higher than 3.7 kg, but it is not off by nearly as much.\n",
        "If we compare the MSE of the estimates, we see that the sample medians are substantially more accurate."
      ]
    },
    {
      "cell_type": "code",
      "execution_count": 26,
      "id": "c0620a58",
      "metadata": {
        "id": "c0620a58"
      },
      "outputs": [
        {
          "data": {
            "text/plain": [
              "(0.06853430354724438, 0.031164467796883758)"
            ]
          },
          "execution_count": 26,
          "metadata": {},
          "output_type": "execute_result"
        }
      ],
      "source": [
        "mse(means, mu), mse(medians, mu)"
      ]
    },
    {
      "cell_type": "markdown",
      "id": "29bff59a",
      "metadata": {},
      "source": [
        "- 표본 평균보다 표본 중앙값이 이상치에 덜 민감"
      ]
    },
    {
      "cell_type": "markdown",
      "id": "cf65739b",
      "metadata": {
        "id": "cf65739b"
      },
      "source": [
        "If measurements actually come from a normal distribution, the sample mean minimizes MSE, but this scenario violates that assumption, so the sample mean doesn't minimize MSE.\n",
        "The sample median is less sensitive to outliers, so it is less biased and its MSE is smaller.\n",
        "Estimators that deal well with outliers -- and similar violations of assumptions -- are said to be **robust**."
      ]
    },
    {
      "cell_type": "markdown",
      "id": "981535aa",
      "metadata": {
        "id": "981535aa",
        "tags": []
      },
      "source": [
        "(section_estimating_variance)=\n",
        "## Estimating Variance\n",
        "\n",
        "As another example, suppose we want to estimate variance in the penguins' weights.\n",
        "In [Chapter 1](section_summary_statistics), we saw that there are two ways to compute the variance of a sample.\n",
        "I promised to explain the difference later -- and later is now.\n",
        "\n",
        "The reason there are two ways to compute the variance of a sample is that one is a biased estimator of the population variance, and the other is unbiased.\n",
        "The following function computes the biased estimator, which is the sum of the squared deviations divided by `n`."
      ]
    },
    {
      "cell_type": "code",
      "execution_count": 27,
      "id": "1323320b",
      "metadata": {
        "id": "1323320b"
      },
      "outputs": [],
      "source": [
        "def biased_var(xs):\n",
        "    # Compute variance with n in the denominator\n",
        "    n = len(xs)\n",
        "    deviations = xs - np.mean(xs)\n",
        "    return np.sum(deviations**2) / n"
      ]
    },
    {
      "cell_type": "markdown",
      "id": "b5b80b87",
      "metadata": {
        "id": "b5b80b87"
      },
      "source": [
        "To test it, we'll simulate many samples with size 10, compute the biased variance of each sample, and then compute the average of the variances."
      ]
    },
    {
      "cell_type": "code",
      "execution_count": 28,
      "id": "0739a9d4",
      "metadata": {
        "id": "0739a9d4"
      },
      "outputs": [
        {
          "data": {
            "text/plain": [
              "0.19049277659404473"
            ]
          },
          "execution_count": 28,
          "metadata": {},
          "output_type": "execute_result"
        }
      ],
      "source": [
        "biased_vars = [biased_var(make_sample(n=10)) for i in range(10001)]\n",
        "np.mean(biased_vars)"
      ]
    },
    {
      "cell_type": "markdown",
      "id": "86400c71",
      "metadata": {
        "id": "86400c71"
      },
      "source": [
        "The result is about 0.19, but in this case, we know that the actual population variance is about 0.21, so this version of the sample variance is too low on average -- which confirms that it is biased."
      ]
    },
    {
      "cell_type": "code",
      "execution_count": 29,
      "id": "e6969baf",
      "metadata": {
        "id": "e6969baf",
        "tags": []
      },
      "outputs": [
        {
          "data": {
            "text/plain": [
              "0.2116"
            ]
          },
          "execution_count": 29,
          "metadata": {},
          "output_type": "execute_result"
        }
      ],
      "source": [
        "actual_var = sigma**2\n",
        "actual_var"
      ]
    },
    {
      "cell_type": "markdown",
      "id": "8ab9d50d",
      "metadata": {
        "id": "8ab9d50d"
      },
      "source": [
        "The following function computes the unbiased estimator, which is the sum of the squared deviations divided by `n-1`."
      ]
    },
    {
      "cell_type": "code",
      "execution_count": 30,
      "id": "b15c3444",
      "metadata": {
        "id": "b15c3444"
      },
      "outputs": [],
      "source": [
        "def unbiased_var(xs):\n",
        "    # Compute variance with n-1 in the denominator\n",
        "    n = len(xs)\n",
        "    deviations = xs - np.mean(xs)\n",
        "    return np.sum(deviations**2) / (n - 1)"
      ]
    },
    {
      "cell_type": "markdown",
      "id": "8957d10b",
      "metadata": {
        "id": "8957d10b"
      },
      "source": [
        "We can test it by generating many samples and computing the unbiased variance for each one."
      ]
    },
    {
      "cell_type": "code",
      "execution_count": 31,
      "id": "ddb825d1",
      "metadata": {
        "id": "ddb825d1"
      },
      "outputs": [
        {
          "data": {
            "text/plain": [
              "0.21159109492300626"
            ]
          },
          "execution_count": 31,
          "metadata": {},
          "output_type": "execute_result"
        }
      ],
      "source": [
        "unbiased_vars = [unbiased_var(make_sample(n=10)) for i in range(10001)]\n",
        "np.mean(unbiased_vars)"
      ]
    },
    {
      "cell_type": "markdown",
      "id": "14a7cde1",
      "metadata": {
        "id": "14a7cde1"
      },
      "source": [
        "The average of the unbiased sample variances is very close to the actual value -- which is what we expect if it is unbiased.\n",
        "\n",
        "With sample size 10, the difference between the biased and unbiased estimators is about 10%, which might be non-negligible.\n",
        "With sample size 100, the difference is only 1%, which is small enough that it probably doesn't matter in practice."
      ]
    },
    {
      "cell_type": "code",
      "execution_count": 32,
      "id": "7a2a0142",
      "metadata": {
        "id": "7a2a0142",
        "tags": []
      },
      "outputs": [
        {
          "data": {
            "text/plain": [
              "0.09999999999999998"
            ]
          },
          "execution_count": 32,
          "metadata": {},
          "output_type": "execute_result"
        }
      ],
      "source": [
        "n = 10\n",
        "1 - (n - 1) / n"
      ]
    },
    {
      "cell_type": "code",
      "execution_count": 33,
      "id": "ba98446c",
      "metadata": {
        "id": "ba98446c",
        "tags": []
      },
      "outputs": [
        {
          "data": {
            "text/plain": [
              "0.010000000000000009"
            ]
          },
          "execution_count": 33,
          "metadata": {},
          "output_type": "execute_result"
        }
      ],
      "source": [
        "n = 100\n",
        "1 - (n - 1) / n"
      ]
    },
    {
      "cell_type": "markdown",
      "id": "a6e4fdb6",
      "metadata": {
        "id": "a6e4fdb6",
        "tags": []
      },
      "source": [
        "(section_sampling_distributions)=\n",
        "## Sampling Distributions\n",
        "\n",
        "So far we've been working with simulated data, assuming that penguin weights are drawn from a normal distribution with known parameters.\n",
        "Now let's see what happens with real data.\n",
        "\n",
        "Between 2007 and 2010, researchers at Palmer Station in Antarctica measured and weighed 342 penguins from local populations.\n",
        "The data they collected is freely available -- instructions for downloading it are in the notebook for this chapter."
      ]
    },
    {
      "cell_type": "markdown",
      "id": "8e2b1e65",
      "metadata": {
        "id": "8e2b1e65",
        "tags": []
      },
      "source": [
        "The following cell downloads the data from a repository created by Allison Horst.\n",
        "\n",
        "Horst AM, Hill AP, Gorman KB (2020). palmerpenguins: Palmer Archipelago (Antarctica) penguin data. R package version 0.1.0. https://allisonhorst.github.io/palmerpenguins/. doi: 10.5281/zenodo.3960218.\n",
        "\n",
        "The data was collected as part of the research that led to this paper: Gorman KB, Williams TD, Fraser WR (2014). Ecological sexual dimorphism and environmental variability within a community of Antarctic penguins (genus Pygoscelis). PLoS ONE 9(3):e90081. https://doi.org/10.1371/journal.pone.0090081"
      ]
    },
    {
      "cell_type": "code",
      "execution_count": 34,
      "id": "c16ba016",
      "metadata": {
        "id": "c16ba016",
        "tags": []
      },
      "outputs": [
        {
          "name": "stdout",
          "output_type": "stream",
          "text": [
            "Downloaded penguins_raw.csv\n"
          ]
        }
      ],
      "source": [
        "download(\n",
        "    \"https://raw.githubusercontent.com/allisonhorst/palmerpenguins/c19a904462482430170bfe2c718775ddb7dbb885/inst/extdata/penguins_raw.csv\"\n",
        ")"
      ]
    },
    {
      "cell_type": "markdown",
      "id": "23e818d1",
      "metadata": {
        "id": "23e818d1"
      },
      "source": [
        "We can use Pandas to read the data."
      ]
    },
    {
      "cell_type": "code",
      "execution_count": 35,
      "id": "0aede435",
      "metadata": {
        "id": "0aede435"
      },
      "outputs": [
        {
          "data": {
            "text/plain": [
              "(342, 17)"
            ]
          },
          "execution_count": 35,
          "metadata": {},
          "output_type": "execute_result"
        }
      ],
      "source": [
        "penguins = pd.read_csv(\"penguins_raw.csv\").dropna(subset=[\"Body Mass (g)\"])\n",
        "penguins.shape"
      ]
    },
    {
      "cell_type": "markdown",
      "id": "8841b218",
      "metadata": {
        "id": "8841b218"
      },
      "source": [
        "The dataset includes three penguin species."
      ]
    },
    {
      "cell_type": "code",
      "execution_count": 36,
      "id": "b32828eb",
      "metadata": {
        "id": "b32828eb"
      },
      "outputs": [
        {
          "data": {
            "text/plain": [
              "Species\n",
              "Adelie Penguin (Pygoscelis adeliae)          151\n",
              "Gentoo penguin (Pygoscelis papua)            123\n",
              "Chinstrap penguin (Pygoscelis antarctica)     68\n",
              "Name: count, dtype: int64"
            ]
          },
          "execution_count": 36,
          "metadata": {},
          "output_type": "execute_result"
        }
      ],
      "source": [
        "penguins[\"Species\"].value_counts()"
      ]
    },
    {
      "cell_type": "markdown",
      "id": "9a8c5ae0",
      "metadata": {
        "id": "9a8c5ae0"
      },
      "source": [
        "For the first example we'll select just the Chinstrap penguins."
      ]
    },
    {
      "cell_type": "code",
      "execution_count": 37,
      "id": "b63e96c2",
      "metadata": {
        "id": "b63e96c2"
      },
      "outputs": [],
      "source": [
        "chinstrap = penguins.query('Species.str.startswith(\"Chinstrap\")')"
      ]
    },
    {
      "cell_type": "markdown",
      "id": "3c6c5db4",
      "metadata": {
        "id": "3c6c5db4"
      },
      "source": [
        "We'll use this function to plot estimated PDFs."
      ]
    },
    {
      "cell_type": "code",
      "execution_count": 38,
      "id": "8ed61ac8",
      "metadata": {
        "id": "8ed61ac8"
      },
      "outputs": [],
      "source": [
        "def plot_kde(sample, name=\"estimated density\", **options):\n",
        "    kde = gaussian_kde(sample)\n",
        "    m, s = np.mean(sample), np.std(sample)\n",
        "    plt.axvline(m, color=\"gray\", ls=\":\")\n",
        "\n",
        "    domain = m - 4 * s, m + 4 * s\n",
        "    pdf = Pdf(kde, domain, name)\n",
        "    pdf.plot(**options)"
      ]
    },
    {
      "cell_type": "markdown",
      "id": "ced5fb7d",
      "metadata": {
        "id": "ced5fb7d"
      },
      "source": [
        "Here's the distribution of chinstrap penguin weights in kilograms.\n",
        "The vertical dotted line shows the sample mean."
      ]
    },
    {
      "cell_type": "code",
      "execution_count": 39,
      "id": "daff46dc",
      "metadata": {
        "id": "daff46dc"
      },
      "outputs": [
        {
          "data": {
            "image/png": "[encoded data removed]",
            "text/plain": [
              "<Figure size 450x262.5 with 1 Axes>"
            ]
          },
          "metadata": {},
          "output_type": "display_data"
        }
      ],
      "source": [
        "weights = chinstrap[\"Body Mass (g)\"] / 1000\n",
        "plot_kde(weights, \"weights\")\n",
        "decorate(xlabel=\"Penguin weight (kg)\", ylabel=\"Density\")"
      ]
    },
    {
      "cell_type": "markdown",
      "id": "a32eba6e",
      "metadata": {
        "id": "a32eba6e"
      },
      "source": [
        "The sample mean is about 3.7 kg."
      ]
    },
    {
      "cell_type": "code",
      "execution_count": 40,
      "id": "c3cdbfdf",
      "metadata": {
        "id": "c3cdbfdf"
      },
      "outputs": [
        {
          "data": {
            "text/plain": [
              "3.733088235294118"
            ]
          },
          "execution_count": 40,
          "metadata": {},
          "output_type": "execute_result"
        }
      ],
      "source": [
        "sample_mean = np.mean(weights)\n",
        "sample_mean"
      ]
    },
    {
      "cell_type": "markdown",
      "id": "1d22df97",
      "metadata": {
        "id": "1d22df97"
      },
      "source": [
        "If you are asked to estimate the population mean, 3.7 kg is a reasonable choice -- but how precise is that estimate?\n",
        "\n",
        "One way to answer that question is to compute the **sampling distribution** of the mean, which shows how much the estimated mean varies from one sample to another.\n",
        "If we knew the actual mean and standard deviation in the population, we could model the sampling process and compute the sampling distribution.\n",
        "But if we knew the actual population mean, we wouldn't have to estimate it!\n",
        "\n",
        "Fortunately, there's a simple way to approximate the sampling distribution, called **resampling**.\n",
        "The core idea is to use the sample to make a model of the population, then use the model to simulate the sampling process.\n",
        "\n",
        "More specifically, we'll use **parametric resampling**, which means we'll use the sample to estimate the parameters of the population and then use a theoretical distribution to generate new samples.\n",
        "\n",
        "The following function implements this process with a normal distribution.\n",
        "Notice that the new samples are the same size as the original."
      ]
    },
    {
      "cell_type": "markdown",
      "id": "63ee32c2",
      "metadata": {},
      "source": [
        "- resamlpling : 얼마나 '믿을만한지' 그 불확실성을 측정"
      ]
    },
    {
      "cell_type": "markdown",
      "id": "dbe02a78",
      "metadata": {},
      "source": [
        "- resamlpling : 표본 평균의 표본 분포(sampling distribution)를 추정하는 방법"
      ]
    },
    {
      "cell_type": "markdown",
      "id": "7035d292",
      "metadata": {},
      "source": [
        "- 표본을 이용해 모집단의 모수(parameters)를 추정하고, 이 추정된 모수를 바탕으로 정규분포와 같은 이론적 분포를 가정하여 새로운 표본을 생성하는 방법"
      ]
    },
    {
      "cell_type": "code",
      "execution_count": 41,
      "id": "bf1c85e7",
      "metadata": {
        "id": "bf1c85e7"
      },
      "outputs": [],
      "source": [
        "def resample(sample):\n",
        "    # Generate a sample from a normal distribution\n",
        "    m, s = np.mean(sample), np.std(sample)\n",
        "    return np.random.normal(m, s, len(sample))"
      ]
    },
    {
      "cell_type": "markdown",
      "id": "77a6bb34",
      "metadata": {
        "id": "77a6bb34"
      },
      "source": [
        "This loop uses `resample` to generate many samples and compute the mean of each one."
      ]
    },
    {
      "cell_type": "code",
      "execution_count": 42,
      "id": "121f81d5",
      "metadata": {
        "id": "121f81d5"
      },
      "outputs": [],
      "source": [
        "sample_means = [np.mean(resample(weights)) for i in range(1001)]"
      ]
    },
    {
      "cell_type": "markdown",
      "id": "6d5686a9",
      "metadata": {
        "id": "6d5686a9"
      },
      "source": [
        "The following figure shows the distribution of these sample means."
      ]
    },
    {
      "cell_type": "code",
      "execution_count": 43,
      "id": "057d5c03",
      "metadata": {
        "id": "057d5c03"
      },
      "outputs": [
        {
          "data": {
            "image/png": "[encoded data removed]",
            "text/plain": [
              "<Figure size 450x262.5 with 1 Axes>"
            ]
          },
          "metadata": {},
          "output_type": "display_data"
        }
      ],
      "source": [
        "plot_kde(sample_means, \"sample means\")\n",
        "decorate(xlabel=\"Sample mean of weight (kg)\", ylabel=\"Density\")"
      ]
    },
    {
      "cell_type": "markdown",
      "id": "fca724e8",
      "metadata": {
        "id": "fca724e8"
      },
      "source": [
        "This result approximates the sampling distribution of the sample mean.\n",
        "It shows how much we expect the sample mean to vary if we collect many samples of the same size -- assuming that our model of the population is accurate.\n",
        "\n",
        "Informally, we can see that the sample mean could be as low as 3.55, if we collected another sample with the same size, or as high as 3.9."
      ]
    },
    {
      "cell_type": "markdown",
      "id": "2f5f4021",
      "metadata": {},
      "source": [
        "-> 여러 가상 표본들을 추출했을 때, 추정량이 얼마나 다양하게 변할 수 있는지를 알아보는 것.\n",
        "이를 통해 추정량의 정밀도(precision)나 표준 오차(standard error)를 계산."
      ]
    },
    {
      "cell_type": "markdown",
      "id": "99c32d10",
      "metadata": {
        "id": "99c32d10"
      },
      "source": [
        "## Standard Error\n",
        "\n",
        "To quantify the width of the sampling distribution, one option is to compute its standard deviation -- the result is called the **standard error**."
      ]
    },
    {
      "cell_type": "code",
      "execution_count": 44,
      "id": "2dd7b940",
      "metadata": {
        "id": "2dd7b940"
      },
      "outputs": [
        {
          "data": {
            "text/plain": [
              "0.04626531069684985"
            ]
          },
          "execution_count": 44,
          "metadata": {},
          "output_type": "execute_result"
        }
      ],
      "source": [
        "standard_error = np.std(sample_means)\n",
        "standard_error"
      ]
    },
    {
      "cell_type": "markdown",
      "id": "c8e4cfc9",
      "metadata": {
        "id": "c8e4cfc9"
      },
      "source": [
        "In this case, the standard error is about 0.045 kg -- so if we collect many samples, we expect the sample means to vary by about 0.045 kg, on average."
      ]
    },
    {
      "cell_type": "markdown",
      "id": "de079f18",
      "metadata": {
        "id": "de079f18"
      },
      "source": [
        "People often confuse standard error and standard deviation. Remember:\n",
        "\n",
        "* Standard deviation quantifies variation in measurements.\n",
        "\n",
        "* Standard error quantifies the precision of an estimate.\n",
        "\n",
        "In this dataset, the standard deviation of penguin weights is about 0.38 kg for chinstrap penguins."
      ]
    },
    {
      "cell_type": "code",
      "execution_count": 45,
      "id": "a092855b",
      "metadata": {
        "id": "a092855b"
      },
      "outputs": [
        {
          "data": {
            "text/plain": [
              "0.3814986213564681"
            ]
          },
          "execution_count": 45,
          "metadata": {},
          "output_type": "execute_result"
        }
      ],
      "source": [
        "np.std(weights)"
      ]
    },
    {
      "cell_type": "markdown",
      "id": "6d5c96ac",
      "metadata": {
        "id": "6d5c96ac"
      },
      "source": [
        "The standard error of the average weight is about 0.046 kg."
      ]
    },
    {
      "cell_type": "code",
      "execution_count": 46,
      "id": "23dfb8d2",
      "metadata": {
        "id": "23dfb8d2"
      },
      "outputs": [
        {
          "data": {
            "text/plain": [
              "0.04626531069684985"
            ]
          },
          "execution_count": 46,
          "metadata": {},
          "output_type": "execute_result"
        }
      ],
      "source": [
        "np.std(sample_means)"
      ]
    },
    {
      "cell_type": "markdown",
      "id": "8a9ae37b",
      "metadata": {
        "id": "8a9ae37b"
      },
      "source": [
        "Standard deviation tells you how much penguins differ in weight.\n",
        "Standard error tells you how precise an estimate is.\n",
        "They are answers to different questions.\n",
        "\n",
        "However, there is a relationship between them.\n",
        "If we know the standard deviation and sample size, we can approximate the standard error of the means like this:"
      ]
    },
    {
      "cell_type": "code",
      "execution_count": 47,
      "id": "6c913bd8",
      "metadata": {
        "id": "6c913bd8"
      },
      "outputs": [],
      "source": [
        "def approximate_standard_error(sample):\n",
        "    n = len(sample)\n",
        "    return np.std(sample) / np.sqrt(n)"
      ]
    },
    {
      "cell_type": "code",
      "execution_count": 48,
      "id": "1a9d1058",
      "metadata": {
        "id": "1a9d1058"
      },
      "outputs": [
        {
          "data": {
            "text/plain": [
              "0.046263503290595163"
            ]
          },
          "execution_count": 48,
          "metadata": {},
          "output_type": "execute_result"
        }
      ],
      "source": [
        "approximate_standard_error(weights)"
      ]
    },
    {
      "cell_type": "markdown",
      "id": "431934ea",
      "metadata": {
        "id": "431934ea"
      },
      "source": [
        "This result is close to what we got by resampling."
      ]
    },
    {
      "cell_type": "markdown",
      "id": "138cc65f",
      "metadata": {
        "id": "138cc65f"
      },
      "source": [
        "## Confidence Intervals\n",
        "\n",
        "Another way to summarize the sampling distribution is to compute a **confidence interval**.\n",
        "For example, a 90% confidence interval contains 90% of the values in the sampling distribution, which we can find by computing the 5th and 95th percentiles.\n",
        "Here's the 90% confidence interval for the average weight of chinstrap penguins."
      ]
    },
    {
      "cell_type": "code",
      "execution_count": 49,
      "id": "a1389ac6",
      "metadata": {
        "id": "a1389ac6"
      },
      "outputs": [
        {
          "data": {
            "text/plain": [
              "array([3.6576334 , 3.80737506])"
            ]
          },
          "execution_count": 49,
          "metadata": {},
          "output_type": "execute_result"
        }
      ],
      "source": [
        "ci90 = np.percentile(sample_means, [5, 95])\n",
        "ci90"
      ]
    },
    {
      "cell_type": "markdown",
      "id": "77a5217f",
      "metadata": {
        "id": "77a5217f"
      },
      "source": [
        "To interpret a confidence interval, it is tempting to say that there is a 90% chance that the true value of the population parameter falls in the 90% confidence interval.\n",
        "In this example, we would say there is a 90% chance that the population mean for chinstrap penguins is between 3.66 and 3.81 kg.\n",
        "\n",
        "Under a strict philosophy of probability called **frequentism**, this interpretation would not be allowed, and in many statistics books, you will be told that this interpretation is wrong.\n",
        "\n",
        "In my opinion, this prohibition is unnecessarily strict.\n",
        "Under reasonable philosophies of probability, a confidence interval means what people expect it to mean: there is a 90% chance that the true value falls in the 90% confidence interval.\n",
        "\n",
        "However, confidence intervals only quantify variability due to sampling -- that is, measuring only part of the population.\n",
        "The sampling distribution does not account for other sources of error, notably sampling bias and measurement error, which are the topics of the next section."
      ]
    },
    {
      "cell_type": "markdown",
      "id": "bb261f13",
      "metadata": {
        "id": "bb261f13"
      },
      "source": [
        "## Sources of Error\n",
        "\n",
        "Suppose that instead of the average weight of penguins in Antarctica, you want to know the average weight of women in the city where you live.\n",
        "You can't randomly choose a representative sample of women and weigh them.\n",
        "\n",
        "A simple alternative would be \"telephone sampling\" -- that is, you could choose random numbers from the phone book, call and ask to speak to an adult woman, and ask how much she weighs.\n",
        "But telephone sampling has obvious problems.\n",
        "\n",
        "For example, the sample is limited to people whose telephone numbers are listed, so it eliminates people without phones (who might be poorer than average) and people with unlisted numbers (who might be richer).\n",
        "Also, if you call home telephones during the day, you are less likely to sample people with jobs.\n",
        "And if you only sample the person who answers the phone, you are less likely to sample people who share a phone line."
      ]
    },
    {
      "cell_type": "markdown",
      "id": "f4732e1c",
      "metadata": {
        "id": "f4732e1c"
      },
      "source": [
        "If factors like income, employment, and household size are related to weight -- and it is plausible that they are -- the results of your survey would be affected one way or another.\n",
        "This problem is called **sampling bias** because it is a property of the sampling process.\n",
        "\n",
        "This sampling process is also vulnerable to self-selection, which is a kind of sampling bias.\n",
        "Some people will refuse to answer the question, and if the tendency to refuse is related to weight, that would affect the results.\n",
        "\n",
        "Finally, if you ask people how much they weigh, rather than weighing them, the results might not be accurate.\n",
        "Even helpful respondents might round up or down if they are uncomfortable with their actual weight.\n",
        "And not all respondents are helpful.\n",
        "These inaccuracies are examples of **measurement error**."
      ]
    },
    {
      "cell_type": "markdown",
      "id": "c2bafbb5",
      "metadata": {
        "id": "c2bafbb5"
      },
      "source": [
        "When you report an estimated quantity, it is useful to quantify variability due to sampling by reporting a standard error or a confidence interval.\n",
        "But remember that this variability is only one source of error, and often it is not the biggest."
      ]
    },
    {
      "cell_type": "markdown",
      "id": "5a72892f",
      "metadata": {
        "id": "5a72892f"
      },
      "source": [
        "## Glossary\n",
        "\n",
        "-   **population mean:** The true mean of a quantity in an entire population, as opposed to the sample mean, which is calculated from a subset.\n",
        "\n",
        "-   **parameter**: One of the values that specify a particular distribution in a set of distributions -- for example, the parameters of a normal distribution are the mean and standard deviation.\n",
        "\n",
        "-   **estimator**: A statistic calculated from a sample that is used to estimate a parameter of the population.\n",
        "\n",
        "-   **consistent:** An estimator is consistent if it converges to the actual value of a parameter as the sample size increases.\n",
        "\n",
        "-   **unbiased:** An estimator is unbiased if, for a particular sample size, the average of the sample estimates is the actual value of the parameter.\n",
        "\n",
        "-   **mean squared error (MSE)**: A measure of the accuracy of an estimator -- it's the average squared difference between estimated and true parameter values, assuming the true value is known.\n",
        "\n",
        "-   **robust:** An estimator is robust if it remains accurate even when a dataset contains outliers or errors -- or does not perfectly follow a theoretical distribution.\n",
        "\n",
        "-   **resampling:** A way to approximate the sampling distribution of an estimate by simulating the sampling process.\n",
        "\n",
        "-   **parametric resampling:** A kind of resampling that estimates population parameters from sample data and then uses a theoretical distribution to simulate the sampling process.\n",
        "\n",
        "-   **sampling distribution**: The distribution of a statistic across possible samples from the same population.\n",
        "\n",
        "-   **standard error**: The standard deviation of a sampling distribution, which quantifies the variability of an estimate due to random sampling (but not measurement error or non-representative sampling).\n",
        "\n",
        "-   **confidence interval**: An interval that contains the most likely values in a sampling distribution.\n",
        "\n",
        "-   **sampling bias**: A flaw in the way a sample is collected that makes it unrepresentative of the population.\n",
        "\n",
        "-   **measurement error**:  Inaccuracy in how data are observed, measured, or recorded."
      ]
    },
    {
      "cell_type": "markdown",
      "id": "697621aa",
      "metadata": {
        "id": "697621aa"
      },
      "source": [
        "## Exercises"
      ]
    },
    {
      "cell_type": "markdown",
      "id": "d975a2b7",
      "metadata": {
        "id": "d975a2b7"
      },
      "source": [
        "### Exercise 8.1\n",
        "\n",
        "One of the strengths of resampling methods is that they are easy to extend to other statistics.\n",
        "In this chapter, we computed the sample mean of penguin weights and then used resampling to approximate the sampling distribution of the mean.\n",
        "Now let's do the same for standard deviation.\n",
        "\n",
        "Compute the sample standard deviation of weights for chinstrap penguins.\n",
        "Then use `resample` to approximate the sampling distribution of the standard deviation.\n",
        "Use the sampling distribution to compute the standard error of the estimate and a 90% confidence interval."
      ]
    },
    {
      "cell_type": "code",
      "execution_count": 52,
      "id": "94b262f2",
      "metadata": {
        "id": "94b262f2"
      },
      "outputs": [
        {
          "name": "stdout",
          "output_type": "stream",
          "text": [
            "턱끈펭귄의 표본 표준편차: 0.3815 kg\n",
            "표본 표준편차의 표준 오차: 0.0332 kg\n",
            "90% 신뢰 구간: [0.32664766 0.43178496] kg\n"
          ]
        }
      ],
      "source": [
        "# Solution goes here\n",
        "# 턱끈펭귄의 표본 표준편차\n",
        "sample_std = np.std(weights)\n",
        "print(f\"턱끈펭귄의 표본 표준편차: {sample_std:.4f} kg\")\n",
        "\n",
        "# 리샘플링 -> 표준편차의 표본 분포\n",
        "np.random.seed(1)\n",
        "sample_stds = [np.std(resample(weights)) for i in range(1001)]\n",
        "\n",
        "# 표본 분포를 사용 -> 표준 오차와 90% 신뢰 구간을 계산\n",
        "# 표준 오차 -> 표본 분포의 표준편차\n",
        "standard_error = np.std(sample_stds)\n",
        "print(f\"표본 표준편차의 표준 오차: {standard_error:.4f} kg\")\n",
        "\n",
        "# 90% 신뢰 구간\n",
        "ci90 = np.percentile(sample_stds, [5, 95])\n",
        "print(f\"90% 신뢰 구간: {ci90} kg\")"
      ]
    },
    {
      "cell_type": "markdown",
      "id": "f1aa3e0a",
      "metadata": {
        "id": "f1aa3e0a"
      },
      "source": [
        "### Exercise 8.2\n",
        "\n",
        "The Behavioral Risk Factor Surveillance System (BRFSS) dataset includes self-reported heights and weights for a sample of adults in the United States.\n",
        "Use this data to estimate the average height of male adults.\n",
        "Use resample to approximate the sampling distribution and compute a 90% confidence interval.\n",
        "\n",
        "Because the sample size is very large, the confidence interval is very small, which means that variability due to random sampling is small.\n",
        "But other sources of error might be bigger -- what other sources of error do you think affect the results?"
      ]
    },
    {
      "cell_type": "markdown",
      "id": "5628baa6",
      "metadata": {
        "id": "5628baa6",
        "tags": []
      },
      "source": [
        "The following cells download the data, read it into a `DataFrame`, and select the heights of male respondents."
      ]
    },
    {
      "cell_type": "code",
      "execution_count": 54,
      "id": "61f82fdb",
      "metadata": {
        "id": "61f82fdb",
        "tags": []
      },
      "outputs": [],
      "source": [
        "download(\"https://github.com/AllenDowney/ThinkStats/raw/v3/data/CDBRFS08.ASC.gz\")"
      ]
    },
    {
      "cell_type": "code",
      "execution_count": 55,
      "id": "fba01e54",
      "metadata": {
        "id": "fba01e54",
        "tags": []
      },
      "outputs": [],
      "source": [
        "from thinkstats import read_brfss\n",
        "\n",
        "brfss = read_brfss()"
      ]
    },
    {
      "cell_type": "code",
      "execution_count": 56,
      "id": "fe5076e9",
      "metadata": {
        "id": "fe5076e9",
        "tags": []
      },
      "outputs": [
        {
          "data": {
            "text/plain": [
              "count    154407.000000\n",
              "mean        178.066221\n",
              "std           7.723563\n",
              "min          61.000000\n",
              "25%         173.000000\n",
              "50%         178.000000\n",
              "75%         183.000000\n",
              "max         236.000000\n",
              "Name: htm3, dtype: float64"
            ]
          },
          "execution_count": 56,
          "metadata": {},
          "output_type": "execute_result"
        }
      ],
      "source": [
        "male = brfss.query(\"sex == 1\")\n",
        "heights = male[\"htm3\"]\n",
        "heights.describe()"
      ]
    },
    {
      "cell_type": "code",
      "execution_count": 57,
      "id": "6fd5fdfe",
      "metadata": {
        "id": "6fd5fdfe"
      },
      "outputs": [
        {
          "name": "stdout",
          "output_type": "stream",
          "text": [
            "미국 성인 남성의 평균 신장 추정치: 178.07 cm\n",
            "평균 신장에 대한 90% 신뢰 구간: [178.03440775 178.09635684] cm\n"
          ]
        }
      ],
      "source": [
        "# Solution goes here\n",
        "# 미국 성인 남성의 평균 신장\n",
        "estimated_mean = np.mean(heights)\n",
        "print(f\"미국 성인 남성의 평균 신장 추정치: {estimated_mean:.2f} cm\")\n",
        "\n",
        "# 리샘플링 -> 표본 평균의 표본 분포\n",
        "np.random.seed(1)\n",
        "sample_means = [np.mean(resample(heights)) for i in range(1001)]\n",
        "\n",
        "# 90% 신뢰 구간\n",
        "ci90 = np.percentile(sample_means, [5, 95])\n",
        "print(f\"평균 신장에 대한 90% 신뢰 구간: {ci90} cm\")"
      ]
    },
    {
      "cell_type": "markdown",
      "id": "813b08bf",
      "metadata": {
        "id": "813b08bf"
      },
      "source": [
        "### Exercise 8.3\n",
        "\n",
        "In games like soccer and hockey, the time between goals tends to follow an exponential distribution (as we saw in [Chapter 6](section_exponential_pdf)).\n",
        "Suppose we observe a sample of times between goals.\n",
        "If we assume that the sample came from an exponential distribution, how can we estimate the actual mean of the distribution?\n",
        "We might consider using either the sample mean or the sample median.\n",
        "Let's see if either of them is a consistent, unbiased estimator.\n",
        "For the experiments, we'll assume that the actual mean time between goals is 10 minutes."
      ]
    },
    {
      "cell_type": "code",
      "execution_count": 59,
      "id": "d53fc9a2",
      "metadata": {
        "id": "d53fc9a2"
      },
      "outputs": [],
      "source": [
        "actual_mean = 10"
      ]
    },
    {
      "cell_type": "markdown",
      "id": "2710c385",
      "metadata": {
        "id": "2710c385"
      },
      "source": [
        "The following function generates a sample from an exponential distribution with this mean and the given sample size."
      ]
    },
    {
      "cell_type": "code",
      "execution_count": 60,
      "id": "f70a53fb",
      "metadata": {
        "id": "f70a53fb"
      },
      "outputs": [],
      "source": [
        "def make_exponential(n):\n",
        "    return np.random.exponential(actual_mean, size=n)"
      ]
    },
    {
      "cell_type": "markdown",
      "id": "723aa5ab",
      "metadata": {
        "id": "723aa5ab"
      },
      "source": [
        "Use this function to generate samples with a range of sizes and compute the mean of each one. As `n` increases, do the sample means converge to the actual mean?\n",
        "\n",
        "Next, generate samples with a range of sizes and compute the median of each one.\n",
        "Do the sample medians converge to the actual median?"
      ]
    },
    {
      "cell_type": "markdown",
      "id": "6386dfd6",
      "metadata": {
        "id": "6386dfd6",
        "tags": []
      },
      "source": [
        "Here's the actual median of an exponential distribution with the given mean."
      ]
    },
    {
      "cell_type": "code",
      "execution_count": 61,
      "id": "7574baca",
      "metadata": {
        "id": "7574baca",
        "tags": []
      },
      "outputs": [
        {
          "data": {
            "text/plain": [
              "6.931471805599453"
            ]
          },
          "execution_count": 61,
          "metadata": {},
          "output_type": "execute_result"
        }
      ],
      "source": [
        "actual_median = np.log(2) * actual_mean\n",
        "actual_median"
      ]
    },
    {
      "cell_type": "code",
      "execution_count": 62,
      "id": "cff8b98c",
      "metadata": {
        "id": "cff8b98c"
      },
      "outputs": [
        {
          "data": {
            "image/png": "[encoded data removed]",
            "text/plain": [
              "<Figure size 750x450 with 1 Axes>"
            ]
          },
          "metadata": {},
          "output_type": "display_data"
        }
      ],
      "source": [
        "# Solution goes here\n",
        "# 일치성(Consistency)\n",
        "ns = np.logspace(1, 5).astype(int)\n",
        "\n",
        "means = [np.mean(make_exponential(n)) for n in ns]\n",
        "medians = [np.median(make_exponential(n)) for n in ns]\n",
        "\n",
        "plt.figure(figsize=(10, 6))\n",
        "plt.axhline(actual_mean, color=\"gray\", lw=1, alpha=0.5, label='Actual Mean')\n",
        "plt.axhline(actual_median, color=\"lightgray\", lw=1, alpha=0.5, label='Actual Median')\n",
        "plt.plot(ns, means, \"--\", label=\"Sample Mean\")\n",
        "plt.plot(ns, medians, alpha=0.5, label=\"Sample Median\")\n",
        "plt.xlabel(\"Sample size\")\n",
        "plt.xscale(\"log\")\n",
        "plt.ylabel(\"Estimate\")\n",
        "plt.title(\"Estimator Consistency for Exponential Distribution\")\n",
        "plt.legend()\n",
        "plt.savefig('exponential_consistency_plot.png')\n",
        "plt.show()"
      ]
    },
    {
      "cell_type": "markdown",
      "id": "9e6802e3",
      "metadata": {
        "id": "9e6802e3"
      },
      "source": [
        "Finally, check whether the sample median is an unbiased estimator of the population median."
      ]
    },
    {
      "cell_type": "code",
      "execution_count": 65,
      "id": "83601a99",
      "metadata": {
        "id": "83601a99"
      },
      "outputs": [
        {
          "name": "stdout",
          "output_type": "stream",
          "text": [
            "10001개 표본 평균의 평균: 10.0026\n",
            "10001개 표본 중앙값의 평균: 6.9834\n"
          ]
        }
      ],
      "source": [
        "# Solution goes here\n",
        "# 비편향성(Unbiasedness)\n",
        "n_samples = 10001\n",
        "sample_size = 100\n",
        "\n",
        "means_unbiasedness = [np.mean(make_exponential(sample_size)) for i in range(n_samples)]\n",
        "avg_means = np.mean(means_unbiasedness)\n",
        "print(f\"10001개 표본 평균의 평균: {avg_means:.4f}\")\n",
        "\n",
        "medians_unbiasedness = [np.median(make_exponential(sample_size)) for i in range(n_samples)]\n",
        "avg_medians = np.mean(medians_unbiasedness)\n",
        "print(f\"10001개 표본 중앙값의 평균: {avg_medians:.4f}\")"
      ]
    },
    {
      "cell_type": "markdown",
      "id": "7bdfad9f",
      "metadata": {
        "id": "7bdfad9f"
      },
      "source": [
        "### Exercise 8.4\n",
        "\n",
        "In this chapter we tested a biased estimator of variance and showed that it is, in fact, biased.\n",
        "And we showed that the unbiased estimator is unbiased.\n",
        "Now let's try standard deviation.\n",
        "\n",
        "To estimate the standard deviation of a population, we can compute the square root of the biased or unbiased estimator of variance, like this:"
      ]
    },
    {
      "cell_type": "code",
      "execution_count": 66,
      "id": "20d8a441",
      "metadata": {
        "id": "20d8a441"
      },
      "outputs": [],
      "source": [
        "def biased_std(sample):\n",
        "    # Square root of the biased estimator of variance\n",
        "    var = biased_var(sample)\n",
        "    return np.sqrt(var)"
      ]
    },
    {
      "cell_type": "code",
      "execution_count": 67,
      "id": "84b78ba0",
      "metadata": {
        "id": "84b78ba0"
      },
      "outputs": [],
      "source": [
        "def unbiased_std(sample):\n",
        "    # Square root of the unbiased estimator of variance\n",
        "    var = unbiased_var(sample)\n",
        "    return np.sqrt(var)"
      ]
    },
    {
      "cell_type": "markdown",
      "id": "067a2358",
      "metadata": {
        "id": "067a2358"
      },
      "source": [
        "Use `make_sample` to compute many samples of size 10 from a normal distribution with mean 3.7 and standard deviation 0.46.\n",
        "Check whether either of these is an unbiased estimator of standard deviation."
      ]
    },
    {
      "cell_type": "code",
      "execution_count": 68,
      "id": "b2a9e6c1",
      "metadata": {
        "id": "b2a9e6c1",
        "tags": []
      },
      "outputs": [
        {
          "data": {
            "text/plain": [
              "array([3.77626445, 4.11061253, 2.79130203, 3.83827835, 3.03552833,\n",
              "       3.44667979, 4.32796913, 3.73213816, 3.65156521, 3.6393137 ])"
            ]
          },
          "execution_count": 68,
          "metadata": {},
          "output_type": "execute_result"
        }
      ],
      "source": [
        "# Here's an example using `make_sample`\n",
        "\n",
        "mu, sigma = 3.7, 0.46\n",
        "make_sample(n=10)"
      ]
    },
    {
      "cell_type": "code",
      "execution_count": 69,
      "id": "046bc9b3",
      "metadata": {
        "id": "046bc9b3"
      },
      "outputs": [
        {
          "name": "stdout",
          "output_type": "stream",
          "text": [
            "모집단의 실제 표준편차: 0.4600\n",
            "편향된 표준편차 추정량의 평균: 0.4263\n",
            "편향된 표준편차 추정량의 편향 (평균 - 실제값): -0.0337\n"
          ]
        }
      ],
      "source": [
        "# Solution goes here\n",
        "# 실제 모집단 표준편차\n",
        "actual_std = sigma\n",
        "print(f\"모집단의 실제 표준편차: {actual_std:.4f}\")\n",
        "\n",
        "# 편향된 표준편차 추정량의 편향성\n",
        "n_samples = 10001\n",
        "sample_size = 10\n",
        "biased_stds = [biased_std(make_sample(n=sample_size)) for i in range(n_samples)]\n",
        "average_biased_std = np.mean(biased_stds)\n",
        "\n",
        "print(f\"편향된 표준편차 추정량의 평균: {average_biased_std:.4f}\")\n",
        "print(f\"편향된 표준편차 추정량의 편향 (평균 - 실제값): {(average_biased_std - actual_std):.4f}\")"
      ]
    },
    {
      "cell_type": "code",
      "execution_count": 70,
      "id": "94f66f8c",
      "metadata": {
        "id": "94f66f8c"
      },
      "outputs": [
        {
          "name": "stdout",
          "output_type": "stream",
          "text": [
            "편향되지 않은 표준편차 추정량의 평균: 0.4488\n",
            "편향되지 않은 표준편차 추정량의 편향 (평균 - 실제값): -0.0112\n"
          ]
        }
      ],
      "source": [
        "# Solution goes here\n",
        "# 편향되지 않은 표준편차 추정량의 편향성\n",
        "unbiased_stds = [unbiased_std(make_sample(n=sample_size)) for i in range(n_samples)]\n",
        "average_unbiased_std = np.mean(unbiased_stds)\n",
        "\n",
        "print(f\"편향되지 않은 표준편차 추정량의 평균: {average_unbiased_std:.4f}\")\n",
        "print(f\"편향되지 않은 표준편차 추정량의 편향 (평균 - 실제값): {(average_unbiased_std - actual_std):.4f}\")"
      ]
    },
    {
      "cell_type": "markdown",
      "id": "e22c8726",
      "metadata": {
        "id": "e22c8726"
      },
      "source": [
        "### Exercise 8.5\n",
        "\n",
        "This exercise is based on the German tank problem, which is a simplified version of an actual analysis performed by the Economic Warfare Division of the American Embassy in London during World War II.\n",
        "\n",
        "Suppose you are an Allied spy and your job is to estimate how many tanks the Germans have built.\n",
        "As data, you have serial numbers recovered from `k` captured tanks.\n",
        "\n",
        "If we assume that the Germans have `N` tanks numbered from 1 to `N`, and that all tanks in this range were equally likely to be captured, we can estimate `N` like this:"
      ]
    },
    {
      "cell_type": "code",
      "execution_count": 71,
      "id": "ea4bba76",
      "metadata": {
        "id": "ea4bba76"
      },
      "outputs": [],
      "source": [
        "def estimate_tanks(sample):\n",
        "    m = np.max(sample)\n",
        "    k = len(sample)\n",
        "    return m + (m - k) / k"
      ]
    },
    {
      "cell_type": "markdown",
      "id": "788d2692",
      "metadata": {
        "id": "788d2692"
      },
      "source": [
        "As an example, suppose `N` is 122."
      ]
    },
    {
      "cell_type": "code",
      "execution_count": 72,
      "id": "07c52cf8",
      "metadata": {
        "id": "07c52cf8"
      },
      "outputs": [],
      "source": [
        "N = 122\n",
        "tanks = np.arange(1, N + 1)"
      ]
    },
    {
      "cell_type": "markdown",
      "id": "321fe853",
      "metadata": {
        "id": "321fe853"
      },
      "source": [
        "We can use the following function to generate a random sample of `k` tanks."
      ]
    },
    {
      "cell_type": "code",
      "execution_count": 73,
      "id": "1d1a8817",
      "metadata": {
        "id": "1d1a8817"
      },
      "outputs": [],
      "source": [
        "def sample_tanks(k):\n",
        "    return np.random.choice(tanks, replace=False, size=k)"
      ]
    },
    {
      "cell_type": "markdown",
      "id": "8aa6da08",
      "metadata": {
        "id": "8aa6da08"
      },
      "source": [
        "Here's an example."
      ]
    },
    {
      "cell_type": "code",
      "execution_count": 74,
      "id": "3a816c6e",
      "metadata": {
        "id": "3a816c6e",
        "tags": []
      },
      "outputs": [],
      "source": [
        "np.random.seed(17)"
      ]
    },
    {
      "cell_type": "code",
      "execution_count": 75,
      "id": "079cfc10",
      "metadata": {
        "id": "079cfc10"
      },
      "outputs": [
        {
          "data": {
            "text/plain": [
              "array([74, 71, 95, 10, 17])"
            ]
          },
          "execution_count": 75,
          "metadata": {},
          "output_type": "execute_result"
        }
      ],
      "source": [
        "sample = sample_tanks(5)\n",
        "sample"
      ]
    },
    {
      "cell_type": "markdown",
      "id": "8ca6107e",
      "metadata": {
        "id": "8ca6107e"
      },
      "source": [
        "And here is the estimate based on this sample."
      ]
    },
    {
      "cell_type": "code",
      "execution_count": 76,
      "id": "b01c0bc3",
      "metadata": {
        "id": "b01c0bc3"
      },
      "outputs": [
        {
          "data": {
            "text/plain": [
              "113.0"
            ]
          },
          "execution_count": 76,
          "metadata": {},
          "output_type": "execute_result"
        }
      ],
      "source": [
        "estimate_tanks(sample)"
      ]
    },
    {
      "cell_type": "markdown",
      "id": "c14f0c9b",
      "metadata": {
        "id": "c14f0c9b"
      },
      "source": [
        "Check whether this estimator is biased."
      ]
    },
    {
      "cell_type": "code",
      "execution_count": 79,
      "id": "58708ab6",
      "metadata": {
        "id": "58708ab6"
      },
      "outputs": [
        {
          "name": "stdout",
          "output_type": "stream",
          "text": [
            "모집단의 실제 탱크 수 (N): 122\n",
            "시뮬레이션으로 얻은 추정량들의 평균: 121.75\n",
            "편향 (Bias): -0.25\n"
          ]
        }
      ],
      "source": [
        "# Solution goes here\n",
        "n_samples = 10001\n",
        "sample_size = len(sample)\n",
        "\n",
        "estimates = [estimate_tanks(sample_tanks(sample_size)) for i in range(n_samples)]\n",
        "average_estimate = np.mean(estimates)\n",
        "bias = average_estimate - N\n",
        "\n",
        "print(f\"모집단의 실제 탱크 수 (N): {N}\")\n",
        "print(f\"시뮬레이션으로 얻은 추정량들의 평균: {average_estimate:.2f}\")\n",
        "print(f\"편향 (Bias): {bias:.2f}\")"
      ]
    },
    {
      "cell_type": "markdown",
      "id": "d5db0077",
      "metadata": {
        "id": "d5db0077",
        "tags": []
      },
      "source": [
        "For more on this problem, see [this Wikipedia page][https://en.wikipedia.org/wiki/German_tank_problem] and Ruggles and Brodie, \"An Empirical Approach to Economic Intelligence in World War II\", Journal of the American Statistical Association, March 1947, available [here](https://web.archive.org/web/20170123132042/https://www.cia.gov/library/readingroom/docs/CIA-RDP79R01001A001300010013-3.pdf).\n",
        "\n",
        "For an explanation of how this estimator works, you might like [this video](https://www.youtube.com/watch?v=WLCwMRJBhuI)."
      ]
    },
    {
      "cell_type": "markdown",
      "id": "d6a88e85",
      "metadata": {
        "id": "d6a88e85"
      },
      "source": [
        "### Exercise 8.6\n",
        "\n",
        "In several sports -- especially basketball -- many players and fans believe in a phenomenon called the \"hot hand\", which implies that a player who has hit several consecutive shots is more likely to hit the next, and a player who has missed several times is more likely to miss.\n",
        "\n",
        "A famous paper proposed a way to test whether the hot hand is real or an illusion, by looking at sequences of hits and misses from professional basketball games.\n",
        "For each player, the authors computed the overall probability of making a shot, and the conditional probability of making a shot after three consecutive hits.\n",
        "For eight out of nine players, they found that the probability of making a shot was *lower* after three hits.\n",
        "Based on this and other results, they concluded that there is \"no evidence for a positive correlation between the outcomes of successive shots\".\n",
        "And for several decades, many people believed that the hot hand had been debunked.\n",
        "\n",
        "However, this conclusion is based on a statistical error, at least in part.\n",
        "A 2018 paper showed that the statistic used in the first paper -- the probability of making a shot after three hits -- is biased.\n",
        "Even if the probability of making every shot is exactly 0.5, and there is actually no correlation between the outcomes, the probability of making a shot after three hits is *less than 0.5*.\n",
        "\n",
        "It is not obvious why that's true, which is why the error went undetected for so long, and I won't try to explain it here.\n",
        "But we can use the methods from this chapter to check it.\n",
        "We'll use the following function to generate a sequence of 0s and 1s with probability 0.5 and no correlation."
      ]
    },
    {
      "cell_type": "code",
      "execution_count": 80,
      "id": "01f60a68",
      "metadata": {
        "id": "01f60a68"
      },
      "outputs": [],
      "source": [
        "def make_hits_and_misses(n):\n",
        "    # Generate a random sequence of 0s and 1s\n",
        "    return np.random.choice([0, 1], size=n)"
      ]
    },
    {
      "cell_type": "markdown",
      "id": "f58fe14a",
      "metadata": {
        "id": "f58fe14a"
      },
      "source": [
        "In the notebook for this chapter, I provide a function that finds all subsequences of three hits (1s) and returns the element of the sequence that follows."
      ]
    },
    {
      "cell_type": "code",
      "execution_count": 81,
      "id": "64129e4b",
      "metadata": {
        "id": "64129e4b",
        "tags": []
      },
      "outputs": [],
      "source": [
        "import numpy as np\n",
        "\n",
        "\n",
        "def get_successors(seq, target_sum=3):\n",
        "    \"\"\"Get the successors of each subsequence that sums to a target value.\n",
        "\n",
        "    Parameters:\n",
        "    seq (array-like): Sequence of 1s and 0s.\n",
        "    target_sum (int): The target sum of the subsequence. Default is 3.\n",
        "\n",
        "    Returns:\n",
        "    np.ndarray: Array of successors to subsequences that sum to `target_sum`.\n",
        "    \"\"\"\n",
        "    # Check if the input sequence is too short\n",
        "    if len(seq) < 3:\n",
        "        return np.array([])\n",
        "\n",
        "    # Compute the sum of each subsequence of length 3\n",
        "    kernel = [1, 1, 1]\n",
        "    corr = np.correlate(seq, kernel, mode=\"valid\")\n",
        "\n",
        "    # Find the indices where the subsequence sums to the target value\n",
        "    indices = np.nonzero(corr == target_sum)[0]\n",
        "\n",
        "    # Remove cases where the subsequence is at the end of the sequence\n",
        "    indices = indices[indices < len(seq) - 3]\n",
        "\n",
        "    # Find the successors of each valid subsequence\n",
        "    successors = seq[indices + 3] if len(indices) > 0 else np.array([])\n",
        "\n",
        "    return successors"
      ]
    },
    {
      "cell_type": "markdown",
      "id": "aa111baa",
      "metadata": {
        "id": "aa111baa"
      },
      "source": [
        "Generate a large number of sequences with length 100 and for each sequence, find each shot that follows three hits.\n",
        "Compute the percentage of these shots that are hits.\n",
        "Hint: if the sequence does not contain three consecutive hits, the function returns an empty sequence, so your code will have to handle that.\n",
        "\n",
        "If you run this simulation many times, what is the average percentage of hits?\n",
        "How does this result vary as you increase or decrease the length of the sequence?"
      ]
    },
    {
      "cell_type": "code",
      "execution_count": 82,
      "id": "33d52f27",
      "metadata": {
        "id": "33d52f27"
      },
      "outputs": [
        {
          "name": "stdout",
          "output_type": "stream",
          "text": [
            "길이 100인 시퀀스에서의 3연속 히트 후 평균 성공률: 0.4614\n"
          ]
        }
      ],
      "source": [
        "# Solution goes here\n",
        "# 길이 100인 시퀀스를 대량으로 생성하여 3연속 히트 후 다음 슛의 성공률\n",
        "n_simulations = 10001\n",
        "sequence_length = 100\n",
        "\n",
        "percentages = []\n",
        "for i in range(n_simulations):\n",
        "\n",
        "    seq = make_hits_and_misses(sequence_length)\n",
        "    # 3연속 히트 후 다음 슛\n",
        "    successors = get_successors(seq)\n",
        "\n",
        "    # 3연속 히트가 있는 경우에만 성공률을 계산\n",
        "    if len(successors) > 0:\n",
        "        percentage = np.mean(successors)\n",
        "        percentages.append(percentage)\n",
        "\n",
        "average_percentage = np.mean(percentages)\n",
        "print(f\"길이 {sequence_length}인 시퀀스에서의 3연속 히트 후 평균 성공률: {average_percentage:.4f}\")"
      ]
    },
    {
      "cell_type": "code",
      "execution_count": 83,
      "id": "c7d57dbe",
      "metadata": {
        "id": "c7d57dbe"
      },
      "outputs": [
        {
          "name": "stdout",
          "output_type": "stream",
          "text": [
            "\n",
            "--- 시퀀스 길이에 따른 평균 성공률 ---\n",
            "시퀀스 길이 10: 0.3557\n",
            "시퀀스 길이 100: 0.4583\n",
            "시퀀스 길이 1000: 0.4971\n"
          ]
        }
      ],
      "source": [
        "# Solution goes here\n",
        "# 시퀀스 길이에 따른 결과 변화\n",
        "print(\"\\n--- 시퀀스 길이에 따른 평균 성공률 ---\")\n",
        "sequence_lengths = [10, 100, 1000]\n",
        "\n",
        "for length in sequence_lengths:\n",
        "    percentages_by_length = []\n",
        "    for i in range(n_simulations):\n",
        "        seq = make_hits_and_misses(length)\n",
        "        successors = get_successors(seq)\n",
        "        if len(successors) > 0:\n",
        "            percentage = np.mean(successors)\n",
        "            percentages_by_length.append(percentage)\n",
        "    \n",
        "    if len(percentages_by_length) > 0:\n",
        "        average = np.mean(percentages_by_length)\n",
        "        print(f\"시퀀스 길이 {length}: {average:.4f}\")\n",
        "    else:\n",
        "        print(f\"시퀀스 길이 {length}: 3연속 히트가 발생하지 않았습니다.\")"
      ]
    },
    {
      "cell_type": "markdown",
      "id": "3722a5fe",
      "metadata": {
        "id": "3722a5fe"
      },
      "source": [
        "The famous paper is Gilovich, T., Vallone, R., & Tversky, A. (1985). The hot hand in basketball: On the misperception of random sequences. *Cognitive psychology*, 17(3), 295-314.\n",
        "\n",
        "The paper showing the statistical error is Miller, J. B., & Sanjurjo, A. (2018). Surprised by the hot hand fallacy? A truth in the law of small numbers. *Econometrica*, 86(6), 2019-2047."
      ]
    },
    {
      "cell_type": "markdown",
      "id": "41f996df",
      "metadata": {
        "id": "41f996df",
        "tags": []
      },
      "source": [
        "The first paper is [available here](https://www.joelvelasco.net/teaching/122/Gilo.Vallone.Tversky.pdf).\n",
        "The second is [available here](https://marketing.wharton.upenn.edu/wp-content/uploads/2018/11/Paper-Joshua-Miller.pdf).\n",
        "For an overview of the topic and an explanation of the error, [you might like this video](https://www.youtube.com/watch?v=CR5vT44ZMK8)."
      ]
    },
    {
      "cell_type": "markdown",
      "id": "e27da3a4",
      "metadata": {
        "id": "e27da3a4",
        "tags": []
      },
      "source": [
        "[Think Stats: Exploratory Data Analysis in Python, 3rd Edition](https://allendowney.github.io/ThinkStats/index.html)\n",
        "\n",
        "Copyright 2024 [Allen B. Downey](https://allendowney.com)\n",
        "\n",
        "Code license: [MIT License](https://mit-license.org/)\n",
        "\n",
        "Text license: [Creative Commons Attribution-NonCommercial-ShareAlike 4.0 International](https://creativecommons.org/licenses/by-nc-sa/4.0/)"
      ]
    }
  ],
  "metadata": {
    "celltoolbar": "Tags",
    "colab": {
      "provenance": []
    },
    "kernelspec": {
      "display_name": "Python 3",
      "language": "python",
      "name": "python3"
    },
    "language_info": {
      "codemirror_mode": {
        "name": "ipython",
        "version": 3
      },
      "file_extension": ".py",
      "mimetype": "text/x-python",
      "name": "python",
      "nbconvert_exporter": "python",
      "pygments_lexer": "ipython3",
      "version": "3.10.11"
    }
  },
  "nbformat": 4,
  "nbformat_minor": 5
}
