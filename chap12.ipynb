{
  "cells": [
    {
      "cell_type": "markdown",
      "id": "07d4536a",
      "metadata": {
        "id": "07d4536a"
      },
      "source": [
        "# Time Series Analysis\n",
        "\n",
        "A **time series** is a sequence of measurements from a system that varies in time.\n",
        "Many of the tools we used in previous chapters, like regression, can also be used with time series.\n",
        "But there are additional methods that are particularly useful for this kind of data.\n",
        "\n",
        "As examples, we'll look at two datasets: renewable electricity generation in the United States from 2001 to 2024, and weather data over the same interval.\n",
        "We will develop methods to decompose a time series into a long-term trend and a repeated seasonal component.\n",
        "We'll use linear regression models to fit and forecast trends.\n",
        "And we'll try out a widely-used model for analyzing time series data, with the formal name \"autoregressive integrated moving average\" and the easier-to-say acronym ARIMA."
      ]
    },
    {
      "cell_type": "markdown",
      "id": "418e407e",
      "metadata": {
        "id": "418e407e"
      },
      "source": [
        "The third edition of *Think Stats* is available now from [Bookshop.org](https://bookshop.org/a/98697/9781098190255) and [Amazon](https://amzn.to/42lmxwu) (those are affiliate links). If you are enjoying the free, online version, consider [buying me a coffee](https://buymeacoffee.com/allendowney)."
      ]
    },
    {
      "cell_type": "markdown",
      "id": "80e566fe",
      "metadata": {
        "id": "80e566fe",
        "tags": []
      },
      "source": [
        "[Click here to run this notebook on Colab](https://colab.research.google.com/github/AllenDowney/ThinkStats/blob/v3/nb/chap12.ipynb)."
      ]
    },
    {
      "cell_type": "code",
      "execution_count": null,
      "id": "afc7a155",
      "metadata": {
        "id": "afc7a155",
        "tags": []
      },
      "outputs": [],
      "source": [
        "from os.path import basename, exists\n",
        "\n",
        "\n",
        "def download(url):\n",
        "    filename = basename(url)\n",
        "    if not exists(filename):\n",
        "        from urllib.request import urlretrieve\n",
        "\n",
        "        local, _ = urlretrieve(url, filename)\n",
        "        print(\"Downloaded \" + local)\n",
        "\n",
        "\n",
        "download(\"https://github.com/AllenDowney/ThinkStats/raw/v3/nb/thinkstats.py\")"
      ]
    },
    {
      "cell_type": "code",
      "execution_count": null,
      "id": "c5ee53b7",
      "metadata": {
        "id": "c5ee53b7",
        "tags": []
      },
      "outputs": [],
      "source": [
        "try:\n",
        "    import empiricaldist\n",
        "except ImportError:\n",
        "    %pip install empiricaldist"
      ]
    },
    {
      "cell_type": "code",
      "execution_count": null,
      "id": "0005d1b2",
      "metadata": {
        "id": "0005d1b2",
        "tags": []
      },
      "outputs": [],
      "source": [
        "import numpy as np\n",
        "import pandas as pd\n",
        "import matplotlib.pyplot as plt\n",
        "\n",
        "from thinkstats import decorate\n",
        "\n",
        "plt.rcParams[\"figure.dpi\"] = 300"
      ]
    },
    {
      "cell_type": "markdown",
      "id": "1e5e86b8",
      "metadata": {
        "id": "1e5e86b8"
      },
      "source": [
        "## Electricity\n",
        "\n",
        "As an example of time-series data, we'll use a dataset from the U.S. Energy Information Administration -- it includes total electricity generation per month from renewable sources from 2001 to 2024.\n",
        "Instructions for downloading the data are in the notebook for this chapter."
      ]
    },
    {
      "cell_type": "markdown",
      "id": "d0758ddd",
      "metadata": {
        "id": "d0758ddd",
        "tags": []
      },
      "source": [
        "The following cell downloads the data, which I downloaded September 17, 2024 from https://www.eia.gov/electricity/data/browser/."
      ]
    },
    {
      "cell_type": "code",
      "execution_count": null,
      "id": "9c7d832a",
      "metadata": {
        "id": "9c7d832a",
        "tags": []
      },
      "outputs": [],
      "source": [
        "filename = \"Net_generation_for_all_sectors.csv\"\n",
        "download(\"https://github.com/AllenDowney/ThinkStats/raw/v3/data/\" + filename)"
      ]
    },
    {
      "cell_type": "markdown",
      "id": "9998c16f",
      "metadata": {
        "id": "9998c16f"
      },
      "source": [
        "After loading the data, we have to make some transformations to get it into a format that's easy to work with."
      ]
    },
    {
      "cell_type": "code",
      "execution_count": null,
      "id": "24c72696",
      "metadata": {
        "id": "24c72696"
      },
      "outputs": [],
      "source": [
        "elec = (\n",
        "    pd.read_csv(\"Net_generation_for_all_sectors.csv\", skiprows=4)\n",
        "    .drop(columns=[\"units\", \"source key\"])\n",
        "    .set_index(\"description\")\n",
        "    .replace(\"--\", np.nan)\n",
        "    .transpose()\n",
        "    .astype(float)\n",
        ")"
      ]
    },
    {
      "cell_type": "markdown",
      "id": "e01db0c6",
      "metadata": {
        "id": "e01db0c6"
      },
      "source": [
        "In the reformatted dataset, each column is a sequence of monthly totals in gigawatt-hours (GWh).\n",
        "Here are the column labels, showing the different sources of electricity, or \"sectors\"."
      ]
    },
    {
      "cell_type": "code",
      "execution_count": null,
      "id": "b0be7703",
      "metadata": {
        "id": "b0be7703"
      },
      "outputs": [],
      "source": [
        "elec.columns"
      ]
    },
    {
      "cell_type": "markdown",
      "id": "3bc15cdf",
      "metadata": {
        "id": "3bc15cdf"
      },
      "source": [
        "The labels in the index are strings indicating months and years -- here are the first 12."
      ]
    },
    {
      "cell_type": "code",
      "execution_count": null,
      "id": "3543ed12",
      "metadata": {
        "id": "3543ed12"
      },
      "outputs": [],
      "source": [
        "elec.index[:12]"
      ]
    },
    {
      "cell_type": "markdown",
      "id": "14bd8136",
      "metadata": {
        "id": "14bd8136"
      },
      "source": [
        "It will be easier to work with this data if we replace these strings with Pandas `Timestamp` objects.\n",
        "We can use the `date_range` function to generate a sequence of `Timestamp` objects, starting in January 2001 with the frequency code `\"ME\"`, which stands for \"month end\", so it fills in the last day of each month."
      ]
    },
    {
      "cell_type": "code",
      "execution_count": null,
      "id": "4e24a4eb",
      "metadata": {
        "id": "4e24a4eb"
      },
      "outputs": [],
      "source": [
        "elec.index = pd.date_range(start=\"2001-01\", periods=len(elec), freq=\"ME\")\n",
        "elec.index[:6]"
      ]
    },
    {
      "cell_type": "markdown",
      "id": "d3a686bf",
      "metadata": {
        "id": "d3a686bf"
      },
      "source": [
        "Now the index is a `DataTimeIndex` with the data type `datetime64[ns]`, which is defined in NumPy -- `64` means each label uses 64 bits, and `ns` means it has nanosecond precision."
      ]
    },
    {
      "cell_type": "markdown",
      "id": "b2b5aee0",
      "metadata": {
        "id": "b2b5aee0"
      },
      "source": [
        "## Decomposition\n",
        "\n",
        "As a first example, we'll look at how electricity generation from nuclear reactors changed over the interval from January 2001 to June 2024, and we'll decompose the time series into a long-term trend and a periodic component.\n",
        "Here are monthly totals of electricity generation from nuclear reactors in the United States."
      ]
    },
    {
      "cell_type": "code",
      "execution_count": null,
      "id": "af88054f",
      "metadata": {
        "id": "af88054f"
      },
      "outputs": [],
      "source": [
        "actual_options = dict(color=\"C0\", lw=1, alpha=0.6)\n",
        "trend_options = dict(color=\"C1\", alpha=0.6)\n",
        "pred_options = dict(color=\"C2\", alpha=0.6, ls=':')\n",
        "model_options = dict(color=\"gray\", alpha=0.6, ls='--')"
      ]
    },
    {
      "cell_type": "code",
      "execution_count": null,
      "id": "5a307620",
      "metadata": {
        "id": "5a307620"
      },
      "outputs": [],
      "source": [
        "nuclear = elec[\"United States : nuclear\"]\n",
        "nuclear.plot(label=\"nuclear\", **actual_options)\n",
        "\n",
        "decorate(ylabel=\"GWh\")"
      ]
    },
    {
      "cell_type": "markdown",
      "id": "9a66a7d9",
      "metadata": {
        "id": "9a66a7d9"
      },
      "source": [
        "It looks like there are some increases and decreases, but they are hard to see clearly because there are large variations from month to month.\n",
        "To see the long-term trend more clearly, we can use the `rolling` and `mean` methods to compute a **moving average**."
      ]
    },
    {
      "cell_type": "code",
      "execution_count": null,
      "id": "7114c7c1",
      "metadata": {
        "id": "7114c7c1"
      },
      "outputs": [],
      "source": [
        "trend = nuclear.rolling(window=12).mean()"
      ]
    },
    {
      "cell_type": "markdown",
      "id": "005e1203",
      "metadata": {
        "id": "005e1203"
      },
      "source": [
        "The `window=12` argument selects overlapping intervals of 12 months, so the first interval contains 12 measurements starting with the first, the second interval contains 12 measurements starting with the second, and so on.\n",
        "For each interval, we compute the mean production.\n",
        "\n",
        "Here's what the results look like, along with the original data."
      ]
    },
    {
      "cell_type": "code",
      "execution_count": null,
      "id": "1afb182d",
      "metadata": {
        "id": "1afb182d"
      },
      "outputs": [],
      "source": [
        "nuclear.plot(label=\"nuclear\", **actual_options)\n",
        "trend.plot(label=\"trend\", **trend_options)\n",
        "decorate(ylabel=\"GWh\")"
      ]
    },
    {
      "cell_type": "markdown",
      "id": "041b941e",
      "metadata": {
        "id": "041b941e"
      },
      "source": [
        "The trend is still quite variable.\n",
        "We could smooth it more by using a longer window, but we'll stick with the 12-month window for now.\n",
        "\n",
        "If we subtract the trend from the original data, the result is a \"detrended\" time series, which means that the long-term mean is close to constant.\n",
        "Here's what it looks like."
      ]
    },
    {
      "cell_type": "code",
      "execution_count": null,
      "id": "608e6249",
      "metadata": {
        "id": "608e6249"
      },
      "outputs": [],
      "source": [
        "detrended = (nuclear - trend).dropna()\n",
        "detrended.plot(label=\"detrended\", **actual_options)\n",
        "decorate(ylabel=\"GWh\")"
      ]
    },
    {
      "cell_type": "markdown",
      "id": "021c95a3",
      "metadata": {
        "id": "021c95a3"
      },
      "source": [
        "It seems like there is a repeating annual pattern, which makes sense because demand for electricity varies from one season to another, as it is used to generate heat in the winter and run air conditioning in the summer.\n",
        "To describe this annual pattern we can select the month part of the `datetime` objects in the index, group the data by month, and compute average production.\n",
        "Here's what the monthly averages look like."
      ]
    },
    {
      "cell_type": "code",
      "execution_count": null,
      "id": "fea70db7",
      "metadata": {
        "id": "fea70db7"
      },
      "outputs": [],
      "source": [
        "monthly_averages = detrended.groupby(detrended.index.month).mean()\n",
        "monthly_averages.plot(label=\"monthly average\", **actual_options)\n",
        "decorate(ylabel=\"GWh\")"
      ]
    },
    {
      "cell_type": "markdown",
      "id": "5020077e",
      "metadata": {
        "id": "5020077e"
      },
      "source": [
        "On the x-axis, month 1 is January and month 12 is December.\n",
        "Electricity production is highest during the coldest and warmest months, and lowest during April and October.\n",
        "\n",
        "We can use `monthly_averages` to construct the seasonal component of the data, which is a series the same length as `nuclear`, where the element for each month is the average for that month.\n",
        "Here's what it looks like."
      ]
    },
    {
      "cell_type": "code",
      "execution_count": null,
      "id": "4d21a405",
      "metadata": {
        "id": "4d21a405"
      },
      "outputs": [],
      "source": [
        "seasonal = monthly_averages[nuclear.index.month]\n",
        "seasonal.index = nuclear.index\n",
        "seasonal.plot(label=\"seasonal\", **actual_options)\n",
        "decorate(ylabel=\"GWh\")"
      ]
    },
    {
      "cell_type": "markdown",
      "id": "0fc137a8",
      "metadata": {
        "id": "0fc137a8"
      },
      "source": [
        "Each 12-month period is identical to the others.\n",
        "\n",
        "The sum of the trend and the seasonal component represents the expected value for each month."
      ]
    },
    {
      "cell_type": "code",
      "execution_count": null,
      "id": "21b20b77",
      "metadata": {
        "id": "21b20b77"
      },
      "outputs": [],
      "source": [
        "expected = trend + seasonal"
      ]
    },
    {
      "cell_type": "markdown",
      "id": "24a5f0fd",
      "metadata": {
        "id": "24a5f0fd"
      },
      "source": [
        "Here's what it looks like compared to the original series."
      ]
    },
    {
      "cell_type": "code",
      "execution_count": null,
      "id": "f445fe23",
      "metadata": {
        "id": "f445fe23"
      },
      "outputs": [],
      "source": [
        "expected.plot(label=\"expected\", **pred_options)\n",
        "nuclear.plot(label=\"actual\", **actual_options)\n",
        "decorate(ylabel=\"GWh\")"
      ]
    },
    {
      "cell_type": "markdown",
      "id": "e2fc73c2",
      "metadata": {
        "id": "e2fc73c2"
      },
      "source": [
        "If we subtract this sum from the original series, the result is the residual component, which represents the departure from the expected value for each month."
      ]
    },
    {
      "cell_type": "code",
      "execution_count": null,
      "id": "68ea7b46",
      "metadata": {
        "id": "68ea7b46"
      },
      "outputs": [],
      "source": [
        "resid = nuclear - expected\n",
        "resid.plot(label=\"residual\", **actual_options)\n",
        "decorate(ylabel=\"GWh\")"
      ]
    },
    {
      "cell_type": "markdown",
      "id": "562be99d",
      "metadata": {
        "id": "562be99d"
      },
      "source": [
        "We can think of the residual as the sum of everything in the world that affects energy production, but is not explained by the long-term trend or the seasonal component.\n",
        "Among other things, that sum includes weather, equipment that's down for maintenance, and changes in demand due to specific events.\n",
        "Since the residual is the sum of many unpredictable, and sometimes unknowable, factors, we often treat it as a random quantity.\n",
        "\n",
        "Here's what the distribution of the residuals look like."
      ]
    },
    {
      "cell_type": "code",
      "execution_count": null,
      "id": "480a040d",
      "metadata": {
        "id": "480a040d"
      },
      "outputs": [],
      "source": [
        "from thinkstats import plot_kde\n",
        "\n",
        "plot_kde(resid.dropna())\n",
        "decorate(xlabel=\"Residual (GWh)\", ylabel=\"Density\")"
      ]
    },
    {
      "cell_type": "markdown",
      "id": "2b58a30e",
      "metadata": {
        "id": "2b58a30e"
      },
      "source": [
        "It resembles the bell curve of the normal distribution, which is consistent with the assumption that it is the sum of many random contributions.\n",
        "\n",
        "To quantify how well this model describes the original series, we can compute the coefficient of determination, which indicates how much smaller the variance of the residuals is, compared to the variance of the original series."
      ]
    },
    {
      "cell_type": "code",
      "execution_count": null,
      "id": "4c209222",
      "metadata": {
        "id": "4c209222"
      },
      "outputs": [],
      "source": [
        "rsquared = 1 - resid.var() / nuclear.var()\n",
        "rsquared"
      ]
    },
    {
      "cell_type": "markdown",
      "id": "f1e8f7c9",
      "metadata": {
        "id": "f1e8f7c9"
      },
      "source": [
        "The $R^2$ value is about 0.92, which means that the long-term trend and seasonal component account for 92% of the variability in the series.\n",
        "This $R^2$ is substantially higher than the ones we saw in the previous chapter, but that's common with time series data -- especially in a case like this where we've constructed the model to resemble the data.\n",
        "\n",
        "The process we've just walked through is called **seasonal decomposition**.\n",
        "StatsModels provides a function that does it, called `seasonal_decompose`."
      ]
    },
    {
      "cell_type": "code",
      "execution_count": null,
      "id": "e0d7b7d4",
      "metadata": {
        "id": "e0d7b7d4"
      },
      "outputs": [],
      "source": [
        "from statsmodels.tsa.seasonal import seasonal_decompose\n",
        "\n",
        "decomposition = seasonal_decompose(nuclear, model=\"additive\", period=12)"
      ]
    },
    {
      "cell_type": "markdown",
      "id": "2aef3d02",
      "metadata": {
        "id": "2aef3d02"
      },
      "source": [
        "The `model=\"additive\"` argument indicates the additive model, so the series is decomposed into the sum of a trend, seasonal component, and residual.\n",
        "We'll see the multiplicative model soon.\n",
        "The `period=12` argument indicates that the duration of the seasonal component is 12 months.\n",
        "\n",
        "The result is an object that contains the three components.\n",
        "The notebook for this chapter provides a function that plots them."
      ]
    },
    {
      "cell_type": "code",
      "execution_count": null,
      "id": "7a0b7c85",
      "metadata": {
        "id": "7a0b7c85",
        "tags": []
      },
      "outputs": [],
      "source": [
        "def plot_decomposition(original, decomposition):\n",
        "    plt.figure(figsize=(6, 5))\n",
        "\n",
        "    ax1 = plt.subplot(4, 1, 1)\n",
        "    plt.plot(original, label=\"Original\", color=\"C0\", lw=1)\n",
        "    plt.ylabel(\"Original\")\n",
        "\n",
        "    plt.subplot(4, 1, 2, sharex=ax1)\n",
        "    plt.plot(decomposition.trend, label=\"Trend\", color=\"C1\", lw=1)\n",
        "    plt.ylabel(\"Trend\")\n",
        "\n",
        "    plt.subplot(4, 1, 3, sharex=ax1)\n",
        "    plt.plot(decomposition.seasonal, label=\"Seasonal\", color=\"C2\", lw=1)\n",
        "    plt.ylabel(\"Seasonal\")\n",
        "\n",
        "    plt.subplot(4, 1, 4, sharex=ax1)\n",
        "    plt.plot(decomposition.resid, label=\"Residual\", color=\"C3\", lw=1)\n",
        "    plt.ylabel(\"Residual\")\n",
        "\n",
        "    plt.tight_layout()"
      ]
    },
    {
      "cell_type": "code",
      "execution_count": null,
      "id": "89f01bdd",
      "metadata": {
        "id": "89f01bdd"
      },
      "outputs": [],
      "source": [
        "plot_decomposition(nuclear, decomposition)"
      ]
    },
    {
      "cell_type": "markdown",
      "id": "1a056c8e",
      "metadata": {
        "id": "1a056c8e"
      },
      "source": [
        "The results are similar to those we computed ourselves, with small differences due to the details of the implementation.\n",
        "\n",
        "This kind of seasonal decomposition provides insight into the structure of a time series.\n",
        "As we'll see in the next section, it is also useful for making forecasts."
      ]
    },
    {
      "cell_type": "markdown",
      "id": "2aa8ccda",
      "metadata": {
        "id": "2aa8ccda"
      },
      "source": [
        "## Prediction\n",
        "\n",
        "We can use the results from seasonal decomposition to predict the future.\n",
        "To demonstrate, we'll use the following function to split the time series into a **training series**, which we'll use to generate predictions, and a **test series**, which we'll use to see whether they are accurate."
      ]
    },
    {
      "cell_type": "code",
      "execution_count": null,
      "id": "2b7a40ab",
      "metadata": {
        "id": "2b7a40ab"
      },
      "outputs": [],
      "source": [
        "def split_series(series, n=60):\n",
        "    training = series.iloc[:-n]\n",
        "    test = series.iloc[-n:]\n",
        "    return training, test"
      ]
    },
    {
      "cell_type": "markdown",
      "id": "624b771f",
      "metadata": {
        "id": "624b771f"
      },
      "source": [
        "With `n=60`, the duration of the test series is five years, starting in July 2019."
      ]
    },
    {
      "cell_type": "code",
      "execution_count": null,
      "id": "1e5c806c",
      "metadata": {
        "id": "1e5c806c"
      },
      "outputs": [],
      "source": [
        "training, test = split_series(nuclear)\n",
        "test.index[0]"
      ]
    },
    {
      "cell_type": "markdown",
      "id": "f8756a7d",
      "metadata": {
        "id": "f8756a7d"
      },
      "source": [
        "Now, suppose it's June 2019 and you are asked to generate a five-year forecast for electricity production from nuclear generators.\n",
        "To answer this question, we'll use the training data to make a model and then use the model to generate predictions.\n",
        "We'll start with a seasonal decomposition of the training data."
      ]
    },
    {
      "cell_type": "code",
      "execution_count": null,
      "id": "24ebb8d8",
      "metadata": {
        "id": "24ebb8d8"
      },
      "outputs": [],
      "source": [
        "decomposition = seasonal_decompose(training, model=\"additive\", period=12)\n",
        "trend = decomposition.trend"
      ]
    },
    {
      "cell_type": "markdown",
      "id": "e4254254",
      "metadata": {
        "id": "e4254254"
      },
      "source": [
        "Now we'll fit a linear model to the trend.\n",
        "The explanatory variable, `months`, is the number of months from the beginning of the series."
      ]
    },
    {
      "cell_type": "code",
      "execution_count": null,
      "id": "ebc387b5",
      "metadata": {
        "id": "ebc387b5"
      },
      "outputs": [],
      "source": [
        "import statsmodels.formula.api as smf\n",
        "\n",
        "months = np.arange(len(trend))\n",
        "data = pd.DataFrame({\"trend\": trend, \"months\": months}).dropna()\n",
        "results = smf.ols(\"trend ~ months\", data=data).fit()"
      ]
    },
    {
      "cell_type": "markdown",
      "id": "dc85c541",
      "metadata": {
        "id": "dc85c541"
      },
      "source": [
        "Here is a summary of the results."
      ]
    },
    {
      "cell_type": "code",
      "execution_count": null,
      "id": "2ba00cce",
      "metadata": {
        "id": "2ba00cce"
      },
      "outputs": [],
      "source": [
        "from thinkstats import display_summary\n",
        "\n",
        "display_summary(results)"
      ]
    },
    {
      "cell_type": "markdown",
      "id": "17762ce7",
      "metadata": {
        "id": "17762ce7"
      },
      "source": [
        "The $R^2$ value is about 0.35, which suggests that the model does not fit the data particularly well.\n",
        "We can get a better sense of that by plotting the fitted line.\n",
        "We'll use the `predict` method to compute expected values for the training and test data."
      ]
    },
    {
      "cell_type": "code",
      "execution_count": null,
      "id": "27250c4b",
      "metadata": {
        "id": "27250c4b"
      },
      "outputs": [],
      "source": [
        "months = np.arange(len(training) + len(test))\n",
        "df = pd.DataFrame({\"months\": months})\n",
        "pred_trend = results.predict(df)\n",
        "pred_trend.index = nuclear.index"
      ]
    },
    {
      "cell_type": "markdown",
      "id": "ae67f0ff",
      "metadata": {
        "id": "ae67f0ff"
      },
      "source": [
        "Here's the trend component and the linear model."
      ]
    },
    {
      "cell_type": "code",
      "execution_count": null,
      "id": "19431e17",
      "metadata": {
        "id": "19431e17"
      },
      "outputs": [],
      "source": [
        "trend.plot(**trend_options)\n",
        "pred_trend.plot(label=\"linear model\", **model_options)\n",
        "decorate(ylabel=\"GWh\")"
      ]
    },
    {
      "cell_type": "markdown",
      "id": "72fedefe",
      "metadata": {
        "id": "72fedefe"
      },
      "source": [
        "There's a lot going on that's not captured by the linear model, but it looks like there is a generally increasing trend.\n",
        "\n",
        "Next we'll use the seasonal component from the decomposition to compute a `Series` of monthly averages."
      ]
    },
    {
      "cell_type": "code",
      "execution_count": null,
      "id": "bceec2d8",
      "metadata": {
        "id": "bceec2d8"
      },
      "outputs": [],
      "source": [
        "seasonal = decomposition.seasonal\n",
        "monthly_averages = seasonal.groupby(seasonal.index.month).mean()"
      ]
    },
    {
      "cell_type": "markdown",
      "id": "9a491c1a",
      "metadata": {
        "id": "9a491c1a"
      },
      "source": [
        "We can predict the seasonal component by looking up the dates from the fitted line in `monthly_averages`."
      ]
    },
    {
      "cell_type": "code",
      "execution_count": null,
      "id": "4c0376d2",
      "metadata": {
        "id": "4c0376d2"
      },
      "outputs": [],
      "source": [
        "pred_seasonal = monthly_averages[pred_trend.index.month]\n",
        "pred_seasonal.index = pred_trend.index"
      ]
    },
    {
      "cell_type": "markdown",
      "id": "dd6004ae",
      "metadata": {
        "id": "dd6004ae"
      },
      "source": [
        "Finally, to generate predictions, we'll add the seasonal component to the trend."
      ]
    },
    {
      "cell_type": "code",
      "execution_count": null,
      "id": "06d4493a",
      "metadata": {
        "id": "06d4493a"
      },
      "outputs": [],
      "source": [
        "pred = pred_trend + pred_seasonal"
      ]
    },
    {
      "cell_type": "markdown",
      "id": "25dd9831",
      "metadata": {
        "id": "25dd9831"
      },
      "source": [
        "Here's the training data and the predictions."
      ]
    },
    {
      "cell_type": "code",
      "execution_count": null,
      "id": "e89d5140",
      "metadata": {
        "id": "e89d5140"
      },
      "outputs": [],
      "source": [
        "pred.plot(label=\"prediction\", **pred_options)\n",
        "training.plot(label=\"training\", **actual_options)\n",
        "decorate(ylabel=\"GWh\")"
      ]
    },
    {
      "cell_type": "markdown",
      "id": "784fd2d1",
      "metadata": {
        "id": "784fd2d1"
      },
      "source": [
        "The predictions fit the training data reasonably well, and the forecast looks like a reasonable projection, based on the assumption that the long-term trend will continue.\n",
        "\n",
        "Now, from the vantage point of the future, let's see how accurate this forecast turned out to be.\n",
        "Here are the predicted and actual values for the five-year interval from July 2019."
      ]
    },
    {
      "cell_type": "code",
      "execution_count": null,
      "id": "4b71363e",
      "metadata": {
        "id": "4b71363e"
      },
      "outputs": [],
      "source": [
        "forecast = pred[test.index]\n",
        "forecast.plot(label=\"predicted\", **pred_options)\n",
        "test.plot(label=\"actual\", **actual_options)\n",
        "decorate(ylabel=\"GWh\")"
      ]
    },
    {
      "cell_type": "markdown",
      "id": "3f015679",
      "metadata": {
        "id": "3f015679"
      },
      "source": [
        "The first year of the forecast was pretty good, but production from nuclear reactors in 2020 was lower than expected -- possibly due to the COVID-19 pandemic -- and it never returned to the long-term trend.\n",
        "\n",
        "To quantify the accuracy of the predictions, we'll use the mean absolute percentage error (MAPE), which the following function computes."
      ]
    },
    {
      "cell_type": "code",
      "execution_count": null,
      "id": "1a9bd82a",
      "metadata": {
        "id": "1a9bd82a"
      },
      "outputs": [],
      "source": [
        "def MAPE(predicted, actual):\n",
        "    ape = np.abs(predicted - actual) / actual\n",
        "    return np.mean(ape) * 100"
      ]
    },
    {
      "cell_type": "markdown",
      "id": "08329c29",
      "metadata": {
        "id": "08329c29"
      },
      "source": [
        "In this example, the predictions are off by 3.81% on average."
      ]
    },
    {
      "cell_type": "code",
      "execution_count": null,
      "id": "39623bae",
      "metadata": {
        "id": "39623bae"
      },
      "outputs": [],
      "source": [
        "MAPE(forecast, test)"
      ]
    },
    {
      "cell_type": "markdown",
      "id": "7163a837",
      "metadata": {
        "id": "7163a837"
      },
      "source": [
        "We'll come back to this example later in the chapter and see if we can do better with a different model."
      ]
    },
    {
      "cell_type": "markdown",
      "id": "507cd5a3",
      "metadata": {
        "id": "507cd5a3"
      },
      "source": [
        "## Multiplicative Model\n",
        "\n",
        "The additive model we used in the previous section assumes that the time series is the *sum* of a long-term trend, a seasonal component, and a residual -- which implies that the magnitude of the seasonal component and the residuals does not vary over time.\n",
        "\n",
        "As an example that violates this assumption, let's look at small-scale solar electricity production since 2014."
      ]
    },
    {
      "cell_type": "code",
      "execution_count": null,
      "id": "9c282259",
      "metadata": {
        "id": "9c282259"
      },
      "outputs": [],
      "source": [
        "solar = elec[\"United States : small-scale solar photovoltaic\"].dropna()\n",
        "solar.plot(label=\"solar\", **actual_options)\n",
        "decorate(ylabel=\"GWh\")"
      ]
    },
    {
      "cell_type": "markdown",
      "id": "2ee9a16b",
      "metadata": {
        "id": "2ee9a16b"
      },
      "source": [
        "Over this interval, total production has increased several times over.\n",
        "And it's clear that the magnitude of seasonal variation has increased as well.\n",
        "\n",
        "If we suppose that the magnitudes of seasonal and random variation are proportional to the magnitude of the trend, that suggests an alternative to the additive model in which the time series is the *product* of the three components.\n",
        "\n",
        "To try out this multiplicative model, we'll split this series into training and test sets."
      ]
    },
    {
      "cell_type": "code",
      "execution_count": null,
      "id": "02b83eb4",
      "metadata": {
        "id": "02b83eb4"
      },
      "outputs": [],
      "source": [
        "training, test = split_series(solar)"
      ]
    },
    {
      "cell_type": "markdown",
      "id": "84733478",
      "metadata": {
        "id": "84733478"
      },
      "source": [
        "And call `seasonal_decompose` with the `model=\"multiplicative\"` argument."
      ]
    },
    {
      "cell_type": "code",
      "execution_count": null,
      "id": "0fc6a7c5",
      "metadata": {
        "id": "0fc6a7c5"
      },
      "outputs": [],
      "source": [
        "decomposition = seasonal_decompose(training, model=\"multiplicative\", period=12)"
      ]
    },
    {
      "cell_type": "markdown",
      "id": "f9b48a46",
      "metadata": {
        "id": "f9b48a46"
      },
      "source": [
        "Here's what the results look like."
      ]
    },
    {
      "cell_type": "code",
      "execution_count": null,
      "id": "94442ac2",
      "metadata": {
        "id": "94442ac2"
      },
      "outputs": [],
      "source": [
        "plot_decomposition(training, decomposition)"
      ]
    },
    {
      "cell_type": "markdown",
      "id": "31b1cc92",
      "metadata": {
        "id": "31b1cc92"
      },
      "source": [
        "Now the seasonal and residual components are multiplicative factors.\n",
        "So, it looks like the seasonal component varies from about 25% below the trend to 25% above.\n",
        "And the residual component is usually less than 5% either way, with the exception of some larger factors in the first period.\n",
        "We can extract the components of the model like this."
      ]
    },
    {
      "cell_type": "code",
      "execution_count": null,
      "id": "fff495c7",
      "metadata": {
        "id": "fff495c7"
      },
      "outputs": [],
      "source": [
        "trend = decomposition.trend\n",
        "seasonal = decomposition.seasonal\n",
        "resid = decomposition.resid"
      ]
    },
    {
      "cell_type": "markdown",
      "id": "cfc065a4",
      "metadata": {
        "id": "cfc065a4"
      },
      "source": [
        "The $R^2$ value of this model is very high."
      ]
    },
    {
      "cell_type": "code",
      "execution_count": null,
      "id": "3efa8d97",
      "metadata": {
        "id": "3efa8d97"
      },
      "outputs": [],
      "source": [
        "rsquared = 1 - resid.var() / training.var()\n",
        "rsquared"
      ]
    },
    {
      "cell_type": "markdown",
      "id": "8586333f",
      "metadata": {
        "id": "8586333f"
      },
      "source": [
        "The production of a solar panel is largely a function of the sunlight it's exposed to, so it makes sense that production follows an annual cycle so closely.\n",
        "\n",
        "To predict the long term trend, we'll use a quadratic model."
      ]
    },
    {
      "cell_type": "code",
      "execution_count": null,
      "id": "0a71ed5f",
      "metadata": {
        "id": "0a71ed5f"
      },
      "outputs": [],
      "source": [
        "months = range(len(training))\n",
        "data = pd.DataFrame({\"trend\": trend, \"months\": months}).dropna()\n",
        "results = smf.ols(\"trend ~ months + I(months**2)\", data=data).fit()"
      ]
    },
    {
      "cell_type": "markdown",
      "id": "f22a0b87",
      "metadata": {
        "id": "f22a0b87"
      },
      "source": [
        "In the Patsy formula, the substring `I(months**2)` adds a quadratic term to the model, so we don't have to compute it explicitly.\n",
        "Here are the results."
      ]
    },
    {
      "cell_type": "code",
      "execution_count": null,
      "id": "bbbd773b",
      "metadata": {
        "id": "bbbd773b"
      },
      "outputs": [],
      "source": [
        "display_summary(results)"
      ]
    },
    {
      "cell_type": "markdown",
      "id": "1d049dd9",
      "metadata": {
        "id": "1d049dd9"
      },
      "source": [
        "The p-values of the linear and quadratic terms are very small, which suggests that the quadratic model captures more information about the trend than a linear model would -- and the $R^2$ value is very high.\n",
        "\n",
        "Now we can use the model to compute the expected value of the trend for the past and future."
      ]
    },
    {
      "cell_type": "code",
      "execution_count": null,
      "id": "67edcfc9",
      "metadata": {
        "id": "67edcfc9"
      },
      "outputs": [],
      "source": [
        "months = range(len(solar))\n",
        "df = pd.DataFrame({\"months\": months})\n",
        "pred_trend = results.predict(df)\n",
        "pred_trend.index = solar.index"
      ]
    },
    {
      "cell_type": "markdown",
      "id": "32a22409",
      "metadata": {
        "id": "32a22409"
      },
      "source": [
        "Here's what it looks like."
      ]
    },
    {
      "cell_type": "code",
      "execution_count": null,
      "id": "9012aa32",
      "metadata": {
        "id": "9012aa32"
      },
      "outputs": [],
      "source": [
        "pred_trend.plot(label=\"quadratic model\", **model_options)\n",
        "trend.plot(**trend_options)\n",
        "decorate(ylabel=\"GWh\")"
      ]
    },
    {
      "cell_type": "markdown",
      "id": "1a65e44f",
      "metadata": {
        "id": "1a65e44f"
      },
      "source": [
        "The quadratic model fits the past trend well.\n",
        "Now we can use the seasonal component to predict future seasonal variation."
      ]
    },
    {
      "cell_type": "code",
      "execution_count": null,
      "id": "74a70a46",
      "metadata": {
        "id": "74a70a46"
      },
      "outputs": [],
      "source": [
        "monthly_averages = seasonal.groupby(seasonal.index.month).mean()\n",
        "pred_seasonal = monthly_averages[pred_trend.index.month]\n",
        "pred_seasonal.index = pred_trend.index"
      ]
    },
    {
      "cell_type": "markdown",
      "id": "c6ff9937",
      "metadata": {
        "id": "c6ff9937"
      },
      "source": [
        "Finally, to compute **retrodictions** for past values and predictions for the future, we multiply the trend and the seasonal component."
      ]
    },
    {
      "cell_type": "code",
      "execution_count": null,
      "id": "3c604f0f",
      "metadata": {
        "id": "3c604f0f"
      },
      "outputs": [],
      "source": [
        "pred = pred_trend * pred_seasonal"
      ]
    },
    {
      "cell_type": "markdown",
      "id": "d5e5445f",
      "metadata": {
        "id": "d5e5445f"
      },
      "source": [
        "Here is the result along with the training data."
      ]
    },
    {
      "cell_type": "code",
      "execution_count": null,
      "id": "01308ed4",
      "metadata": {
        "id": "01308ed4"
      },
      "outputs": [],
      "source": [
        "training.plot(label=\"training\", **actual_options)\n",
        "pred.plot(label=\"prediction\", **pred_options)\n",
        "decorate(ylabel=\"GWh\")"
      ]
    },
    {
      "cell_type": "markdown",
      "id": "10c1cca6",
      "metadata": {
        "id": "10c1cca6"
      },
      "source": [
        "The retrodictions fit the training data well and the predictions seem plausible -- now let's see if they turned out to be accurate.\n",
        "Here are the predictions along with the test data."
      ]
    },
    {
      "cell_type": "code",
      "execution_count": null,
      "id": "c969e6e5",
      "metadata": {
        "id": "c969e6e5"
      },
      "outputs": [],
      "source": [
        "future = pred[test.index]\n",
        "future.plot(label=\"prediction\", **pred_options)\n",
        "test.plot(label=\"actual\", **actual_options)\n",
        "decorate(ylabel=\"GWh\")"
      ]
    },
    {
      "cell_type": "markdown",
      "id": "8101ade3",
      "metadata": {
        "id": "8101ade3"
      },
      "source": [
        "For the first three years, the predictions are very good.\n",
        "After that, it looks like actual growth exceeded expectations.\n",
        "\n",
        "In this example, seasonal decomposition worked well for modeling and predicting solar production, but in the previous example, it was not very effective for nuclear production.\n",
        "In the next section, we'll try a different approach, autoregression."
      ]
    },
    {
      "cell_type": "markdown",
      "id": "c482de2d",
      "metadata": {
        "id": "c482de2d"
      },
      "source": [
        "## Autoregression\n",
        "\n",
        "The first idea of autoregression is that the future will be like the past.\n",
        "For example, in the time series we've looked at so far, there is a clear annual cycle.\n",
        "So if you are asked to make a prediction for next June, a good starting place would be last June.\n",
        "\n",
        "To see how well that might work, let's go back to `nuclear`, which contains monthly electricity production from nuclear generators, and compute differences between the same month in successive years, which are called \"year-over-year\" differences."
      ]
    },
    {
      "cell_type": "code",
      "execution_count": null,
      "id": "95688a76",
      "metadata": {
        "id": "95688a76"
      },
      "outputs": [],
      "source": [
        "diff = (nuclear - nuclear.shift(12)).dropna()\n",
        "diff.plot(label=\"year over year differences\", **actual_options)\n",
        "decorate(ylabel=\"GWh\")"
      ]
    },
    {
      "cell_type": "markdown",
      "id": "84ddfe79",
      "metadata": {
        "id": "84ddfe79"
      },
      "source": [
        "The magnitudes of these differences are substantially smaller than the magnitudes of the original series, which suggests the second idea of autoregression, which is that it might be easier to predict these differences, rather than the original values.\n",
        "\n",
        "Toward that end, let's see if there are correlations between successive elements in the series of differences.\n",
        "If so, we could use those correlations to predict future values based on previous values.\n",
        "\n",
        "I'll start by making a `DataFrame`, putting the differences in the first column and putting  the same differences -- shifted by 1, 2, and 3 months -- into successive columns.\n",
        "These columns are named `lag1`, `lag2`, and `lag3`, because the series they contain have been **lagged** or delayed."
      ]
    },
    {
      "cell_type": "code",
      "execution_count": null,
      "id": "a9802c54",
      "metadata": {
        "id": "a9802c54"
      },
      "outputs": [],
      "source": [
        "df_ar = pd.DataFrame({\"diff\": diff})\n",
        "for lag in [1, 2, 3]:\n",
        "    df_ar[f\"lag{lag}\"] = diff.shift(lag)\n",
        "\n",
        "df_ar = df_ar.dropna()"
      ]
    },
    {
      "cell_type": "markdown",
      "id": "90a0e1c7",
      "metadata": {
        "id": "90a0e1c7"
      },
      "source": [
        "Here are the correlations between these columns."
      ]
    },
    {
      "cell_type": "code",
      "execution_count": null,
      "id": "033380ee",
      "metadata": {
        "id": "033380ee"
      },
      "outputs": [],
      "source": [
        "df_ar.corr()[[\"diff\"]]"
      ]
    },
    {
      "cell_type": "markdown",
      "id": "a4484fdd",
      "metadata": {
        "id": "a4484fdd"
      },
      "source": [
        "These correlations are called lagged correlations or **autocorrelations** -- the prefix \"auto\" indicates that we're taking the correlation of the series with itself.\n",
        "As a special case, the correlation between `diff` and `lag1` is called **serial correlation** because it is the correlation between successive elements in the series.\n",
        "\n",
        "These correlation are strong enough to suggest that they should help with prediction, so let's put them into a multiple regression.\n",
        "The following function uses the columns from the `DataFrame` to make a Patsy formula with the first column as the response variable and the other columns as explanatory variables."
      ]
    },
    {
      "cell_type": "code",
      "execution_count": null,
      "id": "db891d77",
      "metadata": {
        "id": "db891d77"
      },
      "outputs": [],
      "source": [
        "def make_formula(df):\n",
        "    \"\"\"Make a Patsy formula from column names.\"\"\"\n",
        "    y = df.columns[0]\n",
        "    xs = \" + \".join(df.columns[1:])\n",
        "    return f\"{y} ~ {xs}\""
      ]
    },
    {
      "cell_type": "markdown",
      "id": "49af729d",
      "metadata": {
        "id": "49af729d"
      },
      "source": [
        "Here are the results of a linear model that predicts the next value in a sequence based on the previous three values."
      ]
    },
    {
      "cell_type": "code",
      "execution_count": null,
      "id": "55226d90",
      "metadata": {
        "id": "55226d90"
      },
      "outputs": [],
      "source": [
        "formula = make_formula(df_ar)\n",
        "results_ar = smf.ols(formula=formula, data=df_ar).fit()\n",
        "display_summary(results_ar)"
      ]
    },
    {
      "cell_type": "markdown",
      "id": "2239aa5b",
      "metadata": {
        "id": "2239aa5b"
      },
      "source": [
        "Now we can use the `predict` method to generate predictions for the past values in the series.\n",
        "Here's what these retrodictions look like compared to the data."
      ]
    },
    {
      "cell_type": "code",
      "execution_count": null,
      "id": "b7ca967e",
      "metadata": {
        "id": "b7ca967e"
      },
      "outputs": [],
      "source": [
        "pred_ar = results_ar.predict(df_ar)\n",
        "pred_ar.plot(label=\"predictions\", **pred_options)\n",
        "diff.plot(label=\"differences\", **actual_options)\n",
        "decorate(ylabel=\"GWh\")"
      ]
    },
    {
      "cell_type": "markdown",
      "id": "2a696385",
      "metadata": {
        "id": "2a696385"
      },
      "source": [
        "The predictions are good in some places, but the $R^2$ value is only about 0.319, so there is room for improvement."
      ]
    },
    {
      "cell_type": "code",
      "execution_count": null,
      "id": "438edd07",
      "metadata": {
        "id": "438edd07"
      },
      "outputs": [],
      "source": [
        "resid_ar = (diff - pred_ar).dropna()\n",
        "R2 = 1 - resid_ar.var() / diff.var()\n",
        "R2"
      ]
    },
    {
      "cell_type": "markdown",
      "id": "0dc9ee57",
      "metadata": {
        "id": "0dc9ee57"
      },
      "source": [
        "One way to improve the predictions is to compute the residuals from this model and use another model to predict the residuals -- which is the third idea of autoregression."
      ]
    },
    {
      "cell_type": "markdown",
      "id": "59515896",
      "metadata": {
        "id": "59515896"
      },
      "source": [
        "## Moving Average\n",
        "\n",
        "Suppose it's June 2019, and you are asked to make a prediction for June 2020.\n",
        "Your first guess might be that this year's value will be repeated next year.\n",
        "\n",
        "Now suppose it's May 2020, and you are asked to revise your prediction for June 2020.\n",
        "You could use the results from the last three months, and the autocorrelation model from the previous section, to predict the year-over-year difference.\n",
        "\n",
        "Finally, suppose you check the predictions for the last few months, and see that they have been consistently too low.\n",
        "That suggests that the prediction for next month might also be too low, so you could revise it upward.\n",
        "The underlying assumption is that recent prediction errors predict future prediction errors.\n",
        "\n",
        "To see whether they do, we can make a `DataFrame` with the residuals from the autoregression model in the first column, and lagged versions of the residuals in the other columns.\n",
        "For this example, I'll use lags of 1 and 6 months."
      ]
    },
    {
      "cell_type": "code",
      "execution_count": null,
      "id": "c9b3b65a",
      "metadata": {
        "id": "c9b3b65a"
      },
      "outputs": [],
      "source": [
        "df_ma = pd.DataFrame({\"resid\": resid_ar})\n",
        "\n",
        "for lag in [1, 6]:\n",
        "    df_ma[f\"lag{lag}\"] = resid_ar.shift(lag)\n",
        "\n",
        "df_ma = df_ma.dropna()"
      ]
    },
    {
      "cell_type": "markdown",
      "id": "a13c6025",
      "metadata": {
        "id": "a13c6025"
      },
      "source": [
        "We can use `ols` to make an autoregression model for the residuals.\n",
        "This part of the model is called a \"moving average\" because it reduces variability in the predictions in a way that's analogous to the effect of a moving average.\n",
        "I don't find that term particularly helpful, but it is conventional.\n",
        "\n",
        "Anyway, here's a summary of the autoregression model for the residuals."
      ]
    },
    {
      "cell_type": "code",
      "execution_count": null,
      "id": "a90516c5",
      "metadata": {
        "id": "a90516c5"
      },
      "outputs": [],
      "source": [
        "formula = make_formula(df_ma)\n",
        "results_ma = smf.ols(formula=formula, data=df_ma).fit()\n",
        "display_summary(results_ma)"
      ]
    },
    {
      "cell_type": "markdown",
      "id": "bf2a3f0e",
      "metadata": {
        "id": "bf2a3f0e"
      },
      "source": [
        "The $R^2$ is quite small, so it looks like this part of the model won't help very much.\n",
        "But the p-value for the 6-month lag is small, which suggests that it contributes more information than we'd expect by chance.\n",
        "\n",
        "Now we can use the model to generate retrodictions for the residuals."
      ]
    },
    {
      "cell_type": "code",
      "execution_count": null,
      "id": "099d7013",
      "metadata": {
        "id": "099d7013"
      },
      "outputs": [],
      "source": [
        "pred_ma = results_ma.predict(df_ma)"
      ]
    },
    {
      "cell_type": "markdown",
      "id": "3bbf7a0d",
      "metadata": {
        "id": "3bbf7a0d"
      },
      "source": [
        "Then, to generate retrodictions for the year-over-year differences, we add the adjustment from the second model to the retrodictions from the first."
      ]
    },
    {
      "cell_type": "code",
      "execution_count": null,
      "id": "cd0854d0",
      "metadata": {
        "id": "cd0854d0"
      },
      "outputs": [],
      "source": [
        "pred_diff = pred_ar + pred_ma"
      ]
    },
    {
      "cell_type": "markdown",
      "id": "82338f56",
      "metadata": {
        "id": "82338f56"
      },
      "source": [
        "The $R^2$ value for the sum of the two models is about 0.332, which is just a little better than the result without the moving average adjustment (0.319)."
      ]
    },
    {
      "cell_type": "code",
      "execution_count": null,
      "id": "8da034da",
      "metadata": {
        "id": "8da034da"
      },
      "outputs": [],
      "source": [
        "resid_ma = (diff - pred_diff).dropna()\n",
        "R2 = 1 - resid_ma.var() / diff.var()\n",
        "R2"
      ]
    },
    {
      "cell_type": "markdown",
      "id": "6bebc6c0",
      "metadata": {
        "id": "6bebc6c0"
      },
      "source": [
        "Next we'll use these year-over-year differences to generate retrodictions for the original values."
      ]
    },
    {
      "cell_type": "markdown",
      "id": "77306417",
      "metadata": {
        "id": "77306417"
      },
      "source": [
        "## Retrodiction with Autoregression\n",
        "\n",
        "To generate retrodictions, we'll start by putting the year-over-year differences in a `Series` that's aligned with the index of the original."
      ]
    },
    {
      "cell_type": "code",
      "execution_count": null,
      "id": "ca29a0dc",
      "metadata": {
        "id": "ca29a0dc"
      },
      "outputs": [],
      "source": [
        "pred_diff = pd.Series(pred_diff, index=nuclear.index)"
      ]
    },
    {
      "cell_type": "markdown",
      "id": "7b89dfe7",
      "metadata": {
        "id": "7b89dfe7"
      },
      "source": [
        "Using `isna` to check for `NaN` values, we find that the first 21 elements of the new `Series` are missing."
      ]
    },
    {
      "cell_type": "code",
      "execution_count": null,
      "id": "6bb6f9ce",
      "metadata": {
        "id": "6bb6f9ce"
      },
      "outputs": [],
      "source": [
        "n_missing = pred_diff.isna().sum()\n",
        "n_missing"
      ]
    },
    {
      "cell_type": "markdown",
      "id": "2b8574ca",
      "metadata": {
        "id": "2b8574ca"
      },
      "source": [
        "That's because we shifted the `Series` by 12 months to compute year-over-year differences, then we shifted the differences 3 months for the first autoregression model, and we shifted the residuals of the first model by 6 months for the second model.\n",
        "Each time we shift a `Series` like this, we lose a few values at the beginning, and the sum of these shifts is 21.\n",
        "\n",
        "So before we can generate retrodictions, we have to prime the pump by copying the first 21 elements from the original into a new `Series`."
      ]
    },
    {
      "cell_type": "code",
      "execution_count": null,
      "id": "4d4fbca5",
      "metadata": {
        "id": "4d4fbca5"
      },
      "outputs": [],
      "source": [
        "pred_series = pd.Series(index=nuclear.index, dtype=float)\n",
        "pred_series.iloc[:n_missing] = nuclear.iloc[:n_missing]"
      ]
    },
    {
      "cell_type": "markdown",
      "id": "7b45b143",
      "metadata": {
        "id": "7b45b143"
      },
      "source": [
        "Now we can run the following loop, which fills in the elements from index 21 (which is the 22nd element) to the end.\n",
        "Each element is the sum of the value from the previous year and the predicted year-over-year difference."
      ]
    },
    {
      "cell_type": "code",
      "execution_count": null,
      "id": "c428d2a6",
      "metadata": {
        "id": "c428d2a6"
      },
      "outputs": [],
      "source": [
        "for i in range(n_missing, len(pred_series)):\n",
        "    pred_series.iloc[i] = pred_series.iloc[i - 12] + pred_diff.iloc[i]"
      ]
    },
    {
      "cell_type": "markdown",
      "id": "8fa8b2aa",
      "metadata": {
        "id": "8fa8b2aa"
      },
      "source": [
        "Now we'll replace the elements we copied with `NaN` so we don't get credit for \"predicting\" the first 21 values perfectly."
      ]
    },
    {
      "cell_type": "code",
      "execution_count": null,
      "id": "553b5db3",
      "metadata": {
        "id": "553b5db3"
      },
      "outputs": [],
      "source": [
        "pred_series[:n_missing] = np.nan"
      ]
    },
    {
      "cell_type": "markdown",
      "id": "69d3f2ca",
      "metadata": {
        "id": "69d3f2ca"
      },
      "source": [
        "Here's what the retrodictions look like compared to the original."
      ]
    },
    {
      "cell_type": "code",
      "execution_count": null,
      "id": "bf59220e",
      "metadata": {
        "id": "bf59220e"
      },
      "outputs": [],
      "source": [
        "pred_series.plot(label=\"predicted\", **pred_options)\n",
        "nuclear.plot(label=\"actual\", **actual_options)\n",
        "decorate(ylabel=\"GWh\")"
      ]
    },
    {
      "cell_type": "markdown",
      "id": "ecc42626",
      "metadata": {
        "id": "ecc42626"
      },
      "source": [
        "They look pretty good, and the $R^2$ value is about 0.86."
      ]
    },
    {
      "cell_type": "code",
      "execution_count": null,
      "id": "dbf3ab79",
      "metadata": {
        "id": "dbf3ab79"
      },
      "outputs": [],
      "source": [
        "resid = (nuclear - pred_series).dropna()\n",
        "R2 = 1 - resid.var() / nuclear.var()\n",
        "R2"
      ]
    },
    {
      "cell_type": "markdown",
      "id": "1876fe15",
      "metadata": {
        "id": "1876fe15"
      },
      "source": [
        "The model we used to compute these retrodictions is called SARIMA, which is one of a family of models called ARIMA.\n",
        "Each part of these acronyms refers to an element of the model.\n",
        "\n",
        "* **S** stands for seasonal, because the first step was to compute differences between values separated by one seasonal period.\n",
        "\n",
        "* **AR** stands for autoregression, which we used to model lagged correlations in the differences.\n",
        "\n",
        "* **I** stands for integrated, because the iterative process we used to compute `pred_series` is analogous to integration in calculus.\n",
        "\n",
        "* **MA** stands for moving average, which is the conventional name for the second autoregression model we ran with the residuals from the first.\n",
        "\n",
        "ARIMA models are powerful and versatile tools for modeling time series data."
      ]
    },
    {
      "cell_type": "markdown",
      "id": "2c8f0a45",
      "metadata": {
        "id": "2c8f0a45"
      },
      "source": [
        "## ARIMA\n",
        "\n",
        "StatsModel provides a library called `tsa`, which stands for \"time series analysis\" -- it includes a function called `ARIMA` that fits ARIMA models and generates forecasts.\n",
        "\n",
        "To fit the SARIMA model we developed in the previous sections, we'll call this function with two tuples as arguments: `order` and `seasonal_order`.\n",
        "Here are the values in `order` that correspond to the model we used in the previous sections."
      ]
    },
    {
      "cell_type": "code",
      "execution_count": null,
      "id": "21b066b2",
      "metadata": {
        "id": "21b066b2"
      },
      "outputs": [],
      "source": [
        "order = ([1, 2, 3], 0, [1, 6])"
      ]
    },
    {
      "cell_type": "markdown",
      "id": "a279923b",
      "metadata": {
        "id": "a279923b"
      },
      "source": [
        "The values in `order` indicate:\n",
        "\n",
        "* Which lags should be included in the AR model -- in this example it's the first three.\n",
        "\n",
        "* How many times it should compute differences between successive elements -- in this example it's 0 because we computed a seasonal difference instead, and we'll get to that in a minute.\n",
        "\n",
        "* Which lags should be included in the MA model -- in this example it's the first and sixth.\n",
        "\n",
        "Now here are the values in `seasonal_order`."
      ]
    },
    {
      "cell_type": "code",
      "execution_count": null,
      "id": "2e5994e1",
      "metadata": {
        "id": "2e5994e1"
      },
      "outputs": [],
      "source": [
        "seasonal_order = (0, 1, 0, 12)"
      ]
    },
    {
      "cell_type": "markdown",
      "id": "a442ae4d",
      "metadata": {
        "id": "a442ae4d"
      },
      "source": [
        "The first and third elements are 0, which means that this model does not include seasonal AR or seasonal MA.\n",
        "The second element is 1, which means it computes seasonal differences -- and the last element is the seasonal period.\n",
        "\n",
        "Here's how we use `ARIMA` to make and fit this model."
      ]
    },
    {
      "cell_type": "code",
      "execution_count": null,
      "id": "bac977ce",
      "metadata": {
        "id": "bac977ce"
      },
      "outputs": [],
      "source": [
        "import statsmodels.tsa.api as tsa\n",
        "\n",
        "model = tsa.ARIMA(nuclear, order=order, seasonal_order=seasonal_order)\n",
        "results_arima = model.fit()\n",
        "display_summary(results_arima)"
      ]
    },
    {
      "cell_type": "markdown",
      "id": "c0004a46",
      "metadata": {
        "id": "c0004a46"
      },
      "source": [
        "The results include estimated coefficients for the three lags in the AR model, the two lags in the MA model, and `sigma2`, which is the variance of the residuals.\n",
        "\n",
        "From `results_arima` we can extract `fittedvalues`, which contains the retrodictions.\n",
        "For the same reason there were missing values at the beginning of the retrodictions we computed, there are incorrect values at the beginning of `fittedvalues`, which we'll drop."
      ]
    },
    {
      "cell_type": "code",
      "execution_count": null,
      "id": "5c46f054",
      "metadata": {
        "id": "5c46f054"
      },
      "outputs": [],
      "source": [
        "fittedvalues = results_arima.fittedvalues[n_missing:]"
      ]
    },
    {
      "cell_type": "markdown",
      "id": "278065a9",
      "metadata": {
        "id": "278065a9"
      },
      "source": [
        "The fitted values are similar to the ones we computed, but not exactly the same -- probably because `ARIMA` handles the initial conditions differently."
      ]
    },
    {
      "cell_type": "code",
      "execution_count": null,
      "id": "721d43f5",
      "metadata": {
        "id": "721d43f5"
      },
      "outputs": [],
      "source": [
        "fittedvalues.plot(label=\"ARIMA model\", **pred_options)\n",
        "nuclear.plot(label=\"actual\", **actual_options)\n",
        "decorate(ylabel=\"GWh\")"
      ]
    },
    {
      "cell_type": "markdown",
      "id": "881934ad",
      "metadata": {
        "id": "881934ad"
      },
      "source": [
        "The $R^2$ value is also similar but not precisely the same."
      ]
    },
    {
      "cell_type": "code",
      "execution_count": null,
      "id": "6ade0f39",
      "metadata": {
        "id": "6ade0f39"
      },
      "outputs": [],
      "source": [
        "resid = fittedvalues - nuclear\n",
        "R2 = 1 - resid.var() / nuclear.var()\n",
        "R2"
      ]
    },
    {
      "cell_type": "markdown",
      "id": "7650362e",
      "metadata": {
        "id": "7650362e"
      },
      "source": [
        "The `ARIMA` function makes it easy to experiment with different versions of the model."
      ]
    },
    {
      "cell_type": "markdown",
      "id": "69c7d949",
      "metadata": {
        "id": "69c7d949",
        "tags": []
      },
      "source": [
        "As an exercise, try out different values in `order` and `seasonal_order` and see if you can  find a model with higher $R^2$."
      ]
    },
    {
      "cell_type": "markdown",
      "id": "e7afff9d",
      "metadata": {
        "id": "e7afff9d"
      },
      "source": [
        "## Prediction with ARIMA\n",
        "\n",
        "The object returned by `ARIMA` provides a method called `get_forecast` that generates predictions.\n",
        "To demonstrate, we'll split the time series into a training and test set, and fit the same model to the training set."
      ]
    },
    {
      "cell_type": "code",
      "execution_count": null,
      "id": "c5abb1b3",
      "metadata": {
        "id": "c5abb1b3"
      },
      "outputs": [],
      "source": [
        "training, test = split_series(nuclear)\n",
        "model = tsa.ARIMA(training, order=order, seasonal_order=seasonal_order)\n",
        "results_training = model.fit()"
      ]
    },
    {
      "cell_type": "markdown",
      "id": "f3cd408d",
      "metadata": {
        "id": "f3cd408d"
      },
      "source": [
        "We can use the result to generate a forecast for the test set."
      ]
    },
    {
      "cell_type": "code",
      "execution_count": null,
      "id": "43e893bb",
      "metadata": {
        "id": "43e893bb"
      },
      "outputs": [],
      "source": [
        "forecast = results_training.get_forecast(steps=len(test))"
      ]
    },
    {
      "cell_type": "markdown",
      "id": "e829f848",
      "metadata": {
        "id": "e829f848"
      },
      "source": [
        "The result is an object that contains an attribute called `forecast_mean` and a function that returns a confidence interval."
      ]
    },
    {
      "cell_type": "code",
      "execution_count": null,
      "id": "0db76919",
      "metadata": {
        "id": "0db76919"
      },
      "outputs": [],
      "source": [
        "forecast_mean = forecast.predicted_mean\n",
        "forecast_ci = forecast.conf_int()\n",
        "forecast_ci.columns = [\"lower\", \"upper\"]"
      ]
    },
    {
      "cell_type": "markdown",
      "id": "d4e96dac",
      "metadata": {
        "id": "d4e96dac"
      },
      "source": [
        "We can plot the results like this and compare them to the actual time series."
      ]
    },
    {
      "cell_type": "code",
      "execution_count": null,
      "id": "6ddaa65c",
      "metadata": {
        "id": "6ddaa65c"
      },
      "outputs": [],
      "source": [
        "plt.fill_between(\n",
        "    forecast_ci.index,\n",
        "    forecast_ci.lower,\n",
        "    forecast_ci.upper,\n",
        "    lw=0,\n",
        "    color=\"gray\",\n",
        "    alpha=0.2,\n",
        ")\n",
        "plt.plot(forecast_mean.index, forecast_mean, label=\"forecast\", **pred_options)\n",
        "plt.plot(test.index, test, label=\"actual\", **actual_options)\n",
        "decorate(ylabel=\"GWh\")"
      ]
    },
    {
      "cell_type": "markdown",
      "id": "dfd5e8ef",
      "metadata": {
        "id": "dfd5e8ef"
      },
      "source": [
        "The actual values fall almost entirely within the confidence interval of the predictions.\n",
        "Here's the MAPE of the predictions."
      ]
    },
    {
      "cell_type": "code",
      "execution_count": null,
      "id": "82f853e2",
      "metadata": {
        "id": "82f853e2"
      },
      "outputs": [],
      "source": [
        "MAPE(forecast_mean, test)"
      ]
    },
    {
      "cell_type": "markdown",
      "id": "1543d544",
      "metadata": {
        "id": "1543d544"
      },
      "source": [
        "The predictions are off by 3.38% on average, somewhat better than the results we got from seasonal decomposition (3.81%).\n",
        "\n",
        "ARIMA is more versatile than seasonal decomposition, and can often make better predictions.\n",
        "In this time series, the autocorrelations are not especially strong, so the advantage of ARIMA is modest."
      ]
    },
    {
      "cell_type": "markdown",
      "id": "db4799b6",
      "metadata": {
        "id": "db4799b6"
      },
      "source": [
        "## Glossary\n",
        "\n",
        "-   **time series**: A dataset where each value is associated with a specific time, often representing measurements taken at regular intervals.\n",
        "\n",
        "-   **seasonal decomposition:** A method of splitting a time series into a long-term trend, a repeating seasonal component, and a residual component.\n",
        "\n",
        "-   **training series:** Part of a time series used to fit a model.\n",
        "\n",
        "-   **test series:** Part of a time series used to check the accuracy of predictions generated by a model.\n",
        "\n",
        "-   **retrodiction:** A prediction for a value observed in the past, often used to test or validate a model.\n",
        "\n",
        "-   **window**: A sequence of consecutive values in a time series, used to compute a moving average.\n",
        "\n",
        "-   **moving average**: A time series computed by averaging values in overlapping windows to smooth fluctuations.\n",
        "\n",
        "-   **serial correlation**: The correlation between successive elements of a time series.\n",
        "\n",
        "-   **autocorrelation**: A correlation between a time series and a shifted or lagged version of itself.\n",
        "\n",
        "-   **lag**: The size of the shift in a serial correlation or autocorrelation."
      ]
    },
    {
      "cell_type": "markdown",
      "id": "4ce1ad7f",
      "metadata": {
        "collapsed": true,
        "id": "4ce1ad7f"
      },
      "source": [
        "## Exercises"
      ]
    },
    {
      "cell_type": "markdown",
      "id": "282e2f79",
      "metadata": {
        "id": "282e2f79"
      },
      "source": [
        "### Exercise 12.1\n",
        "\n",
        "As an example of seasonal decomposition, let's model monthly average surface temperatures in the United States.\n",
        "We'll use a dataset from Our World in Data that includes \"temperature [in Celsius] of the air measured 2 meters above the ground, encompassing land, sea, and in-land water surfaces,\" for most countries in the world from 1950 to 2024.\n",
        "Instructions for downloading the data are in the notebook for this chapter."
      ]
    },
    {
      "cell_type": "code",
      "execution_count": null,
      "id": "64a0421e",
      "metadata": {
        "id": "64a0421e",
        "tags": []
      },
      "outputs": [],
      "source": [
        "# The following cell downloads data prepared by Our World in Data,\n",
        "# which I Downloaded September 18, 2024\n",
        "# from https://ourworldindata.org/grapher/average-monthly-surface-temperature\n",
        "\n",
        "# Based on modified data from Copernicus Climate Change Service information (2019)\n",
        "# with \"major processing\" by Our World in Data"
      ]
    },
    {
      "cell_type": "code",
      "execution_count": null,
      "id": "c1409619",
      "metadata": {
        "id": "c1409619",
        "tags": []
      },
      "outputs": [],
      "source": [
        "filename = \"monthly-average-surface-temperatures-by-year.csv\"\n",
        "download(\"https://github.com/AllenDowney/ThinkStats/raw/v3/data/\" + filename)"
      ]
    },
    {
      "cell_type": "markdown",
      "id": "220aa091",
      "metadata": {
        "id": "220aa091"
      },
      "source": [
        "We can read the data like this."
      ]
    },
    {
      "cell_type": "code",
      "execution_count": null,
      "id": "e23292c1",
      "metadata": {
        "id": "e23292c1"
      },
      "outputs": [],
      "source": [
        "temp = pd.read_csv(\"monthly-average-surface-temperatures-by-year.csv\")"
      ]
    },
    {
      "cell_type": "code",
      "execution_count": null,
      "id": "1864695e",
      "metadata": {
        "id": "1864695e",
        "tags": []
      },
      "outputs": [],
      "source": [
        "temp.head()"
      ]
    },
    {
      "cell_type": "markdown",
      "id": "cd3d58dc",
      "metadata": {
        "id": "cd3d58dc"
      },
      "source": [
        "The following cell selects data for the United States from 2001 to the end of the series and packs it into a Pandas `Series`."
      ]
    },
    {
      "cell_type": "code",
      "execution_count": null,
      "id": "36f6e6e0",
      "metadata": {
        "id": "36f6e6e0"
      },
      "outputs": [],
      "source": [
        "temp_us = temp.query(\"Code == 'USA'\")\n",
        "columns = [str(year) for year in range(2000, 2025)]\n",
        "temp_series = temp_us.loc[:, columns].transpose().stack()\n",
        "temp_series.index = pd.date_range(start=\"2000-01\", periods=len(temp_series), freq=\"ME\")"
      ]
    },
    {
      "cell_type": "markdown",
      "id": "31bcb627",
      "metadata": {
        "id": "31bcb627"
      },
      "source": [
        "Here's what it looks like."
      ]
    },
    {
      "cell_type": "code",
      "execution_count": null,
      "id": "4f1d6400",
      "metadata": {
        "id": "4f1d6400"
      },
      "outputs": [],
      "source": [
        "temp_series.plot(label=\"monthly average\", **actual_options)\n",
        "decorate(ylabel=\"Surface temperature (degC)\")"
      ]
    },
    {
      "cell_type": "markdown",
      "id": "5cdd9ac9",
      "metadata": {
        "id": "5cdd9ac9"
      },
      "source": [
        "Not surprisingly, there is a strong seasonal pattern.\n",
        "Compute an additive seasonal decomposition with a period of 12 months.\n",
        "Fit a linear model to the trend line.\n",
        "What is the average annual increase in surface temperature during this interval?\n",
        "If you are curious, repeat this analysis with other intervals or data from other countries."
      ]
    },
    {
      "cell_type": "code",
      "execution_count": null,
      "id": "97f3f979",
      "metadata": {
        "id": "97f3f979"
      },
      "outputs": [],
      "source": [
        "# Solution goes here"
      ]
    },
    {
      "cell_type": "code",
      "execution_count": null,
      "id": "eb6dbee8",
      "metadata": {
        "id": "eb6dbee8"
      },
      "outputs": [],
      "source": [
        "# Solution goes here"
      ]
    },
    {
      "cell_type": "code",
      "execution_count": null,
      "id": "34586f71",
      "metadata": {
        "id": "34586f71"
      },
      "outputs": [],
      "source": [
        "# Solution goes here"
      ]
    },
    {
      "cell_type": "code",
      "execution_count": null,
      "id": "a80a0bea",
      "metadata": {
        "id": "a80a0bea"
      },
      "outputs": [],
      "source": [
        "# Solution goes here"
      ]
    },
    {
      "cell_type": "code",
      "execution_count": null,
      "id": "8cd1167e",
      "metadata": {
        "id": "8cd1167e"
      },
      "outputs": [],
      "source": [
        "# Solution goes here"
      ]
    },
    {
      "cell_type": "code",
      "execution_count": null,
      "id": "510133cf",
      "metadata": {
        "id": "510133cf"
      },
      "outputs": [],
      "source": [
        "# Solution goes here"
      ]
    },
    {
      "cell_type": "code",
      "execution_count": null,
      "id": "e53099d4",
      "metadata": {
        "id": "e53099d4"
      },
      "outputs": [],
      "source": [
        "# Solution goes here"
      ]
    },
    {
      "cell_type": "code",
      "execution_count": null,
      "id": "ddbe1f25",
      "metadata": {
        "id": "ddbe1f25"
      },
      "outputs": [],
      "source": [
        "# Solution goes here"
      ]
    },
    {
      "cell_type": "code",
      "execution_count": null,
      "id": "20848d93",
      "metadata": {
        "id": "20848d93"
      },
      "outputs": [],
      "source": [
        "# Solution goes here"
      ]
    },
    {
      "cell_type": "markdown",
      "id": "f6e97eba",
      "metadata": {
        "id": "f6e97eba"
      },
      "source": [
        "### Exercise 12.2\n",
        "\n",
        "Earlier in this chapter we used a multiplicative seasonal decomposition to model electricity production from small-scale solar power from 2014 to 2019 and forecast production from 2019 to 2024.\n",
        "Now let's do the same with utility-scale solar power.\n",
        "Here's what the time series looks like."
      ]
    },
    {
      "cell_type": "code",
      "execution_count": null,
      "id": "4fece155",
      "metadata": {
        "id": "4fece155"
      },
      "outputs": [],
      "source": [
        "util_solar = elec[\"United States : all utility-scale solar\"].dropna()\n",
        "util_solar = util_solar[util_solar.index.year >= 2014]\n",
        "util_solar.plot(**actual_options)\n",
        "decorate(ylabel=\"GWh\")"
      ]
    },
    {
      "cell_type": "markdown",
      "id": "9bf7ac4c",
      "metadata": {
        "id": "9bf7ac4c"
      },
      "source": [
        "Use `split_series` to split this data into a training and test series.\n",
        "Compute a multiplicative decomposition of the training series with a 12-month period.\n",
        "Fit a linear or quadratic model to the trend and generate a five-year forecast, including a seasonal component.\n",
        "Plot the forecast along with the test series, and compute the mean absolute percentage error (MAPE)."
      ]
    },
    {
      "cell_type": "code",
      "execution_count": null,
      "id": "99502476",
      "metadata": {
        "id": "99502476"
      },
      "outputs": [],
      "source": [
        "# Solution goes here"
      ]
    },
    {
      "cell_type": "code",
      "execution_count": null,
      "id": "48d4df0c",
      "metadata": {
        "id": "48d4df0c"
      },
      "outputs": [],
      "source": [
        "# Solution goes here"
      ]
    },
    {
      "cell_type": "code",
      "execution_count": null,
      "id": "0c78697d",
      "metadata": {
        "id": "0c78697d"
      },
      "outputs": [],
      "source": [
        "# Solution goes here"
      ]
    },
    {
      "cell_type": "code",
      "execution_count": null,
      "id": "9a6f1e85",
      "metadata": {
        "id": "9a6f1e85"
      },
      "outputs": [],
      "source": [
        "# Solution goes here"
      ]
    },
    {
      "cell_type": "code",
      "execution_count": null,
      "id": "fb9600fc",
      "metadata": {
        "id": "fb9600fc"
      },
      "outputs": [],
      "source": [
        "# Solution goes here"
      ]
    },
    {
      "cell_type": "code",
      "execution_count": null,
      "id": "b2a7338c",
      "metadata": {
        "id": "b2a7338c"
      },
      "outputs": [],
      "source": [
        "# Solution goes here"
      ]
    },
    {
      "cell_type": "code",
      "execution_count": null,
      "id": "5fb0d954",
      "metadata": {
        "id": "5fb0d954"
      },
      "outputs": [],
      "source": [
        "# Solution goes here"
      ]
    },
    {
      "cell_type": "code",
      "execution_count": null,
      "id": "2c0ef6a8",
      "metadata": {
        "id": "2c0ef6a8"
      },
      "outputs": [],
      "source": [
        "# Solution goes here"
      ]
    },
    {
      "cell_type": "code",
      "execution_count": null,
      "id": "8db23f17",
      "metadata": {
        "id": "8db23f17"
      },
      "outputs": [],
      "source": [
        "# Solution goes here"
      ]
    },
    {
      "cell_type": "markdown",
      "id": "ff741b88",
      "metadata": {
        "id": "ff741b88"
      },
      "source": [
        "### Exercise 12.3\n",
        "\n",
        "Let's see how well an ARIMA model fits production from hydroelectric generators in the United States.\n",
        "Here's what the time series looks like from 2001 to 2024."
      ]
    },
    {
      "cell_type": "code",
      "execution_count": null,
      "id": "99628a87",
      "metadata": {
        "id": "99628a87"
      },
      "outputs": [],
      "source": [
        "hydro = elec[\"United States : conventional hydroelectric\"]\n",
        "hydro.plot(**actual_options)\n",
        "decorate(ylabel=\"GWh\")"
      ]
    },
    {
      "cell_type": "markdown",
      "id": "14bd1a19",
      "metadata": {
        "id": "14bd1a19"
      },
      "source": [
        "Fit a SARIMA model to this data with a seasonal period of 12 months.\n",
        "Experiment with different lags in the autoregression and moving average parts of the model and see if you can find a combination that maximizes the $R^2$ value of the model.\n",
        "Generate a five-year forecast and plot it along with its confidence interval.\n",
        "\n",
        "NOTE: Depending on what lags you include in the model, you might find that the first 12 to 24 elements of the fitted values are not reliable. You might want to remove them before plotting or computing $R^2$."
      ]
    },
    {
      "cell_type": "code",
      "execution_count": null,
      "id": "f71affc1",
      "metadata": {
        "id": "f71affc1"
      },
      "outputs": [],
      "source": [
        "# Solution goes here"
      ]
    },
    {
      "cell_type": "code",
      "execution_count": null,
      "id": "0b356641",
      "metadata": {
        "id": "0b356641"
      },
      "outputs": [],
      "source": [
        "# Solution goes here"
      ]
    },
    {
      "cell_type": "code",
      "execution_count": null,
      "id": "55335ec5",
      "metadata": {
        "id": "55335ec5"
      },
      "outputs": [],
      "source": [
        "# Solution goes here"
      ]
    },
    {
      "cell_type": "code",
      "execution_count": null,
      "id": "7333cf20",
      "metadata": {
        "id": "7333cf20"
      },
      "outputs": [],
      "source": [
        "# Solution goes here"
      ]
    },
    {
      "cell_type": "code",
      "execution_count": null,
      "id": "24aa29ce",
      "metadata": {
        "id": "24aa29ce"
      },
      "outputs": [],
      "source": [
        "# Solution goes here"
      ]
    },
    {
      "cell_type": "code",
      "execution_count": null,
      "id": "757b4195",
      "metadata": {
        "id": "757b4195"
      },
      "outputs": [],
      "source": [
        "# Solution goes here"
      ]
    },
    {
      "cell_type": "code",
      "execution_count": null,
      "id": "c0d2470f",
      "metadata": {
        "id": "c0d2470f"
      },
      "outputs": [],
      "source": [
        "# Solution goes here"
      ]
    },
    {
      "cell_type": "markdown",
      "id": "e27da3a4",
      "metadata": {
        "id": "e27da3a4",
        "tags": []
      },
      "source": [
        "[Think Stats: Exploratory Data Analysis in Python, 3rd Edition](https://allendowney.github.io/ThinkStats/index.html)\n",
        "\n",
        "Copyright 2024 [Allen B. Downey](https://allendowney.com)\n",
        "\n",
        "Code license: [MIT License](https://mit-license.org/)\n",
        "\n",
        "Text license: [Creative Commons Attribution-NonCommercial-ShareAlike 4.0 International](https://creativecommons.org/licenses/by-nc-sa/4.0/)"
      ]
    }
  ],
  "metadata": {
    "celltoolbar": "Tags",
    "colab": {
      "provenance": []
    },
    "kernelspec": {
      "display_name": "Python 3 (ipykernel)",
      "language": "python",
      "name": "python3"
    },
    "language_info": {
      "codemirror_mode": {
        "name": "ipython",
        "version": 3
      },
      "file_extension": ".py",
      "mimetype": "text/x-python",
      "name": "python",
      "nbconvert_exporter": "python",
      "pygments_lexer": "ipython3",
      "version": "3.11.0"
    }
  },
  "nbformat": 4,
  "nbformat_minor": 5
}
